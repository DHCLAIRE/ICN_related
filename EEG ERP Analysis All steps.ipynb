{
 "cells": [
  {
   "cell_type": "code",
   "execution_count": null,
   "id": "88bd7057",
   "metadata": {},
   "outputs": [],
   "source": [
    "%matplotlib"
   ]
  },
  {
   "cell_type": "code",
   "execution_count": null,
   "id": "3d6a3394",
   "metadata": {},
   "outputs": [],
   "source": [
    "import mne\n",
    "from pprint import pprint\n",
    "import json\n",
    "import csv\n",
    "import numpy as np\n",
    "import pandas as pd\n",
    "from mne.preprocessing import (ICA, create_eog_epochs, create_ecg_epochs, corrmap)\n",
    "from pathlib import Path\n",
    "import re"
   ]
  },
  {
   "cell_type": "markdown",
   "id": "555e667a",
   "metadata": {},
   "source": [
    "# Part one\n",
    "## EEG preprocessing\n",
    "\n",
    "### Step 1: Load data\n",
    "### Step 2: ICA\n",
    "### Step 3: Save ICAed data\n",
    "\n",
    "# Part two\n",
    "## EEG ERP (epochs to evoked)\n",
    "\n",
    "### Step 4: Change trigger labels\n",
    "### Step 5: Label epoch\n",
    "### Step 6: Save epoch\n",
    "\n",
    "# Part o\n",
    "## EEG ERP (statistics)\n",
    "\n",
    "### Step 7: Gather all subjects' epochs\n",
    "### Step 8: Grand average\n",
    "### Step 9: Draw ERP\n",
    "### Step 10: Report ERP statistics"
   ]
  },
  {
   "cell_type": "code",
   "execution_count": null,
   "id": "561875a2",
   "metadata": {},
   "outputs": [],
   "source": [
    "# Step 1: Open the cnt file form of EEG data\n",
    "# >> /Volumes/Neurolang_1/Master Program/New_Thesis_topic/Experiments_Results/EEG_ESLs\n",
    "\n",
    "root_data_path = Path('/Volumes/Neurolang_1/Master Program/New_Thesis_topic/Experiments_Results')\n",
    "eeg_data_path = root_data_path / \"EEG_ESLs\"\n",
    "\n",
    "sub_idINT = 30\n",
    "\n",
    "cntFile = eeg_data_path / Path('S%.3d_Alice.cnt' %sub_idINT)  #'S001_Alice.cnt'     # %.3d >> d = digits, 3 = 3digits\n",
    "\n",
    "# S020_Alice.cnt\n",
    "\n",
    "'''\n",
    "S001_Alice.cnt: 最外圈的（編號尾數7的）沒有很毛，所以不exclude\n",
    "'''\n",
    "\n",
    "raw = mne.io.read_raw_cnt(cntFile, preload=True)\n",
    "\n",
    "#raw.load_data()\n",
    "#raw.plot()\n",
    "print(raw.info)\n",
    "print(raw.info[\"ch_names\"])\n",
    "print(raw.info[\"nchan\"])\n",
    "\n",
    "\n",
    "\n",
    "# Downsample to 100Hz, take off the filter, and exclude certain channels\n",
    "n_raw = raw.copy()\n",
    "n_raw.filter(0.1, 200, phase= 'zero-double')  # 再加0.1~30** / 1~30(訊號被扭曲的機率會更大) ，再重跑ICA  5-20Hz\n",
    "n_raw.resample(sfreq=100)\n",
    "n_raw.set_eeg_reference(['M1', 'M2'])\n",
    "n_raw.pick_types(eeg=True, stim=False, exclude=['M1', 'M2', 'O1', 'OZ', 'O2', 'CB1', 'CB2', 'VEO', 'HEO', 'Audio'])\n",
    "# remove dc-offset                                                     # 'VEO', 'HEO', 'Audio' >> new layouts  #'HEOG', 'VEOG'\n",
    "\n",
    "# set montage????? yes!!!\n",
    "ten_twenty_montage = mne.channels.make_standard_montage('standard_1020')  # for NCU-ICN's Room 608 EEG\n",
    "n_raw.set_montage(ten_twenty_montage, match_case=False)\n",
    "n_raw.plot()\n"
   ]
  },
  {
   "cell_type": "code",
   "execution_count": null,
   "id": "212740c9",
   "metadata": {},
   "outputs": [],
   "source": [
    "n_raw.plot_sensors() #(ch_type=\"eeg\")"
   ]
  },
  {
   "cell_type": "code",
   "execution_count": null,
   "id": "ba1f4239",
   "metadata": {},
   "outputs": [],
   "source": [
    "## WE NEED TO USE THE CUT FILE TO PERFORM ICA!!!\n",
    "\n",
    "# ICA\n",
    "ica_ = ICA(n_components = 15, random_state=97)\n",
    "ica_.fit(n_raw)\n",
    "\n",
    "# plot ICA\n",
    "#n_raw.plot_sensors(sphere = (0.0, 0.02, 0.0, 0.065))\n",
    "\n",
    "# Exclude certain components\n",
    "ica_.plot_sources(n_raw)\n",
    "ica_.plot_components(sphere = (0.0, 0.02, 0.0, 0.065))  # What is this sphere for??\n",
    "#ica_.plot_overlay(n_raw, exclude=[0, 8])"
   ]
  },
  {
   "cell_type": "code",
   "execution_count": null,
   "id": "fb210c73",
   "metadata": {},
   "outputs": [],
   "source": [
    "for i in range(15):\n",
    "    #ica_.plot_properties(n_raw, picks=[i])\n",
    "    ica_.plot_overlay(n_raw, exclude=[i])"
   ]
  },
  {
   "cell_type": "code",
   "execution_count": null,
   "id": "6e977c97",
   "metadata": {},
   "outputs": [],
   "source": [
    "#c_all_tmpLIST = list(range(0, 15))\n",
    "#print(c_all_tmpLIST)\n",
    "\n",
    "ica_.plot_overlay(n_raw, exclude=[0, 1, 10])"
   ]
  },
  {
   "cell_type": "code",
   "execution_count": null,
   "id": "ceab4712",
   "metadata": {},
   "outputs": [],
   "source": [
    "#### What the hack is this?????\n",
    "\n",
    "# This is the properties of each component\n",
    "#ica_.plot_properties(n_raw, picks=[0, 1, 2, 3, 4, 5, 6, 7, 8])\n",
    "\n",
    "# apply the cleaned ICA to the data \n",
    "raw_ICAed = n_raw.copy()\n",
    "ica_.exclude = [0, 1, 3, 5, 7, 10]\n",
    "\n",
    "ica_.plot_overlay(raw_ICAed, exclude=ica_.exclude)\n",
    "\n",
    "ica_.apply(raw_ICAed)\n",
    "#raw_ICAed.plot()"
   ]
  },
  {
   "cell_type": "code",
   "execution_count": null,
   "id": "74bd32bc",
   "metadata": {},
   "outputs": [],
   "source": [
    "# Save the ICAed data into fif file\n",
    "#raw_ICAed.save(eeg_data_path/'Alice_ESL_ICAed_fif'/Path('_S%.3d_ICAed_raw.fif' %sub_idINT), overwrite=True)\n",
    "raw_ICAed.save(eeg_data_path/'Alice_ESL_ICAed_fif'/Path('S%.3d_ICAed_raw.fif' %sub_idINT), overwrite=True)"
   ]
  },
  {
   "cell_type": "markdown",
   "id": "e6b5bcd3",
   "metadata": {},
   "source": [
    "# EEG ERP (epochs to evoked)\n",
    "\n",
    "### Step 4: Change trigger labels\n",
    "### Step 5: Label epoch\n",
    "### Step 6: Save epoch"
   ]
  },
  {
   "cell_type": "code",
   "execution_count": null,
   "id": "15fdcc13",
   "metadata": {},
   "outputs": [],
   "source": [
    "# Creating the epochs(The Original one_without the tag of H&L-CD )\n",
    "events = mne.find_events(n_LDT_raw, stim_channel='STI 014')  #just checking what stim_channel documenting what.\n",
    "event_id = {'word_onset': 1}  \n",
    "\n",
    "tmin = -0.1         \t\t\t\t\t\t\t\t# pre stimulis interval (in seconds) #\n",
    "tmax = 1       \t\t\t\t\t\t\t\t# post stimulus interval #\n",
    "\n",
    "baseline = (-0.1, 0)  # tmin ~ 0 , -0.1s-0s   \n",
    "reject = dict(mag=4e-12)  # 5e-12 dropped so many\n",
    "\n",
    "# Load in the channels layouts\n",
    "kit_lay = mne.channels.read_layout(\"KIT-157\")\n",
    "\n",
    "#n_LDT_raw.load_data().pick_types(meg=True, stim=True).filter(0, 30, phase='zero-double').resample(500)\n",
    "epoch_LDT = mne.Epochs(n_LDT_raw, events, event_id, tmin, tmax, baseline=baseline\n",
    "                    , reject=reject,preload=True)\n",
    "\n",
    "#epoch_LDT.plot()"
   ]
  },
  {
   "cell_type": "code",
   "execution_count": null,
   "id": "27af1ad0",
   "metadata": {},
   "outputs": [],
   "source": [
    "# get to know the reason of bad epoch drop\n",
    "print(epoch_LDT.drop_log)"
   ]
  },
  {
   "cell_type": "code",
   "execution_count": null,
   "id": "9eb5c1e5",
   "metadata": {},
   "outputs": [],
   "source": [
    "# Load in the csv file of word onset\n",
    "print(root_data_path)\n",
    "csv_data = root_data_path / \"All_PLDT_raw_results.csv\"  # self-made LMM data form\n",
    "\n",
    "sub_ansLIST = []\n",
    "with open(csv_data, \"r\", encoding=\"UTF-8\") as f:\n",
    "    fileLIST = f.read().split(\"\\n\")\n",
    "    fileLIST.pop(0)  # exclude the headlines\n",
    "    fileLIST.pop(-1) # exclude the last one (blank)\n",
    "    \n",
    "    #pprint(fileLIST[0:10][2])\n",
    "    pprint(fileLIST)\n",
    "    print(len(fileLIST))"
   ]
  },
  {
   "cell_type": "code",
   "execution_count": null,
   "id": "c693b744",
   "metadata": {},
   "outputs": [],
   "source": [
    "# set up the sub_id into string\n",
    "tmp_id = \"%.3d\" %sub_id   # 5678 =! 005~008 >> use %d\n",
    "print(tmp_id)\n",
    "print(type(tmp_id))\n",
    "\n",
    "# create blank LIST for later use\n",
    "sub_ansLIST = []\n",
    "\n",
    "# create the LIST of the target sub's answer\n",
    "for row in fileLIST:\n",
    "    row = row.split(\",\")\n",
    "    sub_id_STR = row[0]\n",
    "    #print(sub_id_STR)\n",
    "    #print(type(sub_id_STR))\n",
    "    \n",
    "    # check the sub_id in the whole dataset\n",
    "    if sub_id_STR == tmp_id:\n",
    "        sub_ansLIST.append(row)\n",
    "    else:\n",
    "        pass\n",
    "        \n",
    "pprint(sub_ansLIST)\n",
    "print(len(sub_ansLIST))"
   ]
  },
  {
   "cell_type": "code",
   "execution_count": null,
   "id": "b6518282",
   "metadata": {},
   "outputs": [],
   "source": [
    "all_eventsArray = events.copy()\n",
    "#print(all_eventsArray[0][0])\n",
    "\n",
    "# C == control group; H == H_CD; L == L_CD\n",
    "# event_id >> C==9; H==1; L==2\n",
    "\n",
    "C_LIST = []\n",
    "H_LIST = []\n",
    "L_LIST = []\n",
    "\n",
    "# Change the event id according to the condition\n",
    "for row in sub_ansLIST:\n",
    "    #print(row)\n",
    "    \n",
    "    index_eventINT = sub_ansLIST.index(row)\n",
    "    #print(index_eventINT)\n",
    "    conditionSTR = row[1]\n",
    "    #print(row[0], row[1])\n",
    "    \n",
    "    if conditionSTR == \"C\":\n",
    "        #print(index_eventINT, \"=\", conditionSTR)\n",
    "        all_eventsArray[index_eventINT][2] = 9\n",
    "        #C_LIST.append(conditionSTR)\n",
    "\n",
    "    if conditionSTR == \"H\":\n",
    "        #print(index_eventINT, \"=\", conditionSTR)\n",
    "        all_eventsArray[index_eventINT][2] = 1\n",
    "        #H_LIST.append(conditionSTR)\n",
    "        \n",
    "    if conditionSTR == \"L\":       \n",
    "        #print(index_eventINT, \"=\", conditionSTR)\n",
    "        all_eventsArray[index_eventINT][2] = 2\n",
    "        #L_LIST.append(conditionSTR)\n",
    "    else:\n",
    "        pass \n",
    "\n",
    "all_eventsArray"
   ]
  },
  {
   "cell_type": "code",
   "execution_count": null,
   "id": "1a91ffc3",
   "metadata": {},
   "outputs": [],
   "source": [
    "# Creating the new epochs\n",
    "events = all_eventsArray  #mne.find_events(raw_ICAed, stim_channel='STI 014')  #just checking what stim_channel documenting what.\n",
    "event_id = {'High_CD':1,'Low_CD':2, 'Control': 9}  \n",
    "\n",
    "tmin = -0.1         \t\t\t\t\t\t\t\t# pre stimulis interval (in seconds) #\n",
    "tmax = 0.7          \t\t\t\t\t\t\t\t# post stimulus interval #\n",
    "\n",
    "baseline = (None, 0)  # tmin ~ 0 , -0.1s-0s   \n",
    "reject = dict(mag=4e-12)\n",
    "\n",
    "# Load in the channels layouts\n",
    "kit_lay = mne.channels.read_layout(\"KIT-157\")\n",
    "\n",
    "n_LDT_raw.load_data().pick_types(meg=True, stim=False).filter(0, 30, phase= 'zero-double').resample(500)\n",
    "n_epoch_LDT = mne.Epochs(n_LDT_raw, events, event_id, tmin, tmax,\n",
    "                    baseline=baseline,\n",
    "                    reject = reject, preload = True)\n",
    "\n",
    "n_epoch_LDT"
   ]
  },
  {
   "cell_type": "code",
   "execution_count": null,
   "id": "8bfd30b5",
   "metadata": {},
   "outputs": [],
   "source": [
    "n_epoch_LDT.save(meg_data_path / Path('S%.3d_ICAed_LDT-epo.fif' %sub_id), overwrite=True)"
   ]
  },
  {
   "cell_type": "markdown",
   "id": "ebc057dc",
   "metadata": {},
   "source": [
    "# EEG ERP (statistics)\n",
    "\n",
    "### Step 7: Gather all subjects' epochs\n",
    "### Step 8: Grand average\n",
    "### Step 9: Draw ERP\n",
    "### Step 10: Report ERP statistics"
   ]
  },
  {
   "cell_type": "code",
   "execution_count": null,
   "id": "4179a6e1",
   "metadata": {},
   "outputs": [],
   "source": [
    "# To see the average evoked of every participants so far\n",
    "\n",
    "#evoked_C = all_sub_epochsLIST[\"Control\"].average()\n",
    "evoked_H = all_sub_epochsLIST[\"High_CD\"].average()\n",
    "evoked_L = all_sub_epochsLIST[\"Low_CD\"].average()\n",
    "\n",
    "#evoked_C.comment = 'Control'\n",
    "evoked_H.comment = 'High_CD'\n",
    "evoked_L.comment = 'Low_CD'\n",
    "\n",
    "tmp = [evoked_H, evoked_L] # [evoked_H, evoked_L]evoked_C, \n",
    "colors = 'blue', 'green'  #C:'red'H:'blue'; L:'green';   # 'blue', 'green'\n",
    "mne.viz.plot_evoked_topo(tmp, color = colors)"
   ]
  },
  {
   "cell_type": "code",
   "execution_count": null,
   "id": "df3aa471",
   "metadata": {},
   "outputs": [],
   "source": [
    "evoked_L.plot_topomap()"
   ]
  },
  {
   "cell_type": "code",
   "execution_count": null,
   "id": "2947a8d4",
   "metadata": {},
   "outputs": [],
   "source": [
    "# Plot the joint\n",
    "#mne.viz.plot_compare_evokeds(tmp, picks='mag')\n",
    "H_minus_L = mne.combine_evoked([evoked_H, evoked_L], weights=[1, -1])\n",
    "H_minus_L.plot_joint()\n",
    "plt.savefig(meg_data_path / Path('H-minus-L_evoked.png'), overwrite=True)\n",
    "\n",
    "# Plot the specific times\n",
    "times = np.linspace(0.05, 0.650, 13)\n",
    "H_minus_L.plot_topomap(ch_type='mag', times=times, colorbar=True)\n",
    "plt.savefig(meg_data_path / Path('H-minus-L_evoked_topomap.png'), overwrite=True)"
   ]
  },
  {
   "cell_type": "code",
   "execution_count": null,
   "id": "331d54b5",
   "metadata": {},
   "outputs": [],
   "source": [
    "#evoked_C = n_epoch_LDT[\"Control\"].average()\n",
    "evoked_H = all_sub_epochsLIST[\"High_CD\"].average()\n",
    "evoked_L = all_sub_epochsLIST[\"Low_CD\"].average()\n",
    "\n",
    "times = np.linspace(0.05, 0.45, 9)\n",
    "#evoked_C.plot_topomap(ch_type='mag', times=times, colorbar=True)\n",
    "evoked_H.plot_topomap(ch_type='mag', times=times, colorbar=True)\n",
    "plt.savefig(meg_data_path / Path('HCD-evoked_topomap.png'), overwrite=True)\n",
    "evoked_L.plot_topomap(ch_type='mag', times=times, colorbar=True)\n",
    "plt.savefig(meg_data_path / Path('LCD-evoked_topomap.png'), overwrite=True)"
   ]
  },
  {
   "cell_type": "code",
   "execution_count": null,
   "id": "c45f2678",
   "metadata": {},
   "outputs": [],
   "source": [
    "# Check the resluts of some channel\n",
    "# MEG 043最大/ MEG 048_跟046一樣小/ MEG 045 ＝ MEG 044＿比046大一點/ MEG 046_小/ MEG 047_比046小\n",
    "\n",
    "mne.viz.plot_compare_evokeds(tmp, picks='MEG 043')\n",
    "mne.viz.plot_compare_evokeds(tmp, picks='MEG 044')\n",
    "mne.viz.plot_compare_evokeds(tmp, picks='MEG 045')\n",
    "mne.viz.plot_compare_evokeds(tmp, picks='MEG 048')"
   ]
  },
  {
   "cell_type": "markdown",
   "id": "0c330197",
   "metadata": {},
   "source": [
    "### Grand Average"
   ]
  },
  {
   "cell_type": "code",
   "execution_count": null,
   "id": "fb0c6e63",
   "metadata": {},
   "outputs": [],
   "source": [
    "# Get the combined epochs to get the data in specific time window for statistics analysis\n",
    "root_data_path = Path(\"/Volumes/Neurolang_1/Project_Assistant/2021_Ongoing/2020_LTTC/Experiment_materials/LTTC_MEG\")\n",
    "meg_data_path = root_data_path / \"LTTC_MEG_ALL_results\"\n",
    "\n",
    "\n",
    "#print(root_data_path)\n",
    "\n",
    "\n",
    "\"\"\"\n",
    "n_epoch_LDT = mne.read_epochs(meg_data_path / Path('009-016_LDT-merge-epo.fif'))\n",
    "n_epoch_LDT.pick('mag')\n",
    "#n_epoch_LDT = n_epoch_LDT.load_data().get_data()\n",
    "#print(n_epoch_LDT)\n",
    "print(len(n_epoch_LDT))\n",
    "\n",
    "n_epoch_LDT.plot()\n",
    "\"\"\"\n",
    "\n",
    "\n",
    "tmp_sub_evoked_meanH_LIST = []\n",
    "all_sub_evoked_meanH_LIST = []\n",
    "\n",
    "tmp_sub_evoked_meanL_LIST = []\n",
    "all_sub_evoked_meanL_LIST = []\n",
    "\n",
    "for idINT in range(9, 17):\n",
    "    sub_id = idINT\n",
    "    \n",
    "    # Load in the epochs of each subs\n",
    "    n_epoch_LDT = mne.read_epochs(meg_data_path / Path('S%.3d_ICAed_LDT-epo.fif' %sub_id))   \n",
    "    n_epoch_LDT.pick('mag').crop(0.4, 0.6).pick_channels([\"MEG 048\"])\n",
    "    \n",
    "    # Get the evoked responses from the epochs\n",
    "    evoked_H = n_epoch_LDT[\"High_CD\"].average()\n",
    "    evoked_L = n_epoch_LDT[\"Low_CD\"].average()\n",
    "    \n",
    "    #print(evoked_H)\n",
    "    \n",
    "    # Get the data of certain time range of the evoked, we should pick the certain channel to conduct statistics\n",
    "    #tmp_evoked_H = evoked_H().copy()\n",
    "    #tmp_evoked_L = evoked_L().copy()\n",
    "    tmp_data_H_FLOAT = evoked_H.copy().get_data().mean()\n",
    "    tmp_data_L_FLOAT = evoked_L.copy().get_data().mean()\n",
    "    \n",
    "    print(\"                         S%.3d_H\" %sub_id, tmp_data_H_FLOAT)\n",
    "    print(\"                         S%.3d_L\" %sub_id, tmp_data_L_FLOAT)\n",
    "    \n",
    "    tmp_sub_evoked_meanH_LIST.extend([tmp_data_H_FLOAT])\n",
    "    tmp_sub_evoked_meanL_LIST.extend([tmp_data_L_FLOAT])\n",
    "    \n",
    "    print(\"                                                   HEREEEEEE!!\", len(tmp_sub_evoked_meanH_LIST))\n",
    "    print(\"                                                   HEREEEEEE!!\", len(tmp_sub_evoked_meanL_LIST))\n",
    "    \n",
    "    #all_sub_epochsLIST = mne.concatenate_epochs(tmp_sub_epochsLIST)\n"
   ]
  },
  {
   "cell_type": "code",
   "execution_count": null,
   "id": "1700df1c",
   "metadata": {},
   "outputs": [],
   "source": [
    "print(tmp_sub_evoked_meanH_LIST)\n",
    "print(tmp_sub_evoked_meanL_LIST)"
   ]
  },
  {
   "cell_type": "code",
   "execution_count": null,
   "id": "5881bcdb",
   "metadata": {},
   "outputs": [],
   "source": [
    "evoked_meanH_Array = np.array(tmp_sub_evoked_meanH_LIST)\n",
    "print(len(evoked_meanH_Array))\n",
    "evoked_meanL_Array = np.array(tmp_sub_evoked_meanL_LIST)\n",
    "print(len(evoked_meanL_Array))\n",
    "\n",
    "# Conducting pair t-test bwtween HCD & LCD evoked  #default= 雙尾檢定 >>這裡選\"less\" for單尾檢定 >> 因為是H-L，所以H放前面\n",
    "pair_ttest_CD = stats.ttest_rel(evoked_meanH_Array, evoked_meanL_Array)#, alternative='less')  \n",
    "print(pair_ttest_CD)\n",
    "print(type(pair_ttest_CD))\n"
   ]
  }
 ],
 "metadata": {
  "kernelspec": {
   "display_name": "Python 3 (ipykernel)",
   "language": "python",
   "name": "python3"
  },
  "language_info": {
   "codemirror_mode": {
    "name": "ipython",
    "version": 3
   },
   "file_extension": ".py",
   "mimetype": "text/x-python",
   "name": "python",
   "nbconvert_exporter": "python",
   "pygments_lexer": "ipython3",
   "version": "3.10.6"
  }
 },
 "nbformat": 4,
 "nbformat_minor": 5
}
