{
 "cells": [
  {
   "cell_type": "code",
   "execution_count": 1,
   "id": "7778d8e2",
   "metadata": {},
   "outputs": [
    {
     "name": "stdout",
     "output_type": "stream",
     "text": [
      "Using matplotlib backend: <object object at 0x10fbde310>\n"
     ]
    }
   ],
   "source": [
    "%matplotlib"
   ]
  },
  {
   "cell_type": "code",
   "execution_count": 2,
   "id": "37458389",
   "metadata": {},
   "outputs": [],
   "source": [
    "import mne\n",
    "from pprint import pprint\n",
    "import json\n",
    "import csv\n",
    "import numpy as np\n",
    "import pandas as pd\n",
    "from pathlib import Path\n",
    "from mne.preprocessing import (ICA, create_eog_epochs, create_ecg_epochs, corrmap)"
   ]
  },
  {
   "cell_type": "code",
   "execution_count": 12,
   "id": "d8c36239",
   "metadata": {},
   "outputs": [
    {
     "name": "stdout",
     "output_type": "stream",
     "text": [
      "/Volumes/Neurolang_1/Project_Assistant/2021_Ongoing/2020_LTTC/Experiment_materials/LTTC_MEG\n",
      "Reading /Volumes/Neurolang_1/Project_Assistant/2021_Ongoing/2020_LTTC/Experiment_materials/LTTC_MEG/LTTC_MEG_ALL_results/S016_ICAed_LDT-epo.fif ...\n",
      "Isotrak not found\n",
      "    Found the data of interest:\n",
      "        t =    -100.00 ...     700.00 ms\n",
      "        0 CTF compensation matrices available\n",
      "Not setting metadata\n",
      "120 matching events found\n",
      "No baseline correction applied\n",
      "0 projection items activated\n",
      "<Info | 11 non-empty values\n",
      " bads: []\n",
      " ch_names: MEG 001, MEG 002, MEG 003, MEG 004, MEG 005, MEG 006, MEG 007, ...\n",
      " chs: 157 Magnetometers\n",
      " custom_ref_applied: False\n",
      " description: Academia Sinica/Institute of Linguistics//Magnetoencephalograph ...\n",
      " file_id: 4 items (dict)\n",
      " highpass: 0.0 Hz\n",
      " kit_system_id: 261 (Academia Sinica, 2008-)\n",
      " lowpass: 30.0 Hz\n",
      " meas_date: 2022-12-23 19:41:37 UTC\n",
      " meas_id: 4 items (dict)\n",
      " nchan: 157\n",
      " projs: []\n",
      " sfreq: 500.0 Hz\n",
      ">\n"
     ]
    },
    {
     "data": {
      "text/plain": [
       "array([[[-5.41453919e-14, -6.27208653e-14, -6.76463890e-14, ...,\n",
       "          2.85086895e-14,  2.04507736e-14,  9.00016806e-15],\n",
       "        [ 3.18055180e-14,  1.78416631e-14,  5.15549017e-15, ...,\n",
       "          5.05389594e-14,  4.96992652e-14,  4.42467006e-14],\n",
       "        [-2.70010488e-14, -4.15190445e-14, -5.29869795e-14, ...,\n",
       "         -1.10840224e-13, -1.31743981e-13, -1.51873888e-13],\n",
       "        ...,\n",
       "        [-1.75077848e-13, -1.69942212e-13, -1.58831756e-13, ...,\n",
       "          4.45949870e-14,  5.11138847e-14,  5.37474084e-14],\n",
       "        [ 4.69547971e-14,  7.20745688e-14,  9.10315931e-14, ...,\n",
       "          9.93602105e-14,  8.49880062e-14,  7.11868579e-14],\n",
       "        [-2.56818492e-13, -2.78840427e-13, -2.97467644e-13, ...,\n",
       "         -2.72084655e-13, -3.21918219e-13, -3.64366279e-13]],\n",
       "\n",
       "       [[-6.52837498e-14, -6.30629243e-14, -6.01124104e-14, ...,\n",
       "         -1.53007218e-13, -1.68706561e-13, -1.74811242e-13],\n",
       "        [-4.29580010e-14, -3.93458019e-14, -3.49642936e-14, ...,\n",
       "         -1.56387856e-13, -1.90973851e-13, -2.20885972e-13],\n",
       "        [-4.65246975e-14, -5.05079241e-14, -5.37839392e-14, ...,\n",
       "         -7.53084051e-14, -7.72760626e-14, -7.98287760e-14],\n",
       "        ...,\n",
       "        [ 2.43662919e-14,  4.82103405e-14,  6.34568149e-14, ...,\n",
       "         -1.42089763e-13, -1.63768670e-13, -1.77375001e-13],\n",
       "        [-1.29347582e-13, -1.20522800e-13, -1.16154279e-13, ...,\n",
       "         -3.19464615e-13, -3.23017681e-13, -3.14493115e-13],\n",
       "        [ 1.79281164e-13,  1.90258643e-13,  1.91574241e-13, ...,\n",
       "         -5.86217476e-14, -7.08667676e-14, -7.40755385e-14]],\n",
       "\n",
       "       [[ 2.49744954e-14,  4.49584285e-14,  6.15081581e-14, ...,\n",
       "          4.51591245e-14,  3.83928322e-14,  3.17330526e-14],\n",
       "        [ 3.82500834e-14,  4.17455377e-14,  4.51338524e-14, ...,\n",
       "         -1.89931316e-14, -2.23174767e-14, -2.46659264e-14],\n",
       "        [-4.74891986e-15,  1.02784547e-15,  9.48149030e-15, ...,\n",
       "         -2.59931135e-14, -3.25554403e-14, -3.53971071e-14],\n",
       "        ...,\n",
       "        [ 1.19918656e-13,  1.07207978e-13,  9.78117056e-14, ...,\n",
       "         -8.01851939e-14, -9.83034319e-14, -1.11475492e-13],\n",
       "        [ 3.03093020e-14,  6.79911856e-14,  1.08999832e-13, ...,\n",
       "         -5.79893257e-14, -6.03093422e-14, -5.69200516e-14],\n",
       "        [ 5.05953989e-14,  6.18134084e-14,  8.27330351e-14, ...,\n",
       "         -2.79083505e-13, -3.31118217e-13, -3.86952162e-13]],\n",
       "\n",
       "       ...,\n",
       "\n",
       "       [[ 1.80181696e-14,  2.47527337e-14,  3.17855009e-14, ...,\n",
       "          1.78396015e-14,  3.03450705e-14,  3.91855534e-14],\n",
       "        [-1.06917106e-14,  7.12916969e-15,  2.48720705e-14, ...,\n",
       "          7.91086218e-14,  9.31688063e-14,  1.01890542e-13],\n",
       "        [ 8.51917871e-15,  8.94742925e-15,  1.08427578e-14, ...,\n",
       "          1.74558430e-14,  1.46842631e-14,  1.32749672e-14],\n",
       "        ...,\n",
       "        [ 5.60498201e-14,  5.03084987e-14,  4.41931919e-14, ...,\n",
       "          2.22137047e-13,  1.54950082e-13,  9.11593663e-14],\n",
       "        [-2.73255666e-15,  2.09568419e-14,  4.57743347e-14, ...,\n",
       "          2.62446477e-13,  2.29495920e-13,  1.90817902e-13],\n",
       "        [-1.27605556e-15, -4.21654424e-14, -7.97940951e-14, ...,\n",
       "          4.68454106e-13,  4.59188839e-13,  4.40565851e-13]],\n",
       "\n",
       "       [[ 8.42440267e-14,  7.85044230e-14,  7.07357553e-14, ...,\n",
       "          4.26578159e-14,  3.79353226e-14,  3.37810936e-14],\n",
       "        [ 3.04399179e-14,  3.21576296e-14,  3.34391430e-14, ...,\n",
       "          1.18087777e-13,  1.21886117e-13,  1.26013390e-13],\n",
       "        [ 3.29159511e-14,  3.87413354e-14,  4.37892791e-14, ...,\n",
       "          4.14756289e-14,  4.21012102e-14,  4.12518699e-14],\n",
       "        ...,\n",
       "        [-6.40887693e-14, -7.36220912e-14, -8.14595922e-14, ...,\n",
       "          5.09284557e-14,  4.25772563e-14,  3.72258919e-14],\n",
       "        [ 5.32986165e-14,  5.69470821e-14,  5.60885194e-14, ...,\n",
       "          2.81190788e-13,  2.79746658e-13,  2.71415431e-13],\n",
       "        [ 9.26788214e-14,  1.11725401e-13,  1.19631437e-13, ...,\n",
       "          4.88321541e-14,  1.92981126e-14, -7.28356432e-15]],\n",
       "\n",
       "       [[-3.82536884e-14, -4.75761398e-14, -5.65925650e-14, ...,\n",
       "          1.37941128e-14,  1.36810881e-14,  1.35793959e-14],\n",
       "        [ 8.08784531e-14,  6.71398226e-14,  4.87173202e-14, ...,\n",
       "         -1.23366703e-13, -1.22143059e-13, -1.20628618e-13],\n",
       "        [-2.71372941e-14, -1.60930229e-14, -8.06795918e-15, ...,\n",
       "          4.31008311e-14,  4.53501880e-14,  4.65814114e-14],\n",
       "        ...,\n",
       "        [ 3.88879657e-13,  4.87353268e-13,  5.61490036e-13, ...,\n",
       "         -2.96688536e-13, -1.90225900e-13, -9.22351659e-14],\n",
       "        [ 4.56142773e-13,  5.24239994e-13,  5.80322032e-13, ...,\n",
       "         -3.01737097e-13, -2.72347818e-13, -2.35510071e-13],\n",
       "        [ 1.34193343e-13,  2.06052786e-13,  2.42596497e-13, ...,\n",
       "         -4.16284059e-13, -3.66575639e-13, -3.23786218e-13]]])"
      ]
     },
     "execution_count": 12,
     "metadata": {},
     "output_type": "execute_result"
    }
   ],
   "source": [
    "root_data_path = Path(\"/Volumes/Neurolang_1/Project_Assistant/2021_Ongoing/2020_LTTC/Experiment_materials/LTTC_MEG\")\n",
    "meg_data_path = root_data_path / \"LTTC_MEG_ALL_results\"\n",
    "\n",
    "print(root_data_path)\n",
    "\n",
    "sub_id = 1\n",
    "\n",
    "n_epoch_LDTfile = mne.read_epochs(meg_data_path / Path('S%.3d_ICAed_LDT-epo.fif' %sub_id))\n",
    "n_epoch_LDT = n_epoch_LDTfile.load_data().get_data()\n",
    "\n",
    "print(n_epoch_LDTfile.info)\n",
    "n_epoch_LDT"
   ]
  },
  {
   "cell_type": "code",
   "execution_count": 13,
   "id": "52186eb7",
   "metadata": {},
   "outputs": [
    {
     "ename": "IndexError",
     "evalue": "only integers, slices (`:`), ellipsis (`...`), numpy.newaxis (`None`) and integer or boolean arrays are valid indices",
     "output_type": "error",
     "traceback": [
      "\u001b[0;31m---------------------------------------------------------------------------\u001b[0m",
      "\u001b[0;31mIndexError\u001b[0m                                Traceback (most recent call last)",
      "Cell \u001b[0;32mIn [13], line 2\u001b[0m\n\u001b[1;32m      1\u001b[0m \u001b[38;5;66;03m#evoked_C = n_epoch_LDT[\"Control\"].average()\u001b[39;00m\n\u001b[0;32m----> 2\u001b[0m evoked_H \u001b[38;5;241m=\u001b[39m \u001b[43mn_epoch_LDT\u001b[49m\u001b[43m[\u001b[49m\u001b[38;5;124;43m\"\u001b[39;49m\u001b[38;5;124;43mHigh_CD\u001b[39;49m\u001b[38;5;124;43m\"\u001b[39;49m\u001b[43m]\u001b[49m\u001b[38;5;241m.\u001b[39maverage()\n\u001b[1;32m      3\u001b[0m evoked_L \u001b[38;5;241m=\u001b[39m n_epoch_LDT[\u001b[38;5;124m\"\u001b[39m\u001b[38;5;124mLow_CD\u001b[39m\u001b[38;5;124m\"\u001b[39m]\u001b[38;5;241m.\u001b[39maverage()\n\u001b[1;32m      5\u001b[0m \u001b[38;5;66;03m#evoked_C.comment = 'Control'\u001b[39;00m\n",
      "\u001b[0;31mIndexError\u001b[0m: only integers, slices (`:`), ellipsis (`...`), numpy.newaxis (`None`) and integer or boolean arrays are valid indices"
     ]
    }
   ],
   "source": [
    "#evoked_C = n_epoch_LDT[\"Control\"].average()\n",
    "evoked_H = n_epoch_LDT[\"High_CD\"].average()\n",
    "evoked_L = n_epoch_LDT[\"Low_CD\"].average()\n",
    "\n",
    "#evoked_C.comment = 'Control'\n",
    "evoked_H.comment = 'High_CD'\n",
    "evoked_L.comment = 'Low_CD'\n",
    "\n",
    "tmp = [evoked_H, evoked_L]#[evoked_C, evoked_H, evoked_L] \n",
    "colors = 'blue', 'green' #H:'blue'; L:'green'; C:'red'\n",
    "mne.viz.plot_evoked_topo(tmp, color = colors)"
   ]
  },
  {
   "cell_type": "code",
   "execution_count": null,
   "id": "c61e7c39",
   "metadata": {},
   "outputs": [],
   "source": []
  }
 ],
 "metadata": {
  "kernelspec": {
   "display_name": "Python 3 (ipykernel)",
   "language": "python",
   "name": "python3"
  },
  "language_info": {
   "codemirror_mode": {
    "name": "ipython",
    "version": 3
   },
   "file_extension": ".py",
   "mimetype": "text/x-python",
   "name": "python",
   "nbconvert_exporter": "python",
   "pygments_lexer": "ipython3",
   "version": "3.10.6"
  }
 },
 "nbformat": 4,
 "nbformat_minor": 5
}
