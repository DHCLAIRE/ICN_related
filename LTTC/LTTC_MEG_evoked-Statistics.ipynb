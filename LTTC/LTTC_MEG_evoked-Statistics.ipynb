{
 "cells": [
  {
   "cell_type": "code",
   "execution_count": 1,
   "id": "6d5a8e76",
   "metadata": {},
   "outputs": [
    {
     "name": "stdout",
     "output_type": "stream",
     "text": [
      "Using matplotlib backend: MacOSX\n"
     ]
    }
   ],
   "source": [
    "%matplotlib"
   ]
  },
  {
   "cell_type": "code",
   "execution_count": 1,
   "id": "384c137a",
   "metadata": {},
   "outputs": [],
   "source": [
    "import mne\n",
    "from pprint import pprint\n",
    "import json\n",
    "import csv\n",
    "import numpy as np\n",
    "import pandas as pd\n",
    "from pathlib import Path\n",
    "import matplotlib.pyplot as plt\n",
    "from mne.preprocessing import (ICA, create_eog_epochs, create_ecg_epochs, corrmap)\n",
    "from scipy import stats"
   ]
  },
  {
   "cell_type": "code",
   "execution_count": 23,
   "id": "95e2ff25",
   "metadata": {},
   "outputs": [
    {
     "name": "stdout",
     "output_type": "stream",
     "text": [
      "Reading /Volumes/Neurolang_1/Project_Assistant/2021_Ongoing/2020_LTTC/Experiment_materials/LTTC_MEG/LTTC_MEG_ALL_results/S009_ICAed_LDT-epo.fif ...\n",
      "Isotrak not found\n",
      "    Found the data of interest:\n",
      "        t =    -100.00 ...     700.00 ms\n",
      "        0 CTF compensation matrices available\n",
      "Not setting metadata\n",
      "Not setting metadata\n",
      "120 matching events found\n",
      "No baseline correction applied\n",
      "0 projection items activated\n",
      "                         S009_H -1.1430243092239316e-14\n",
      "                         S009_L -4.3077713307661016e-14\n",
      "                                                   HEREEEEEE!! 1\n",
      "                                                   HEREEEEEE!! 1\n",
      "Reading /Volumes/Neurolang_1/Project_Assistant/2021_Ongoing/2020_LTTC/Experiment_materials/LTTC_MEG/LTTC_MEG_ALL_results/S010_ICAed_LDT-epo.fif ...\n",
      "Isotrak not found\n",
      "    Found the data of interest:\n",
      "        t =    -100.00 ...     700.00 ms\n",
      "        0 CTF compensation matrices available\n",
      "Not setting metadata\n",
      "Not setting metadata\n",
      "113 matching events found\n",
      "No baseline correction applied\n",
      "0 projection items activated\n",
      "                         S010_H -3.970947475501293e-14\n",
      "                         S010_L -3.520798767690295e-14\n",
      "                                                   HEREEEEEE!! 2\n",
      "                                                   HEREEEEEE!! 2\n",
      "Reading /Volumes/Neurolang_1/Project_Assistant/2021_Ongoing/2020_LTTC/Experiment_materials/LTTC_MEG/LTTC_MEG_ALL_results/S011_ICAed_LDT-epo.fif ...\n",
      "Isotrak not found\n",
      "    Found the data of interest:\n",
      "        t =    -100.00 ...     700.00 ms\n",
      "        0 CTF compensation matrices available\n",
      "Not setting metadata\n",
      "Not setting metadata\n",
      "120 matching events found\n",
      "No baseline correction applied\n",
      "0 projection items activated\n",
      "                         S011_H -1.606478688374492e-14\n",
      "                         S011_L 1.1509452392758417e-14\n",
      "                                                   HEREEEEEE!! 3\n",
      "                                                   HEREEEEEE!! 3\n",
      "Reading /Volumes/Neurolang_1/Project_Assistant/2021_Ongoing/2020_LTTC/Experiment_materials/LTTC_MEG/LTTC_MEG_ALL_results/S012_ICAed_LDT-epo.fif ...\n",
      "Isotrak not found\n",
      "    Found the data of interest:\n",
      "        t =    -100.00 ...     700.00 ms\n",
      "        0 CTF compensation matrices available\n",
      "Not setting metadata\n",
      "Not setting metadata\n",
      "119 matching events found\n",
      "No baseline correction applied\n",
      "0 projection items activated\n",
      "                         S012_H -8.580710359057236e-14\n",
      "                         S012_L 1.778850568330579e-14\n",
      "                                                   HEREEEEEE!! 4\n",
      "                                                   HEREEEEEE!! 4\n",
      "Reading /Volumes/Neurolang_1/Project_Assistant/2021_Ongoing/2020_LTTC/Experiment_materials/LTTC_MEG/LTTC_MEG_ALL_results/S013_ICAed_LDT-epo.fif ...\n",
      "Isotrak not found\n",
      "    Found the data of interest:\n",
      "        t =    -100.00 ...     700.00 ms\n",
      "        0 CTF compensation matrices available\n",
      "Not setting metadata\n",
      "Not setting metadata\n",
      "120 matching events found\n",
      "No baseline correction applied\n",
      "0 projection items activated\n",
      "                         S013_H 5.934409646521337e-14\n",
      "                         S013_L 1.3788260803333592e-13\n",
      "                                                   HEREEEEEE!! 5\n",
      "                                                   HEREEEEEE!! 5\n",
      "Reading /Volumes/Neurolang_1/Project_Assistant/2021_Ongoing/2020_LTTC/Experiment_materials/LTTC_MEG/LTTC_MEG_ALL_results/S014_ICAed_LDT-epo.fif ...\n",
      "Isotrak not found\n",
      "    Found the data of interest:\n",
      "        t =    -100.00 ...     700.00 ms\n",
      "        0 CTF compensation matrices available\n",
      "Not setting metadata\n",
      "Not setting metadata\n",
      "120 matching events found\n",
      "No baseline correction applied\n",
      "0 projection items activated\n",
      "                         S014_H -2.3789111670017247e-14\n",
      "                         S014_L -4.059474269942488e-15\n",
      "                                                   HEREEEEEE!! 6\n",
      "                                                   HEREEEEEE!! 6\n",
      "Reading /Volumes/Neurolang_1/Project_Assistant/2021_Ongoing/2020_LTTC/Experiment_materials/LTTC_MEG/LTTC_MEG_ALL_results/S015_ICAed_LDT-epo.fif ...\n",
      "Isotrak not found\n",
      "    Found the data of interest:\n",
      "        t =    -100.00 ...     700.00 ms\n",
      "        0 CTF compensation matrices available\n",
      "Not setting metadata\n",
      "Not setting metadata\n",
      "120 matching events found\n",
      "No baseline correction applied\n",
      "0 projection items activated\n",
      "                         S015_H -3.7165492981786595e-14\n",
      "                         S015_L 1.8837016169640148e-14\n",
      "                                                   HEREEEEEE!! 7\n",
      "                                                   HEREEEEEE!! 7\n",
      "Reading /Volumes/Neurolang_1/Project_Assistant/2021_Ongoing/2020_LTTC/Experiment_materials/LTTC_MEG/LTTC_MEG_ALL_results/S016_ICAed_LDT-epo.fif ...\n",
      "Isotrak not found\n",
      "    Found the data of interest:\n",
      "        t =    -100.00 ...     700.00 ms\n",
      "        0 CTF compensation matrices available\n",
      "Not setting metadata\n",
      "Not setting metadata\n",
      "120 matching events found\n",
      "No baseline correction applied\n",
      "0 projection items activated\n",
      "                         S016_H -3.921874357094205e-14\n",
      "                         S016_L -3.8639925606841375e-15\n",
      "                                                   HEREEEEEE!! 8\n",
      "                                                   HEREEEEEE!! 8\n"
     ]
    }
   ],
   "source": [
    "# Get the combined epochs to get the data in specific time window for statistics analysis\n",
    "root_data_path = Path(\"/Volumes/Neurolang_1/Project_Assistant/2021_Ongoing/2020_LTTC/Experiment_materials/LTTC_MEG\")\n",
    "meg_data_path = root_data_path / \"LTTC_MEG_ALL_results\"\n",
    "\n",
    "\n",
    "#print(root_data_path)\n",
    "\n",
    "\n",
    "\"\"\"\n",
    "n_epoch_LDT = mne.read_epochs(meg_data_path / Path('009-016_LDT-merge-epo.fif'))\n",
    "n_epoch_LDT.pick('mag')\n",
    "#n_epoch_LDT = n_epoch_LDT.load_data().get_data()\n",
    "#print(n_epoch_LDT)\n",
    "print(len(n_epoch_LDT))\n",
    "\n",
    "n_epoch_LDT.plot()\n",
    "\"\"\"\n",
    "\n",
    "\n",
    "tmp_sub_evoked_meanH_LIST = []\n",
    "all_sub_evoked_meanH_LIST = []\n",
    "\n",
    "tmp_sub_evoked_meanL_LIST = []\n",
    "all_sub_evoked_meanL_LIST = []\n",
    "\n",
    "for idINT in range(9, 17):\n",
    "    sub_id = idINT\n",
    "    \n",
    "    # Load in the epochs of each subs\n",
    "    n_epoch_LDT = mne.read_epochs(meg_data_path / Path('S%.3d_ICAed_LDT-epo.fif' %sub_id))   \n",
    "    n_epoch_LDT.pick('mag').crop(0.4, 0.6).pick_channels([\"MEG 046\"])\n",
    "    \n",
    "    # Get the evoked responses from the epochs\n",
    "    evoked_H = n_epoch_LDT[\"High_CD\"].average()\n",
    "    evoked_L = n_epoch_LDT[\"Low_CD\"].average()\n",
    "    \n",
    "    #print(evoked_H)\n",
    "    \n",
    "    # Get the data of certain time range of the evoked, we should pick the certain channel to conduct statistics\n",
    "    #tmp_evoked_H = evoked_H().copy()\n",
    "    #tmp_evoked_L = evoked_L().copy()\n",
    "    tmp_data_H_FLOAT = evoked_H.copy().get_data().mean()\n",
    "    tmp_data_L_FLOAT = evoked_L.copy().get_data().mean()\n",
    "    \n",
    "    print(\"                         S%.3d_H\" %sub_id, tmp_data_H_FLOAT)\n",
    "    print(\"                         S%.3d_L\" %sub_id, tmp_data_L_FLOAT)\n",
    "    \n",
    "    tmp_sub_evoked_meanH_LIST.extend([tmp_data_H_FLOAT])\n",
    "    tmp_sub_evoked_meanL_LIST.extend([tmp_data_L_FLOAT])\n",
    "    \n",
    "    print(\"                                                   HEREEEEEE!!\", len(tmp_sub_evoked_meanH_LIST))\n",
    "    print(\"                                                   HEREEEEEE!!\", len(tmp_sub_evoked_meanL_LIST))\n",
    "    \n",
    "    #all_sub_epochsLIST = mne.concatenate_epochs(tmp_sub_epochsLIST)\n"
   ]
  },
  {
   "cell_type": "code",
   "execution_count": 21,
   "id": "98ac7341",
   "metadata": {},
   "outputs": [
    {
     "name": "stdout",
     "output_type": "stream",
     "text": [
      "[-2.1020308593595203e-14, 1.1831900138404145e-16, -2.1963022047687826e-14, -2.7538730992187525e-14, 2.4813005281881726e-14, -4.054278988230212e-14, -5.5403459959652533e-14, -4.037066446476083e-14]\n",
      "[-1.7082151511711605e-14, -2.4012522155652687e-15, -2.9868097166779166e-14, 9.789343528709793e-15, 6.182044783442519e-14, -2.6082397999940805e-14, 1.731160723100877e-14, -1.3484328975678356e-14]\n"
     ]
    }
   ],
   "source": [
    "print(tmp_sub_evoked_meanH_LIST)\n",
    "print(tmp_sub_evoked_meanL_LIST)"
   ]
  },
  {
   "cell_type": "code",
   "execution_count": 24,
   "id": "8d3a2766",
   "metadata": {},
   "outputs": [
    {
     "name": "stdout",
     "output_type": "stream",
     "text": [
      "8\n",
      "8\n",
      "Ttest_relResult(statistic=-2.4394154731408473, pvalue=0.04479735449349964)\n",
      "<class 'scipy.stats.stats.Ttest_relResult'>\n"
     ]
    },
    {
     "data": {
      "text/plain": [
       "''"
      ]
     },
     "execution_count": 24,
     "metadata": {},
     "output_type": "execute_result"
    }
   ],
   "source": [
    "evoked_meanH_Array = np.array(tmp_sub_evoked_meanH_LIST)\n",
    "print(len(evoked_meanH_Array))\n",
    "evoked_meanL_Array = np.array(tmp_sub_evoked_meanL_LIST)\n",
    "print(len(evoked_meanL_Array))\n",
    "\n",
    "# Conducting pair t-test bwtween HCD & LCD evoked\n",
    "pair_ttest_CD = stats.ttest_rel(evoked_meanH_Array, evoked_meanL_Array)\n",
    "print(pair_ttest_CD)\n",
    "print(type(pair_ttest_CD))\n",
    "\n",
    "\n",
    "\"\"\"\n",
    "## MEG 043's results\n",
    "8\n",
    "8\n",
    "Ttest_relResult(statistic=-2.423404628538318, pvalue=0.04586237184672601)\n",
    "<class 'scipy.stats.stats.Ttest_relResult'>\n",
    "\n",
    "## MEG 046's results\n",
    "8\n",
    "8\n",
    "Ttest_relResult(statistic=-2.4394154731408473, pvalue=0.04479735449349964)\n",
    "<class 'scipy.stats.stats.Ttest_relResult'>\n",
    "\n",
    "\n",
    "\"\"\""
   ]
  },
  {
   "cell_type": "code",
   "execution_count": 20,
   "id": "683caf5b",
   "metadata": {},
   "outputs": [
    {
     "name": "stdout",
     "output_type": "stream",
     "text": [
      "Reading /Volumes/Neurolang_1/Project_Assistant/2021_Ongoing/2020_LTTC/Experiment_materials/LTTC_MEG/LTTC_MEG_ALL_results/S009_ICAed_LDT-epo.fif ...\n",
      "Isotrak not found\n",
      "    Found the data of interest:\n",
      "        t =    -100.00 ...     700.00 ms\n",
      "        0 CTF compensation matrices available\n",
      "Not setting metadata\n",
      "Not setting metadata\n",
      "120 matching events found\n",
      "No baseline correction applied\n",
      "0 projection items activated\n",
      "-2.1020308593595203e-14\n"
     ]
    }
   ],
   "source": [
    "## FOR DEBUGGING evoked.get_data()\n",
    "root_data_path = Path(\"/Volumes/Neurolang_1/Project_Assistant/2021_Ongoing/2020_LTTC/Experiment_materials/LTTC_MEG\")\n",
    "meg_data_path = root_data_path / \"LTTC_MEG_ALL_results\"\n",
    "\n",
    "sub_id = 9\n",
    "n_epoch_LDT = mne.read_epochs(meg_data_path / Path('S%.3d_ICAed_LDT-epo.fif' %sub_id))   \n",
    "n_epoch_LDT.pick('mag').crop(0.4, 0.6).pick_channels([\"MEG 043\"])  #.get_data()\n",
    "evoked_H = n_epoch_LDT[\"High_CD\"].average()\n",
    "evoked_L = n_epoch_LDT[\"Low_CD\"].average()\n",
    "\n",
    "tmp_H = evoked_H.copy().get_data().mean()   #.crop(0.4, 0.6)\n",
    "print(tmp_H)"
   ]
  },
  {
   "cell_type": "code",
   "execution_count": null,
   "id": "e0bfad90",
   "metadata": {
    "scrolled": true
   },
   "outputs": [],
   "source": [
    "#evoked_C = all_sub_epochsLIST[\"Control\"].average()\n",
    "evoked_H = n_epoch_LDT[\"High_CD\"].average()\n",
    "evoked_L = n_epoch_LDT[\"Low_CD\"].average()\n",
    "\n",
    "#evoked_C.comment = 'Control'\n",
    "evoked_H.comment = 'High_CD'\n",
    "evoked_L.comment = 'Low_CD'\n",
    "\n",
    "tmp = [evoked_H, evoked_L] # [evoked_H, evoked_L]evoked_C, \n",
    "colors = 'blue', 'green'  #C:'red'H:'blue'; L:'green';   # 'blue', 'green'\n",
    "mne.viz.plot_evoked_topo(tmp, color = colors)"
   ]
  },
  {
   "cell_type": "code",
   "execution_count": null,
   "id": "da8407a8",
   "metadata": {},
   "outputs": [],
   "source": [
    "all_sub_epochsLIST.save(meg_data_path / Path('009-016_LDT-merge-epo.fif'), overwrite=True)"
   ]
  },
  {
   "cell_type": "code",
   "execution_count": null,
   "id": "e228df1e",
   "metadata": {},
   "outputs": [],
   "source": [
    "# To see the average evoked of every participants so far\n",
    "\n",
    "#evoked_C = all_sub_epochsLIST[\"Control\"].average()\n",
    "evoked_H = all_sub_epochsLIST[\"High_CD\"].average()\n",
    "evoked_L = all_sub_epochsLIST[\"Low_CD\"].average()\n",
    "\n",
    "#evoked_C.comment = 'Control'\n",
    "evoked_H.comment = 'High_CD'\n",
    "evoked_L.comment = 'Low_CD'\n",
    "\n",
    "tmp = [evoked_H, evoked_L] # [evoked_H, evoked_L]evoked_C, \n",
    "colors = 'blue', 'green'  #C:'red'H:'blue'; L:'green';   # 'blue', 'green'\n",
    "mne.viz.plot_evoked_topo(tmp, color = colors)"
   ]
  },
  {
   "cell_type": "code",
   "execution_count": null,
   "id": "1374f671",
   "metadata": {},
   "outputs": [],
   "source": [
    "# Plot the joint\n",
    "#mne.viz.plot_compare_evokeds(tmp, picks='mag')\n",
    "H_minus_L = mne.combine_evoked([evoked_H, evoked_L], weights=[1, -1])\n",
    "H_minus_L.plot_joint()\n",
    "plt.savefig(meg_data_path / Path('H-minus-L_evoked.png'), overwrite=True)\n",
    "\n",
    "# Plot the specific times\n",
    "times = np.linspace(0.05, 0.650, 13)\n",
    "H_minus_L.plot_topomap(ch_type='mag', times=times, colorbar=True)\n",
    "plt.savefig(meg_data_path / Path('H-minus-L_evoked_topomap.png'), overwrite=True)"
   ]
  },
  {
   "cell_type": "code",
   "execution_count": null,
   "id": "4d15637b",
   "metadata": {},
   "outputs": [],
   "source": [
    "#evoked_C = n_epoch_LDT[\"Control\"].average()\n",
    "evoked_H = all_sub_epochsLIST[\"High_CD\"].average()\n",
    "evoked_L = all_sub_epochsLIST[\"Low_CD\"].average()\n",
    "\n",
    "times = np.linspace(0.05, 0.45, 9)\n",
    "#evoked_C.plot_topomap(ch_type='mag', times=times, colorbar=True)\n",
    "evoked_H.plot_topomap(ch_type='mag', times=times, colorbar=True)\n",
    "plt.savefig(meg_data_path / Path('HCD-evoked_topomap.png'), overwrite=True)\n",
    "evoked_L.plot_topomap(ch_type='mag', times=times, colorbar=True)\n",
    "plt.savefig(meg_data_path / Path('LCD-evoked_topomap.png'), overwrite=True)"
   ]
  },
  {
   "cell_type": "code",
   "execution_count": null,
   "id": "fb0f819d",
   "metadata": {},
   "outputs": [],
   "source": [
    "# Check the resluts of some channel\n",
    "# MEG 043最大/ MEG 048_跟046一樣小/ MEG 045 ＝ MEG 044＿比046大一點/ MEG 046_小/ MEG 047_比046小\n",
    "\n",
    "mne.viz.plot_compare_evokeds(tmp, picks='MEG 043')\n",
    "mne.viz.plot_compare_evokeds(tmp, picks='MEG 044')\n",
    "mne.viz.plot_compare_evokeds(tmp, picks='MEG 045')\n",
    "mne.viz.plot_compare_evokeds(tmp, picks='MEG 048')"
   ]
  },
  {
   "cell_type": "code",
   "execution_count": null,
   "id": "41cc8711",
   "metadata": {},
   "outputs": [],
   "source": [
    "MEG_043_topofig = mne.viz.plot_compare_evokeds(tmp, picks='MEG 043')\n",
    "plt.savefig(meg_data_path / Path('MEG_043_evoked.png'), overwrite=True)"
   ]
  },
  {
   "cell_type": "code",
   "execution_count": null,
   "id": "c354fed7",
   "metadata": {},
   "outputs": [],
   "source": [
    "evoked_H.plot_joint()\n",
    "plt.savefig(meg_data_path / Path('HCD-evoked_joint.png'), overwrite=True)\n",
    "evoked_L.plot_joint()\n",
    "plt.savefig(meg_data_path / Path('LCD-evoked_joint.png'), overwrite=True)"
   ]
  },
  {
   "cell_type": "code",
   "execution_count": null,
   "id": "5968372e",
   "metadata": {},
   "outputs": [],
   "source": []
  }
 ],
 "metadata": {
  "kernelspec": {
   "display_name": "Python 3 (ipykernel)",
   "language": "python",
   "name": "python3"
  },
  "language_info": {
   "codemirror_mode": {
    "name": "ipython",
    "version": 3
   },
   "file_extension": ".py",
   "mimetype": "text/x-python",
   "name": "python",
   "nbconvert_exporter": "python",
   "pygments_lexer": "ipython3",
   "version": "3.9.9"
  }
 },
 "nbformat": 4,
 "nbformat_minor": 5
}
