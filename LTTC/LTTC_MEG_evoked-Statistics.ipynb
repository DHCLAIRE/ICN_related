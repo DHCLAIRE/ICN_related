{
 "cells": [
  {
   "cell_type": "code",
   "execution_count": 61,
   "id": "6d5a8e76",
   "metadata": {},
   "outputs": [
    {
     "ename": "ImportError",
     "evalue": "Cannot load backend 'MacOSX' which requires the 'macosx' interactive framework, as 'qt' is currently running",
     "output_type": "error",
     "traceback": [
      "\u001b[0;31m---------------------------------------------------------------------------\u001b[0m",
      "\u001b[0;31mImportError\u001b[0m                               Traceback (most recent call last)",
      "Input \u001b[0;32mIn [61]\u001b[0m, in \u001b[0;36m<cell line: 1>\u001b[0;34m()\u001b[0m\n\u001b[0;32m----> 1\u001b[0m \u001b[43mget_ipython\u001b[49m\u001b[43m(\u001b[49m\u001b[43m)\u001b[49m\u001b[38;5;241;43m.\u001b[39;49m\u001b[43mrun_line_magic\u001b[49m\u001b[43m(\u001b[49m\u001b[38;5;124;43m'\u001b[39;49m\u001b[38;5;124;43mmatplotlib\u001b[39;49m\u001b[38;5;124;43m'\u001b[39;49m\u001b[43m,\u001b[49m\u001b[43m \u001b[49m\u001b[38;5;124;43m'\u001b[39;49m\u001b[38;5;124;43m'\u001b[39;49m\u001b[43m)\u001b[49m\n",
      "File \u001b[0;32m/Applications/anaconda3/envs/mne/lib/python3.10/site-packages/IPython/core/interactiveshell.py:2304\u001b[0m, in \u001b[0;36mInteractiveShell.run_line_magic\u001b[0;34m(self, magic_name, line, _stack_depth)\u001b[0m\n\u001b[1;32m   2302\u001b[0m     kwargs[\u001b[38;5;124m'\u001b[39m\u001b[38;5;124mlocal_ns\u001b[39m\u001b[38;5;124m'\u001b[39m] \u001b[38;5;241m=\u001b[39m \u001b[38;5;28mself\u001b[39m\u001b[38;5;241m.\u001b[39mget_local_scope(stack_depth)\n\u001b[1;32m   2303\u001b[0m \u001b[38;5;28;01mwith\u001b[39;00m \u001b[38;5;28mself\u001b[39m\u001b[38;5;241m.\u001b[39mbuiltin_trap:\n\u001b[0;32m-> 2304\u001b[0m     result \u001b[38;5;241m=\u001b[39m \u001b[43mfn\u001b[49m\u001b[43m(\u001b[49m\u001b[38;5;241;43m*\u001b[39;49m\u001b[43margs\u001b[49m\u001b[43m,\u001b[49m\u001b[43m \u001b[49m\u001b[38;5;241;43m*\u001b[39;49m\u001b[38;5;241;43m*\u001b[39;49m\u001b[43mkwargs\u001b[49m\u001b[43m)\u001b[49m\n\u001b[1;32m   2305\u001b[0m \u001b[38;5;28;01mreturn\u001b[39;00m result\n",
      "File \u001b[0;32m/Applications/anaconda3/envs/mne/lib/python3.10/site-packages/IPython/core/magics/pylab.py:99\u001b[0m, in \u001b[0;36mPylabMagics.matplotlib\u001b[0;34m(self, line)\u001b[0m\n\u001b[1;32m     97\u001b[0m     \u001b[38;5;28mprint\u001b[39m(\u001b[38;5;124m\"\u001b[39m\u001b[38;5;124mAvailable matplotlib backends: \u001b[39m\u001b[38;5;132;01m%s\u001b[39;00m\u001b[38;5;124m\"\u001b[39m \u001b[38;5;241m%\u001b[39m backends_list)\n\u001b[1;32m     98\u001b[0m \u001b[38;5;28;01melse\u001b[39;00m:\n\u001b[0;32m---> 99\u001b[0m     gui, backend \u001b[38;5;241m=\u001b[39m \u001b[38;5;28;43mself\u001b[39;49m\u001b[38;5;241;43m.\u001b[39;49m\u001b[43mshell\u001b[49m\u001b[38;5;241;43m.\u001b[39;49m\u001b[43menable_matplotlib\u001b[49m\u001b[43m(\u001b[49m\u001b[43margs\u001b[49m\u001b[38;5;241;43m.\u001b[39;49m\u001b[43mgui\u001b[49m\u001b[38;5;241;43m.\u001b[39;49m\u001b[43mlower\u001b[49m\u001b[43m(\u001b[49m\u001b[43m)\u001b[49m\u001b[43m \u001b[49m\u001b[38;5;28;43;01mif\u001b[39;49;00m\u001b[43m \u001b[49m\u001b[38;5;28;43misinstance\u001b[39;49m\u001b[43m(\u001b[49m\u001b[43margs\u001b[49m\u001b[38;5;241;43m.\u001b[39;49m\u001b[43mgui\u001b[49m\u001b[43m,\u001b[49m\u001b[43m \u001b[49m\u001b[38;5;28;43mstr\u001b[39;49m\u001b[43m)\u001b[49m\u001b[43m \u001b[49m\u001b[38;5;28;43;01melse\u001b[39;49;00m\u001b[43m \u001b[49m\u001b[43margs\u001b[49m\u001b[38;5;241;43m.\u001b[39;49m\u001b[43mgui\u001b[49m\u001b[43m)\u001b[49m\n\u001b[1;32m    100\u001b[0m     \u001b[38;5;28mself\u001b[39m\u001b[38;5;241m.\u001b[39m_show_matplotlib_backend(args\u001b[38;5;241m.\u001b[39mgui, backend)\n",
      "File \u001b[0;32m/Applications/anaconda3/envs/mne/lib/python3.10/site-packages/IPython/core/interactiveshell.py:3487\u001b[0m, in \u001b[0;36mInteractiveShell.enable_matplotlib\u001b[0;34m(self, gui)\u001b[0m\n\u001b[1;32m   3483\u001b[0m         \u001b[38;5;28mprint\u001b[39m(\u001b[38;5;124m'\u001b[39m\u001b[38;5;124mWarning: Cannot change to a different GUI toolkit: \u001b[39m\u001b[38;5;132;01m%s\u001b[39;00m\u001b[38;5;124m.\u001b[39m\u001b[38;5;124m'\u001b[39m\n\u001b[1;32m   3484\u001b[0m                 \u001b[38;5;124m'\u001b[39m\u001b[38;5;124m Using \u001b[39m\u001b[38;5;132;01m%s\u001b[39;00m\u001b[38;5;124m instead.\u001b[39m\u001b[38;5;124m'\u001b[39m \u001b[38;5;241m%\u001b[39m (gui, \u001b[38;5;28mself\u001b[39m\u001b[38;5;241m.\u001b[39mpylab_gui_select))\n\u001b[1;32m   3485\u001b[0m         gui, backend \u001b[38;5;241m=\u001b[39m pt\u001b[38;5;241m.\u001b[39mfind_gui_and_backend(\u001b[38;5;28mself\u001b[39m\u001b[38;5;241m.\u001b[39mpylab_gui_select)\n\u001b[0;32m-> 3487\u001b[0m \u001b[43mpt\u001b[49m\u001b[38;5;241;43m.\u001b[39;49m\u001b[43mactivate_matplotlib\u001b[49m\u001b[43m(\u001b[49m\u001b[43mbackend\u001b[49m\u001b[43m)\u001b[49m\n\u001b[1;32m   3488\u001b[0m configure_inline_support(\u001b[38;5;28mself\u001b[39m, backend)\n\u001b[1;32m   3490\u001b[0m \u001b[38;5;66;03m# Now we must activate the gui pylab wants to use, and fix %run to take\u001b[39;00m\n\u001b[1;32m   3491\u001b[0m \u001b[38;5;66;03m# plot updates into account\u001b[39;00m\n",
      "File \u001b[0;32m/Applications/anaconda3/envs/mne/lib/python3.10/site-packages/IPython/core/pylabtools.py:359\u001b[0m, in \u001b[0;36mactivate_matplotlib\u001b[0;34m(backend)\u001b[0m\n\u001b[1;32m    354\u001b[0m \u001b[38;5;66;03m# Due to circular imports, pyplot may be only partially initialised\u001b[39;00m\n\u001b[1;32m    355\u001b[0m \u001b[38;5;66;03m# when this function runs.\u001b[39;00m\n\u001b[1;32m    356\u001b[0m \u001b[38;5;66;03m# So avoid needing matplotlib attribute-lookup to access pyplot.\u001b[39;00m\n\u001b[1;32m    357\u001b[0m \u001b[38;5;28;01mfrom\u001b[39;00m \u001b[38;5;21;01mmatplotlib\u001b[39;00m \u001b[38;5;28;01mimport\u001b[39;00m pyplot \u001b[38;5;28;01mas\u001b[39;00m plt\n\u001b[0;32m--> 359\u001b[0m \u001b[43mplt\u001b[49m\u001b[38;5;241;43m.\u001b[39;49m\u001b[43mswitch_backend\u001b[49m\u001b[43m(\u001b[49m\u001b[43mbackend\u001b[49m\u001b[43m)\u001b[49m\n\u001b[1;32m    361\u001b[0m plt\u001b[38;5;241m.\u001b[39mshow\u001b[38;5;241m.\u001b[39m_needmain \u001b[38;5;241m=\u001b[39m \u001b[38;5;28;01mFalse\u001b[39;00m\n\u001b[1;32m    362\u001b[0m \u001b[38;5;66;03m# We need to detect at runtime whether show() is called by the user.\u001b[39;00m\n\u001b[1;32m    363\u001b[0m \u001b[38;5;66;03m# For this, we wrap it into a decorator which adds a 'called' flag.\u001b[39;00m\n",
      "File \u001b[0;32m/Applications/anaconda3/envs/mne/lib/python3.10/site-packages/matplotlib/pyplot.py:275\u001b[0m, in \u001b[0;36mswitch_backend\u001b[0;34m(newbackend)\u001b[0m\n\u001b[1;32m    272\u001b[0m     current_framework \u001b[38;5;241m=\u001b[39m cbook\u001b[38;5;241m.\u001b[39m_get_running_interactive_framework()\n\u001b[1;32m    273\u001b[0m     \u001b[38;5;28;01mif\u001b[39;00m (current_framework \u001b[38;5;129;01mand\u001b[39;00m required_framework\n\u001b[1;32m    274\u001b[0m             \u001b[38;5;129;01mand\u001b[39;00m current_framework \u001b[38;5;241m!=\u001b[39m required_framework):\n\u001b[0;32m--> 275\u001b[0m         \u001b[38;5;28;01mraise\u001b[39;00m \u001b[38;5;167;01mImportError\u001b[39;00m(\n\u001b[1;32m    276\u001b[0m             \u001b[38;5;124m\"\u001b[39m\u001b[38;5;124mCannot load backend \u001b[39m\u001b[38;5;132;01m{!r}\u001b[39;00m\u001b[38;5;124m which requires the \u001b[39m\u001b[38;5;132;01m{!r}\u001b[39;00m\u001b[38;5;124m interactive \u001b[39m\u001b[38;5;124m\"\u001b[39m\n\u001b[1;32m    277\u001b[0m             \u001b[38;5;124m\"\u001b[39m\u001b[38;5;124mframework, as \u001b[39m\u001b[38;5;132;01m{!r}\u001b[39;00m\u001b[38;5;124m is currently running\u001b[39m\u001b[38;5;124m\"\u001b[39m\u001b[38;5;241m.\u001b[39mformat(\n\u001b[1;32m    278\u001b[0m                 newbackend, required_framework, current_framework))\n\u001b[1;32m    280\u001b[0m _log\u001b[38;5;241m.\u001b[39mdebug(\u001b[38;5;124m\"\u001b[39m\u001b[38;5;124mLoaded backend \u001b[39m\u001b[38;5;132;01m%s\u001b[39;00m\u001b[38;5;124m version \u001b[39m\u001b[38;5;132;01m%s\u001b[39;00m\u001b[38;5;124m.\u001b[39m\u001b[38;5;124m\"\u001b[39m,\n\u001b[1;32m    281\u001b[0m            newbackend, backend_mod\u001b[38;5;241m.\u001b[39mbackend_version)\n\u001b[1;32m    283\u001b[0m rcParams[\u001b[38;5;124m'\u001b[39m\u001b[38;5;124mbackend\u001b[39m\u001b[38;5;124m'\u001b[39m] \u001b[38;5;241m=\u001b[39m rcParamsDefault[\u001b[38;5;124m'\u001b[39m\u001b[38;5;124mbackend\u001b[39m\u001b[38;5;124m'\u001b[39m] \u001b[38;5;241m=\u001b[39m newbackend\n",
      "\u001b[0;31mImportError\u001b[0m: Cannot load backend 'MacOSX' which requires the 'macosx' interactive framework, as 'qt' is currently running"
     ]
    }
   ],
   "source": [
    "%matplotlib"
   ]
  },
  {
   "cell_type": "code",
   "execution_count": 62,
   "id": "384c137a",
   "metadata": {},
   "outputs": [],
   "source": [
    "import mne\n",
    "from pprint import pprint\n",
    "import json\n",
    "import csv\n",
    "import numpy as np\n",
    "import pandas as pd\n",
    "from pathlib import Path\n",
    "import matplotlib.pyplot as plt\n",
    "from mne.preprocessing import (ICA, create_eog_epochs, create_ecg_epochs, corrmap)\n",
    "from scipy import stats"
   ]
  },
  {
   "cell_type": "code",
   "execution_count": 71,
   "id": "95e2ff25",
   "metadata": {},
   "outputs": [
    {
     "name": "stdout",
     "output_type": "stream",
     "text": [
      "Reading /Volumes/Neurolang_1/Project_Assistant/2021_Ongoing/2020_LTTC/Experiment_materials/LTTC_MEG/LTTC_MEG_ALL_results/S009_ICAed_LDT-epo.fif ...\n",
      "Isotrak not found\n",
      "    Found the data of interest:\n",
      "        t =    -100.00 ...     700.00 ms\n",
      "        0 CTF compensation matrices available\n",
      "0 bad epochs dropped\n",
      "Not setting metadata\n",
      "120 matching events found\n",
      "No baseline correction applied\n",
      "0 projection items activated\n"
     ]
    },
    {
     "ename": "TypeError",
     "evalue": "'EvokedArray' object is not callable",
     "output_type": "error",
     "traceback": [
      "\u001b[0;31m---------------------------------------------------------------------------\u001b[0m",
      "\u001b[0;31mTypeError\u001b[0m                                 Traceback (most recent call last)",
      "Input \u001b[0;32mIn [71]\u001b[0m, in \u001b[0;36m<cell line: 26>\u001b[0;34m()\u001b[0m\n\u001b[1;32m     35\u001b[0m evoked_L \u001b[38;5;241m=\u001b[39m n_epoch_LDT[\u001b[38;5;124m\"\u001b[39m\u001b[38;5;124mLow_CD\u001b[39m\u001b[38;5;124m\"\u001b[39m]\u001b[38;5;241m.\u001b[39maverage()\n\u001b[1;32m     37\u001b[0m \u001b[38;5;66;03m#print(evoked_H)\u001b[39;00m\n\u001b[1;32m     38\u001b[0m \n\u001b[1;32m     39\u001b[0m \u001b[38;5;66;03m# Get the data of certain time range of the evoked, we should pick the certain channel to conduct statistics\u001b[39;00m\n\u001b[1;32m     40\u001b[0m \u001b[38;5;66;03m#tmp_evoked_H = evoked_H().copy()\u001b[39;00m\n\u001b[1;32m     41\u001b[0m \u001b[38;5;66;03m#tmp_evoked_L = evoked_L().copy()\u001b[39;00m\n\u001b[0;32m---> 42\u001b[0m tmp_data_H_FLOAT \u001b[38;5;241m=\u001b[39m \u001b[43mevoked_H\u001b[49m\u001b[43m(\u001b[49m\u001b[43m)\u001b[49m\u001b[38;5;241m.\u001b[39mcopy()\u001b[38;5;241m.\u001b[39mcrop(\u001b[38;5;241m0.35\u001b[39m, \u001b[38;5;241m0.6\u001b[39m)\u001b[38;5;241m.\u001b[39mget_data() \u001b[38;5;66;03m#.mean()\u001b[39;00m\n\u001b[1;32m     43\u001b[0m tmp_data_L_FLOAT \u001b[38;5;241m=\u001b[39m evoked_L()\u001b[38;5;241m.\u001b[39mcopy()\u001b[38;5;241m.\u001b[39mcrop(\u001b[38;5;241m0.35\u001b[39m, \u001b[38;5;241m0.6\u001b[39m)\u001b[38;5;241m.\u001b[39mget_data() \u001b[38;5;66;03m#.mean()\u001b[39;00m\n\u001b[1;32m     45\u001b[0m \u001b[38;5;28mprint\u001b[39m(\u001b[38;5;124m\"\u001b[39m\u001b[38;5;124m                         S\u001b[39m\u001b[38;5;132;01m%.3d\u001b[39;00m\u001b[38;5;124m_H\u001b[39m\u001b[38;5;124m\"\u001b[39m \u001b[38;5;241m%\u001b[39msub_id, tmp_data_H_FLOAT)\n",
      "\u001b[0;31mTypeError\u001b[0m: 'EvokedArray' object is not callable"
     ]
    }
   ],
   "source": [
    "# Get the combined epochs to get the data in specific time window for statistics analysis\n",
    "root_data_path = Path(\"/Volumes/Neurolang_1/Project_Assistant/2021_Ongoing/2020_LTTC/Experiment_materials/LTTC_MEG\")\n",
    "meg_data_path = root_data_path / \"LTTC_MEG_ALL_results\"\n",
    "\n",
    "\n",
    "#print(root_data_path)\n",
    "\n",
    "\n",
    "\"\"\"\n",
    "n_epoch_LDT = mne.read_epochs(meg_data_path / Path('009-016_LDT-merge-epo.fif'))\n",
    "n_epoch_LDT.pick('mag')\n",
    "#n_epoch_LDT = n_epoch_LDT.load_data().get_data()\n",
    "#print(n_epoch_LDT)\n",
    "print(len(n_epoch_LDT))\n",
    "\n",
    "n_epoch_LDT.plot()\n",
    "\"\"\"\n",
    "\n",
    "\n",
    "tmp_sub_evoked_meanH_LIST = []\n",
    "all_sub_evoked_meanH_LIST = []\n",
    "\n",
    "tmp_sub_evoked_meanL_LIST = []\n",
    "all_sub_evoked_meanL_LIST = []\n",
    "\n",
    "for idINT in range(9, 17):\n",
    "    sub_id = idINT\n",
    "    \n",
    "    # Load in the epochs of each subs\n",
    "    n_epoch_LDT = mne.read_epochs(meg_data_path / Path('S%.3d_ICAed_LDT-epo.fif' %sub_id))   \n",
    "    n_epoch_LDT.pick('mag').pick_channels([\"MEG 043\"])\n",
    "    \n",
    "    # Get the evoked responses from the epochs\n",
    "    evoked_H = n_epoch_LDT[\"High_CD\"].average()\n",
    "    evoked_L = n_epoch_LDT[\"Low_CD\"].average()\n",
    "    \n",
    "    #print(evoked_H)\n",
    "    \n",
    "    # Get the data of certain time range of the evoked, we should pick the certain channel to conduct statistics\n",
    "    #tmp_evoked_H = evoked_H().copy()\n",
    "    #tmp_evoked_L = evoked_L().copy()\n",
    "    tmp_data_H_FLOAT = evoked_H().copy().crop(0.35, 0.6).get_data() #.mean()\n",
    "    tmp_data_L_FLOAT = evoked_L().copy().crop(0.35, 0.6).get_data() #.mean()\n",
    "    \n",
    "    print(\"                         S%.3d_H\" %sub_id, tmp_data_H_FLOAT)\n",
    "    print(\"                         S%.3d_L\" %sub_id, tmp_data_L_FLOAT)\n",
    "    \"\"\"\n",
    "    tmp_sub_evoked_meanH_LIST.extend([tmp_data_H_FLOAT])\n",
    "    tmp_sub_evoked_meanL_LIST.extend([tmp_data_L_FLOAT])\n",
    "    \n",
    "    print(\"                                                   HEREEEEEE!!\", len(tmp_sub_evoked_meanH_LIST))\n",
    "    print(\"                                                   HEREEEEEE!!\", len(tmp_sub_evoked_meanL_LIST))\n",
    "    \n",
    "    #all_sub_epochsLIST = mne.concatenate_epochs(tmp_sub_epochsLIST)\n",
    "\"\"\""
   ]
  },
  {
   "cell_type": "code",
   "execution_count": null,
   "id": "98ac7341",
   "metadata": {},
   "outputs": [],
   "source": [
    "print(tmp_sub_evoked_meanH_LIST)\n",
    "print(tmp_sub_evoked_meanL_LIST)"
   ]
  },
  {
   "cell_type": "code",
   "execution_count": null,
   "id": "8d3a2766",
   "metadata": {},
   "outputs": [],
   "source": [
    "evoked_meanH_Array = np.array(tmp_sub_evoked_meanH_LIST)\n",
    "print(len(evoked_meanH_Array))\n",
    "evoked_meanL_Array = np.array(tmp_sub_evoked_meanL_LIST)\n",
    "print(len(evoked_meanL_Array))\n",
    "\n",
    "# Conducting pair t-test bwtween HCD & LCD evoked\n",
    "pair_ttest_CD = stats.ttest_rel(evoked_meanH_Array, evoked_meanL_Array)\n",
    "print(pair_ttest_CD)\n",
    "print(type(pair_ttest_CD))"
   ]
  },
  {
   "cell_type": "code",
   "execution_count": 68,
   "id": "23a1326d",
   "metadata": {},
   "outputs": [],
   "source": [
    "#evoked_C = all_sub_epochsLIST[\"Control\"].average()\n",
    "evoked_H = n_epoch_LDT[\"High_CD\"].average()\n",
    "evoked_L = n_epoch_LDT[\"Low_CD\"].average()\n",
    "\n",
    "#evoked_H.save(meg_data_path / Path('009-016_LDT-evoked_H-ave.fif'), overwrite=True)\n",
    "#evoked_L.save(meg_data_path / Path('009-016_LDT-evoked_L-ave.fif'), overwrite=True)"
   ]
  },
  {
   "cell_type": "code",
   "execution_count": null,
   "id": "427fb3a5",
   "metadata": {},
   "outputs": [],
   "source": [
    "tmp_evoked_H = evoked_H.copy()\n",
    "print(tmp_evoked_H)"
   ]
  },
  {
   "cell_type": "code",
   "execution_count": 70,
   "id": "b893993e",
   "metadata": {},
   "outputs": [
    {
     "name": "stdout",
     "output_type": "stream",
     "text": [
      "<class 'numpy.float64'>\n",
      "-2.4216944718549158e-15\n",
      "<class 'numpy.float64'>\n",
      "-1.7082151511711605e-14\n"
     ]
    }
   ],
   "source": [
    "# Testing to get the data of certain time range of the evoked\n",
    "#tmp_evoked_H = evoked_H.copy()\n",
    "\n",
    "#print(tmp_evoked_H)\n",
    "\n",
    "time_range = [0.4, 0.6]\n",
    "tmp_data_H_FLOAT = evoked_H.copy().crop(0.4, 0.6).get_data().mean()\n",
    "\n",
    "print(type(tmp_data_H))\n",
    "#print(len(tmp_data_H))\n",
    "print(tmp_data_H)\n",
    "\n",
    "#tmp_evoked_L = evoked_L.copy()\n",
    "\n",
    "time_range = [0.4, 0.6]\n",
    "tmp_data_L = evoked_L.copy().crop(0.4, 0.6).get_data().mean()\n",
    "\n",
    "print(type(tmp_data_L))\n",
    "#print(len(tmp_data_L))\n",
    "print(tmp_data_L)"
   ]
  },
  {
   "cell_type": "code",
   "execution_count": null,
   "id": "e0bfad90",
   "metadata": {
    "scrolled": true
   },
   "outputs": [],
   "source": [
    "#evoked_C = all_sub_epochsLIST[\"Control\"].average()\n",
    "evoked_H = n_epoch_LDT[\"High_CD\"].average()\n",
    "evoked_L = n_epoch_LDT[\"Low_CD\"].average()\n",
    "\n",
    "#evoked_C.comment = 'Control'\n",
    "evoked_H.comment = 'High_CD'\n",
    "evoked_L.comment = 'Low_CD'\n",
    "\n",
    "tmp = [evoked_H, evoked_L] # [evoked_H, evoked_L]evoked_C, \n",
    "colors = 'blue', 'green'  #C:'red'H:'blue'; L:'green';   # 'blue', 'green'\n",
    "mne.viz.plot_evoked_topo(tmp, color = colors)"
   ]
  },
  {
   "cell_type": "code",
   "execution_count": null,
   "id": "da8407a8",
   "metadata": {},
   "outputs": [],
   "source": [
    "all_sub_epochsLIST.save(meg_data_path / Path('009-016_LDT-merge-epo.fif'), overwrite=True)"
   ]
  },
  {
   "cell_type": "code",
   "execution_count": null,
   "id": "e228df1e",
   "metadata": {},
   "outputs": [],
   "source": [
    "# To see the average evoked of every participants so far\n",
    "\n",
    "#evoked_C = all_sub_epochsLIST[\"Control\"].average()\n",
    "evoked_H = all_sub_epochsLIST[\"High_CD\"].average()\n",
    "evoked_L = all_sub_epochsLIST[\"Low_CD\"].average()\n",
    "\n",
    "#evoked_C.comment = 'Control'\n",
    "evoked_H.comment = 'High_CD'\n",
    "evoked_L.comment = 'Low_CD'\n",
    "\n",
    "tmp = [evoked_H, evoked_L] # [evoked_H, evoked_L]evoked_C, \n",
    "colors = 'blue', 'green'  #C:'red'H:'blue'; L:'green';   # 'blue', 'green'\n",
    "mne.viz.plot_evoked_topo(tmp, color = colors)"
   ]
  },
  {
   "cell_type": "code",
   "execution_count": null,
   "id": "1374f671",
   "metadata": {},
   "outputs": [],
   "source": [
    "# Plot the joint\n",
    "#mne.viz.plot_compare_evokeds(tmp, picks='mag')\n",
    "H_minus_L = mne.combine_evoked([evoked_H, evoked_L], weights=[1, -1])\n",
    "H_minus_L.plot_joint()\n",
    "plt.savefig(meg_data_path / Path('H-minus-L_evoked.png'), overwrite=True)\n",
    "\n",
    "# Plot the specific times\n",
    "times = np.linspace(0.05, 0.650, 13)\n",
    "H_minus_L.plot_topomap(ch_type='mag', times=times, colorbar=True)\n",
    "plt.savefig(meg_data_path / Path('H-minus-L_evoked_topomap.png'), overwrite=True)"
   ]
  },
  {
   "cell_type": "code",
   "execution_count": null,
   "id": "4d15637b",
   "metadata": {},
   "outputs": [],
   "source": [
    "#evoked_C = n_epoch_LDT[\"Control\"].average()\n",
    "evoked_H = all_sub_epochsLIST[\"High_CD\"].average()\n",
    "evoked_L = all_sub_epochsLIST[\"Low_CD\"].average()\n",
    "\n",
    "times = np.linspace(0.05, 0.45, 9)\n",
    "#evoked_C.plot_topomap(ch_type='mag', times=times, colorbar=True)\n",
    "evoked_H.plot_topomap(ch_type='mag', times=times, colorbar=True)\n",
    "plt.savefig(meg_data_path / Path('HCD-evoked_topomap.png'), overwrite=True)\n",
    "evoked_L.plot_topomap(ch_type='mag', times=times, colorbar=True)\n",
    "plt.savefig(meg_data_path / Path('LCD-evoked_topomap.png'), overwrite=True)"
   ]
  },
  {
   "cell_type": "code",
   "execution_count": null,
   "id": "fb0f819d",
   "metadata": {},
   "outputs": [],
   "source": [
    "# Check the resluts of some channel\n",
    "# MEG 043最大/ MEG 048_跟046一樣小/ MEG 045 ＝ MEG 044＿比046大一點/ MEG 046_小/ MEG 047_比046小\n",
    "\n",
    "mne.viz.plot_compare_evokeds(tmp, picks='MEG 043')\n",
    "mne.viz.plot_compare_evokeds(tmp, picks='MEG 044')\n",
    "mne.viz.plot_compare_evokeds(tmp, picks='MEG 045')\n",
    "mne.viz.plot_compare_evokeds(tmp, picks='MEG 048')"
   ]
  },
  {
   "cell_type": "code",
   "execution_count": null,
   "id": "41cc8711",
   "metadata": {},
   "outputs": [],
   "source": [
    "MEG_043_topofig = mne.viz.plot_compare_evokeds(tmp, picks='MEG 043')\n",
    "plt.savefig(meg_data_path / Path('MEG_043_evoked.png'), overwrite=True)"
   ]
  },
  {
   "cell_type": "code",
   "execution_count": null,
   "id": "c354fed7",
   "metadata": {},
   "outputs": [],
   "source": [
    "evoked_H.plot_joint()\n",
    "plt.savefig(meg_data_path / Path('HCD-evoked_joint.png'), overwrite=True)\n",
    "evoked_L.plot_joint()\n",
    "plt.savefig(meg_data_path / Path('LCD-evoked_joint.png'), overwrite=True)"
   ]
  },
  {
   "cell_type": "code",
   "execution_count": null,
   "id": "5968372e",
   "metadata": {},
   "outputs": [],
   "source": []
  }
 ],
 "metadata": {
  "kernelspec": {
   "display_name": "Python 3 (ipykernel)",
   "language": "python",
   "name": "python3"
  },
  "language_info": {
   "codemirror_mode": {
    "name": "ipython",
    "version": 3
   },
   "file_extension": ".py",
   "mimetype": "text/x-python",
   "name": "python",
   "nbconvert_exporter": "python",
   "pygments_lexer": "ipython3",
   "version": "3.10.4"
  }
 },
 "nbformat": 4,
 "nbformat_minor": 5
}
