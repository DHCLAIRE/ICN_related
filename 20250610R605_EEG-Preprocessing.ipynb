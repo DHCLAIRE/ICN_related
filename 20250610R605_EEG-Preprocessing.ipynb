{
 "cells": [
  {
   "cell_type": "code",
   "execution_count": 18,
   "id": "6634f709",
   "metadata": {},
   "outputs": [],
   "source": [
    "%matplotlib qt"
   ]
  },
  {
   "cell_type": "code",
   "execution_count": 2,
   "id": "4d00b832",
   "metadata": {},
   "outputs": [],
   "source": [
    "import mne\n",
    "from pprint import pprint\n",
    "import json\n",
    "import csv\n",
    "import numpy as np\n",
    "import matplotlib.pyplot as plt\n",
    "\n",
    "import pandas as pd\n",
    "from pathlib import Path\n",
    "from mne.preprocessing import (ICA, create_eog_epochs, create_ecg_epochs, corrmap)"
   ]
  },
  {
   "cell_type": "code",
   "execution_count": 37,
   "id": "3e7b647b-8fef-41d7-8758-42b2f3ac7277",
   "metadata": {},
   "outputs": [
    {
     "name": "stdout",
     "output_type": "stream",
     "text": [
      "/Users/neuroling/Downloads/20250610_EEG-Demo\n",
      "Reading 0 ... 410367  =      0.000 ...   400.749 secs...\n",
      "Using pyopengl with version 3.1.1a1\n",
      "<Info | 10 non-empty values\n",
      " bads: 1 items (Trigger)\n",
      " ch_names: Fz_1, Trigger\n",
      " chs: 1 EOG, 1 EEG\n",
      " custom_ref_applied: False\n",
      " dig: 5 items (3 Cardinal, 2 EEG)\n",
      " highpass: 0.0 Hz\n",
      " lowpass: 512.0 Hz\n",
      " meas_date: 2025-10-06 06:35:17 UTC\n",
      " nchan: 2\n",
      " projs: []\n",
      " sfreq: 1024.0 Hz\n",
      " subject_info: 5 items (dict)\n",
      ">\n",
      "Effective window size : 2.000 (s)\n",
      "Need more than one channel to make topography for eeg. Disabling interactivity.\n",
      "Overwriting existing file.\n",
      "Writing /Users/neuroling/Downloads/20250610_EEG-Demo/rawfif_all/eeg_20250610_test_new_MMN_noNotch.fif\n",
      "Closing /Users/neuroling/Downloads/20250610_EEG-Demo/rawfif_all/eeg_20250610_test_new_MMN_noNotch.fif\n",
      "[done]\n"
     ]
    },
    {
     "name": "stderr",
     "output_type": "stream",
     "text": [
      "/var/folders/dt/yj00f34n5x52_p314tnwfjkw0000gn/T/ipykernel_10803/553680883.py:29: RuntimeWarning: This filename (/Users/neuroling/Downloads/20250610_EEG-Demo/rawfif_all/eeg_20250610_test_new_MMN_noNotch.fif) does not conform to MNE naming conventions. All raw files should end with raw.fif, raw_sss.fif, raw_tsss.fif, _meg.fif, _eeg.fif, _ieeg.fif, raw.fif.gz, raw_sss.fif.gz, raw_tsss.fif.gz, _meg.fif.gz, _eeg.fif.gz or _ieeg.fif.gz\n",
      "  n_MMN_raw.save(fif_DIR / Path('eeg_20250610_test_new_MMN_noNotch.fif'), overwrite=True)\n"
     ]
    },
    {
     "name": "stdout",
     "output_type": "stream",
     "text": [
      "Channels marked as bad:\n",
      "['Trigger']\n"
     ]
    }
   ],
   "source": [
    "# Use the .fif files produced from kit2fiff packages\n",
    "root_data_path = Path(\"/Users/neuroling/Downloads/20250610_EEG-Demo\")\n",
    "print(root_data_path)\n",
    "\n",
    "# new = new gel ; original: old gel\n",
    "\n",
    "EEG_cntFile = root_data_path / Path('eeg_20250610_test_new_MMN_noNotch.cnt') #eeg_20250610_test_original_noNotch.cnt\n",
    "#LDT_raw =  mne.io.read_raw_kit(LDT_confile, stim = [195], preload=True) #, slope = '+') #slope=將3個stim_channel的訊號全部加成,讓訊號增強\n",
    "                                                                #把原始的KIT資料讀進\n",
    "#LDT_raw.plot()\n",
    "#events = mne.find_events(LDT_raw, stim_channel='STI 014') #將集合而成的channel命名為STI 014\n",
    "\n",
    "MMN_raw = mne.io.read_raw_cnt(EEG_cntFile, eog=\"header\", preload=True)\n",
    "#MMN_raw.plot()\n",
    "\n",
    "n_MMN_raw = MMN_raw.copy()\n",
    "#n_MMN_filtered = n_MMN_raw.notch_filter(freqs=50, picks=\"all\")\n",
    "n_MMN_raw.plot()\n",
    "#n_MMN_filtered.plot()\n",
    "print(n_MMN_raw.info)\n",
    "\n",
    "# Calculate the power spectrum density to examine the power in each frequency.\n",
    "n_MMN_raw.compute_psd(fmax=100).plot()#.(fmax=100)\n",
    "\n",
    "# Save the cnt into .fif for a easier further analysis\n",
    "fif_DIR = root_data_path / 'rawfif_all'\n",
    "fif_DIR.mkdir(exist_ok=True)\n",
    "\n",
    "n_MMN_raw.save(fif_DIR / Path('eeg_20250610_test_new_MMN_noNotch.fif'), overwrite=True)"
   ]
  },
  {
   "cell_type": "code",
   "execution_count": 53,
   "id": "62c17c8b-4d73-4e8a-966c-79900dc907d7",
   "metadata": {},
   "outputs": [
    {
     "data": {
      "text/plain": [
       "['Fz_1', 'Trigger']"
      ]
     },
     "execution_count": 53,
     "metadata": {},
     "output_type": "execute_result"
    }
   ],
   "source": [
    "n_MMN_raw.ch_names # Where are the annotations"
   ]
  },
  {
   "cell_type": "code",
   "execution_count": 84,
   "id": "cc8a6130-ac57-4fb0-995b-2175861cbba9",
   "metadata": {},
   "outputs": [
    {
     "name": "stdout",
     "output_type": "stream",
     "text": [
      "Used Annotations descriptions: ['1', '2', '20', '21', '22', '23', '24', '3', '4', '5', '55']\n",
      "[[  8744      0      1]\n",
      " [ 68651      0      3]\n",
      " [144131      0     11]\n",
      " [146165      0      2]\n",
      " [209144      0      4]\n",
      " [278897      0     11]\n",
      " [280916      0      8]\n",
      " [346966      0      5]\n",
      " [357762      0     11]\n",
      " [359970      0      9]\n",
      " [432166      0      6]\n",
      " [439272      0     11]\n",
      " [441476      0     10]\n",
      " [510597      0      7]\n",
      " [520315      0     11]]\n",
      "<class 'numpy.ndarray'>\n",
      "15\n",
      "Used Annotations descriptions: ['1', '2', '20', '21', '22', '23', '24', '3', '4', '5', '55']\n",
      "Used Annotations descriptions: ['1', '2', '20', '21', '22', '23', '24', '3', '4', '5', '55']\n",
      "{'1': 1, '2': 2, '20': 3, '21': 4, '22': 5, '23': 6, '24': 7, '3': 8, '4': 9, '5': 10, '55': 11} 11\n",
      "[[  8744      0      1]\n",
      " [146165      0      2]\n",
      " [280916      0      8]\n",
      " [359970      0      9]\n",
      " [441476      0     10]]\n",
      "5\n",
      "[[144131      0     11]\n",
      " [278897      0     11]\n",
      " [357762      0     11]\n",
      " [439272      0     11]\n",
      " [520315      0     11]]\n",
      "5\n",
      "8.5390625 140.7529296875\n",
      "Writing /Users/neuroling/Downloads/20250610_EEG-Demo/rawfif_all/eyeOpen_2min_new_Notched.fif\n",
      "Closing /Users/neuroling/Downloads/20250610_EEG-Demo/rawfif_all/eyeOpen_2min_new_Notched.fif\n",
      "[done]\n",
      "142.7392578125 272.3603515625\n",
      "Writing /Users/neuroling/Downloads/20250610_EEG-Demo/rawfif_all/eyeClose_2min_new_Notched.fif\n",
      "Closing /Users/neuroling/Downloads/20250610_EEG-Demo/rawfif_all/eyeClose_2min_new_Notched.fif\n",
      "[done]\n",
      "274.33203125 349.376953125\n",
      "Writing /Users/neuroling/Downloads/20250610_EEG-Demo/rawfif_all/Blink_60count_new_Notched.fif\n",
      "Closing /Users/neuroling/Downloads/20250610_EEG-Demo/rawfif_all/Blink_60count_new_Notched.fif\n",
      "[done]\n",
      "351.533203125 428.9765625\n",
      "Writing /Users/neuroling/Downloads/20250610_EEG-Demo/rawfif_all/HEOG_60count_new_Notched.fif\n"
     ]
    },
    {
     "name": "stderr",
     "output_type": "stream",
     "text": [
      "/var/folders/dt/yj00f34n5x52_p314tnwfjkw0000gn/T/ipykernel_27770/114270842.py:32: RuntimeWarning: This filename (/Users/neuroling/Downloads/20250610_EEG-Demo/rawfif_all/eyeOpen_2min_new_Notched.fif) does not conform to MNE naming conventions. All raw files should end with raw.fif, raw_sss.fif, raw_tsss.fif, _meg.fif, _eeg.fif, _ieeg.fif, raw.fif.gz, raw_sss.fif.gz, raw_tsss.fif.gz, _meg.fif.gz, _eeg.fif.gz or _ieeg.fif.gz\n",
      "  cut_eeg.save(fif_DIR / Path('%s_new_Notched.fif' %fifname_LIST[i]), overwrite=True)\n",
      "/var/folders/dt/yj00f34n5x52_p314tnwfjkw0000gn/T/ipykernel_27770/114270842.py:32: RuntimeWarning: This filename (/Users/neuroling/Downloads/20250610_EEG-Demo/rawfif_all/eyeClose_2min_new_Notched.fif) does not conform to MNE naming conventions. All raw files should end with raw.fif, raw_sss.fif, raw_tsss.fif, _meg.fif, _eeg.fif, _ieeg.fif, raw.fif.gz, raw_sss.fif.gz, raw_tsss.fif.gz, _meg.fif.gz, _eeg.fif.gz or _ieeg.fif.gz\n",
      "  cut_eeg.save(fif_DIR / Path('%s_new_Notched.fif' %fifname_LIST[i]), overwrite=True)\n",
      "/var/folders/dt/yj00f34n5x52_p314tnwfjkw0000gn/T/ipykernel_27770/114270842.py:32: RuntimeWarning: This filename (/Users/neuroling/Downloads/20250610_EEG-Demo/rawfif_all/Blink_60count_new_Notched.fif) does not conform to MNE naming conventions. All raw files should end with raw.fif, raw_sss.fif, raw_tsss.fif, _meg.fif, _eeg.fif, _ieeg.fif, raw.fif.gz, raw_sss.fif.gz, raw_tsss.fif.gz, _meg.fif.gz, _eeg.fif.gz or _ieeg.fif.gz\n",
      "  cut_eeg.save(fif_DIR / Path('%s_new_Notched.fif' %fifname_LIST[i]), overwrite=True)\n",
      "/var/folders/dt/yj00f34n5x52_p314tnwfjkw0000gn/T/ipykernel_27770/114270842.py:32: RuntimeWarning: This filename (/Users/neuroling/Downloads/20250610_EEG-Demo/rawfif_all/HEOG_60count_new_Notched.fif) does not conform to MNE naming conventions. All raw files should end with raw.fif, raw_sss.fif, raw_tsss.fif, _meg.fif, _eeg.fif, _ieeg.fif, raw.fif.gz, raw_sss.fif.gz, raw_tsss.fif.gz, _meg.fif.gz, _eeg.fif.gz or _ieeg.fif.gz\n",
      "  cut_eeg.save(fif_DIR / Path('%s_new_Notched.fif' %fifname_LIST[i]), overwrite=True)\n"
     ]
    },
    {
     "name": "stdout",
     "output_type": "stream",
     "text": [
      "Closing /Users/neuroling/Downloads/20250610_EEG-Demo/rawfif_all/HEOG_60count_new_Notched.fif\n",
      "[done]\n",
      "431.12890625 508.1201171875\n",
      "Writing /Users/neuroling/Downloads/20250610_EEG-Demo/rawfif_all/VEOG_60count_new_Notched.fif\n",
      "Closing /Users/neuroling/Downloads/20250610_EEG-Demo/rawfif_all/VEOG_60count_new_Notched.fif\n",
      "[done]\n"
     ]
    },
    {
     "name": "stderr",
     "output_type": "stream",
     "text": [
      "/var/folders/dt/yj00f34n5x52_p314tnwfjkw0000gn/T/ipykernel_27770/114270842.py:32: RuntimeWarning: This filename (/Users/neuroling/Downloads/20250610_EEG-Demo/rawfif_all/VEOG_60count_new_Notched.fif) does not conform to MNE naming conventions. All raw files should end with raw.fif, raw_sss.fif, raw_tsss.fif, _meg.fif, _eeg.fif, _ieeg.fif, raw.fif.gz, raw_sss.fif.gz, raw_tsss.fif.gz, _meg.fif.gz, _eeg.fif.gz or _ieeg.fif.gz\n",
      "  cut_eeg.save(fif_DIR / Path('%s_new_Notched.fif' %fifname_LIST[i]), overwrite=True)\n"
     ]
    },
    {
     "data": {
      "text/plain": [
       "'\\nepochs = mne.Epochs(n_MMN_raw, events=events_ann_ndArray, event_id=events_id_DICT, preload=True)\\n                    tmin=, tmax=0.8, baseline=(None, 0), preload=True)\\n'"
      ]
     },
     "execution_count": 84,
     "metadata": {},
     "output_type": "execute_result"
    }
   ],
   "source": [
    "# This is the original brain data's triggers\n",
    "'''\n",
    "Triggers_ID:\n",
    "12345 >> the start of task\n",
    "55 >> the end of task\n",
    "20 ~ 24 >> the start of questions' texts (irrelevant in here, please ignore it)\n",
    "'''\n",
    "\n",
    "## Segment the EEG according to tasks, 5 parts in total.\n",
    "events_ann_ndArray = mne.events_from_annotations(n_MMN_raw)[0]\n",
    "print(events_ann_ndArray)\n",
    "print(type(events_ann_ndArray))\n",
    "print(len(events_ann_ndArray))\n",
    "print(mne.events_from_annotations(n_MMN_raw)[1], len(mne.events_from_annotations(n_MMN_raw)[1]))\n",
    "\n",
    "events_id_DICT = {'1': 1, '2': 2, '20': 3, '21': 4, '22': 5, '23': 6, '24': 7, '3': 8, '4': 9, '5': 10, '55': 11}\n",
    "raw_sfreq = n_MMN_raw.info['sfreq'] # supposedly to be 1000 Hz\n",
    "fifname_LIST = [\"eyeOpen_2min\", \"eyeClose_2min\", \"Blink_60count\", \"HEOG_60count\", \"VEOG_60count\"]\n",
    "\n",
    "# Get the start points in every 3 segment, staring from index[0]\n",
    "start_tNDarray = events_ann_ndArray[::3]\n",
    "print(start_tNDarray)\n",
    "print(len(start_tNDarray))\n",
    "\n",
    "# Get the end points in every 3 segment, staring from index[2]\n",
    "end_tNDarray = events_ann_ndArray[2::3]\n",
    "print(end_tNDarray)\n",
    "print(len(end_tNDarray))\n",
    "\n",
    "# segment the EEG data according to the points that are going to be converted into times, and save the raw EEG files\n",
    "for i in range(5):\n",
    "    print(start_tNDarray[i][0]/int(raw_sfreq), end_tNDarray[i][0]/int(raw_sfreq))\n",
    "    # in here, we exclude the +0.5 at the end of the end points for the reason of 0.5 delay when the questions start trigger appear\n",
    "    cut_eeg = n_MMN_raw.copy().crop((start_tNDarray[i][0]/int(raw_sfreq)), (end_tNDarray[i][0]/int(raw_sfreq)))\n",
    "    cut_eeg.save(fif_DIR / Path('%s_new_Notched.fif' %fifname_LIST[i]), overwrite=True)\n",
    "\n",
    "\n",
    "\"\"\"\n",
    "epochs = mne.Epochs(n_MMN_raw, events=events_ann_ndArray, event_id=events_id_DICT, preload=True)\n",
    "                    tmin=, tmax=0.8, baseline=(None, 0), preload=True)\n",
    "\"\"\""
   ]
  },
  {
   "cell_type": "code",
   "execution_count": 92,
   "id": "e737e448-ebec-49a5-8011-15eb96f5d7bc",
   "metadata": {},
   "outputs": [
    {
     "name": "stdout",
     "output_type": "stream",
     "text": [
      "Opening raw data file /Users/neuroling/Downloads/20250610_EEG-Demo/rawfif_all/eeg_20250610_test_new_MMN_noNotch.fif...\n",
      "    Range : 0 ... 410367 =      0.000 ...   400.749 secs\n",
      "Ready.\n",
      "Reading 0 ... 410367  =      0.000 ...   400.749 secs...\n",
      "['Fz_1', 'Trigger']\n",
      "['eog', 'eeg']\n"
     ]
    },
    {
     "name": "stderr",
     "output_type": "stream",
     "text": [
      "/var/folders/dt/yj00f34n5x52_p314tnwfjkw0000gn/T/ipykernel_10803/2173442264.py:4: RuntimeWarning: This filename (/Users/neuroling/Downloads/20250610_EEG-Demo/rawfif_all/eeg_20250610_test_new_MMN_noNotch.fif) does not conform to MNE naming conventions. All raw files should end with raw.fif, raw_sss.fif, raw_tsss.fif, _meg.fif, _eeg.fif, _ieeg.fif, raw.fif.gz, raw_sss.fif.gz, raw_tsss.fif.gz, _meg.fif.gz, _eeg.fif.gz or _ieeg.fif.gz\n",
      "  raw_MMN_fif = mne.io.read_raw_fif(rawfif_datapath, preload=True)\n"
     ]
    },
    {
     "name": "stdout",
     "output_type": "stream",
     "text": [
      "Using pyopengl with version 3.1.1a1\n",
      "Used Annotations descriptions: ['1', '2', '3', '4']\n",
      "3 [[  4908      0      4]\n",
      " [  5676      0      4]\n",
      " [  6444      0      4]\n",
      " ...\n",
      " [401278      0      1]\n",
      " [402046      0      1]\n",
      " [402814      0      3]]\n",
      "Not setting metadata\n",
      "500 matching events found\n",
      "Setting baseline interval to [-0.099609375, 0.0] s\n",
      "Applying baseline correction (mode: mean)\n",
      "0 projection items activated\n",
      "Using data from preloaded Raw for 500 events and 820 original time points ...\n",
      "0 bad epochs dropped\n"
     ]
    },
    {
     "name": "stderr",
     "output_type": "stream",
     "text": [
      "/var/folders/dt/yj00f34n5x52_p314tnwfjkw0000gn/T/ipykernel_10803/2173442264.py:32: RuntimeWarning: This filename (/Users/neuroling/Downloads/20250610_EEG-Demo/rawfif_all/new_MMN_noNotch_nofilter_epochs.fif) does not conform to MNE naming conventions. All epochs files should end with -epo.fif, -epo.fif.gz, _epo.fif or _epo.fif.gz\n",
      "  n_epoch_MMN.save(fif_DIR / Path('new_MMN_noNotch_nofilter_epochs.fif'), overwrite=True)\n"
     ]
    },
    {
     "data": {
      "text/html": [
       "<table class=\"table table-hover table-striped table-sm table-responsive small\">\n",
       "    <tr>\n",
       "        <th>Number of events</th>\n",
       "        <td>500</td>\n",
       "    </tr>\n",
       "    <tr>\n",
       "        <th>Events</th>\n",
       "        \n",
       "        <td>deviant_2: 50<br/>deviant_3: 50<br/>standard: 400</td>\n",
       "        \n",
       "    </tr>\n",
       "    <tr>\n",
       "        <th>Time range</th>\n",
       "        <td>-0.100 – 0.700 s</td>\n",
       "    </tr>\n",
       "    <tr>\n",
       "        <th>Baseline</th>\n",
       "        <td>-0.100 – 0.000 s</td>\n",
       "    </tr>\n",
       "</table>"
      ],
      "text/plain": [
       "<Epochs |  500 events (all good), -0.0996094 – 0.700195 s, baseline -0.0996094 – 0 s, ~6.3 MB, data loaded,\n",
       " 'standard': 400\n",
       " 'deviant_2': 50\n",
       " 'deviant_3': 50>"
      ]
     },
     "execution_count": 92,
     "metadata": {},
     "output_type": "execute_result"
    }
   ],
   "source": [
    "# MMN data analysis\n",
    "rawfif_datapath = fif_DIR / Path('eeg_20250610_test_new_MMN_noNotch.fif')\n",
    "\n",
    "raw_MMN_fif = mne.io.read_raw_fif(rawfif_datapath, preload=True)\n",
    "# Check whether the ch exists\n",
    "print(raw_MMN_fif.info['ch_names'])\n",
    "print(raw_MMN_fif.get_channel_types())\n",
    "# Rename the channels\n",
    "raw_MMN_fif.rename_channels({'Fz_1': 'Fz_1'})\n",
    "raw_MMN_fif.set_channel_types({'Fz_1': 'eeg'})\n",
    "\n",
    "raw_MMN_fif.plot()\n",
    "MMN_eventsArray = mne.events_from_annotations(raw_MMN_fif)[0]\n",
    "print(len(MMN_eventsArray[0]), MMN_eventsArray)\n",
    "\n",
    "\n",
    "# Creating the new epochs\n",
    "MMN_events = MMN_eventsArray#mne.find_events(raw_ICAed, stim_channel='STI 014')  #just checking what stim_channel documenting what.\n",
    "MMN_event_id = {'standard':1,'deviant_2':2, 'deviant_3': 3}  \n",
    "\n",
    "tmin = -0.1         \t\t\t\t\t\t\t\t# pre stimulis interval (in seconds) #\n",
    "tmax = 0.7          \t\t\t\t\t\t\t\t# post stimulus interval #\n",
    "\n",
    "baseline = (None, 0)  # tmin ~ 0 , -0.1s-0s   \n",
    "#reject = dict(mag=4e-12)\n",
    "\n",
    "# Load in the channels layouts\n",
    "#kit_lay = mne.channels.read_layout(\"KIT-157\")\n",
    "\n",
    "#raw_MMN_fif.filter(0, 30, phase= 'zero-double').resample(500)\n",
    "n_epoch_MMN = mne.Epochs(raw_MMN_fif, MMN_events, MMN_event_id, tmin, tmax, baseline=baseline, preload = True)\n",
    "n_epoch_MMN.save(fif_DIR / Path('new_MMN_noNotch_nofilter_epochs.fif'), overwrite=True)\n",
    "n_epoch_MMN"
   ]
  },
  {
   "cell_type": "code",
   "execution_count": 93,
   "id": "f327c3d3-00b1-4154-abf8-fc643fe22639",
   "metadata": {},
   "outputs": [
    {
     "data": {
      "text/html": [
       "<details open>\n",
       "    <summary><strong>General</strong></summary>\n",
       "    <table class=\"table table-hover table-striped table-sm table-responsive small\">\n",
       "        <tr>\n",
       "            <th>Measurement date</th>\n",
       "            \n",
       "            <td>10月 06, 2025  06:35:17 GMT</td>\n",
       "            \n",
       "        </tr>\n",
       "        <tr>\n",
       "            <th>Experimenter</th>\n",
       "            \n",
       "            <td>Unknown</td>\n",
       "            \n",
       "        </tr>\n",
       "        <tr>\n",
       "            <th>Participant</th>\n",
       "            \n",
       "            \n",
       "            \n",
       "        </tr>\n",
       "    </table>\n",
       "    </details>\n",
       "    <details open>\n",
       "        <summary><strong>Channels</strong></summary>\n",
       "        <table class=\"table table-hover table-striped table-sm table-responsive small\">\n",
       "            <tr>\n",
       "                <th>Digitized points</th>\n",
       "                \n",
       "                <td>5 points</td>\n",
       "                \n",
       "            </tr>\n",
       "            <tr>\n",
       "                <th>Good channels</th>\n",
       "                <td>1 EEG</td>\n",
       "            </tr>\n",
       "            <tr>\n",
       "                <th>Bad channels</th>\n",
       "                <td>Trigger</td>\n",
       "            </tr>\n",
       "            <tr>\n",
       "                <th>EOG channels</th>\n",
       "                <td>Not available</td>\n",
       "            </tr>\n",
       "            <tr>\n",
       "                <th>ECG channels</th>\n",
       "                <td>Not available</td>\n",
       "            </tr>\n",
       "        </table>\n",
       "        </details>\n",
       "        <details open>\n",
       "            <summary><strong>Data</strong></summary>\n",
       "            <table class=\"table table-hover table-striped table-sm table-responsive small\">\n",
       "                \n",
       "                <tr>\n",
       "                    <th>Sampling frequency</th>\n",
       "                    <td>1024.00 Hz</td>\n",
       "                </tr>\n",
       "                \n",
       "                \n",
       "                <tr>\n",
       "                    <th>Highpass</th>\n",
       "                    <td>0.00 Hz</td>\n",
       "                </tr>\n",
       "                \n",
       "                \n",
       "                <tr>\n",
       "                    <th>Lowpass</th>\n",
       "                    <td>512.00 Hz</td>\n",
       "                </tr>\n",
       "                \n",
       "                \n",
       "                \n",
       "                \n",
       "            </table>\n",
       "            </details>"
      ],
      "text/plain": [
       "<Info | 12 non-empty values\n",
       " bads: 1 items (Trigger)\n",
       " ch_names: Fz_1, Trigger\n",
       " chs: 2 EEG\n",
       " custom_ref_applied: False\n",
       " dig: 5 items (3 Cardinal, 2 EEG)\n",
       " file_id: 4 items (dict)\n",
       " highpass: 0.0 Hz\n",
       " lowpass: 512.0 Hz\n",
       " meas_date: 2025-10-06 06:35:17 UTC\n",
       " meas_id: 4 items (dict)\n",
       " nchan: 2\n",
       " projs: []\n",
       " sfreq: 1024.0 Hz\n",
       " subject_info: 2 items (dict)\n",
       ">"
      ]
     },
     "execution_count": 93,
     "metadata": {},
     "output_type": "execute_result"
    },
    {
     "name": "stdout",
     "output_type": "stream",
     "text": [
      "Channels marked as bad:\n",
      "['Trigger']\n"
     ]
    }
   ],
   "source": [
    "raw_MMN_fif.info"
   ]
  },
  {
   "cell_type": "code",
   "execution_count": 91,
   "id": "dc05071e-4842-4d6d-9ce1-56e54a302b64",
   "metadata": {},
   "outputs": [
    {
     "name": "stdout",
     "output_type": "stream",
     "text": [
      "Reading /Users/neuroling/Downloads/20250610_EEG-Demo/rawfif_all/new_MMN_noNotch_epochs.fif ...\n",
      "    Found the data of interest:\n",
      "        t =    -100.00 ...     700.00 ms\n",
      "        0 CTF compensation matrices available\n",
      "Not setting metadata\n",
      "236 matching events found\n",
      "No baseline correction applied\n",
      "0 projection items activated\n",
      "<Info | 12 non-empty values\n",
      " bads: 1 items (Trigger)\n",
      " ch_names: Fz_1, Trigger\n",
      " chs: 2 EEG\n",
      " custom_ref_applied: False\n",
      " dig: 5 items (3 Cardinal, 2 EEG)\n",
      " file_id: 4 items (dict)\n",
      " highpass: 0.0 Hz\n",
      " lowpass: 30.0 Hz\n",
      " meas_date: 2025-10-06 06:35:17 UTC\n",
      " meas_id: 4 items (dict)\n",
      " nchan: 2\n",
      " projs: []\n",
      " sfreq: 500.0 Hz\n",
      " subject_info: 2 items (dict)\n",
      ">\n",
      "Reading /Users/neuroling/Downloads/20250610_EEG-Demo/rawfif_all/new_MMN_Notched_epochs.fif ...\n",
      "    Found the data of interest:\n",
      "        t =    -100.00 ...     700.00 ms\n",
      "        0 CTF compensation matrices available\n",
      "Not setting metadata\n",
      "233 matching events found\n",
      "No baseline correction applied\n",
      "0 projection items activated\n",
      "<Info | 12 non-empty values\n",
      " bads: 1 items (Trigger)\n",
      " ch_names: Fz_1, Trigger\n",
      " chs: 2 EEG\n",
      " custom_ref_applied: False\n",
      " dig: 5 items (3 Cardinal, 2 EEG)\n",
      " file_id: 4 items (dict)\n",
      " highpass: 0.0 Hz\n",
      " lowpass: 30.0 Hz\n",
      " meas_date: 2025-10-06 07:03:10 UTC\n",
      " meas_id: 4 items (dict)\n",
      " nchan: 2\n",
      " projs: []\n",
      " sfreq: 500.0 Hz\n",
      " subject_info: 2 items (dict)\n",
      ">\n"
     ]
    },
    {
     "name": "stderr",
     "output_type": "stream",
     "text": [
      "/var/folders/dt/yj00f34n5x52_p314tnwfjkw0000gn/T/ipykernel_10803/1717620363.py:1: RuntimeWarning: This filename (/Users/neuroling/Downloads/20250610_EEG-Demo/rawfif_all/new_MMN_noNotch_epochs.fif) does not conform to MNE naming conventions. All epochs files should end with -epo.fif, -epo.fif.gz, _epo.fif or _epo.fif.gz\n",
      "  MMN_noNotch_fif = mne.read_epochs(fif_DIR / Path('new_MMN_noNotch_epochs.fif'), preload=True)\n",
      "/var/folders/dt/yj00f34n5x52_p314tnwfjkw0000gn/T/ipykernel_10803/1717620363.py:3: RuntimeWarning: This filename (/Users/neuroling/Downloads/20250610_EEG-Demo/rawfif_all/new_MMN_Notched_epochs.fif) does not conform to MNE naming conventions. All epochs files should end with -epo.fif, -epo.fif.gz, _epo.fif or _epo.fif.gz\n",
      "  MMN_Notched_fif = mne.read_epochs(fif_DIR / Path('new_MMN_Notched_epochs.fif'), preload=True)\n"
     ]
    }
   ],
   "source": [
    "MMN_noNotch_fif = mne.read_epochs(fif_DIR / Path('new_MMN_noNotch_epochs.fif'), preload=True)\n",
    "print(MMN_noNotch_fif.info)\n",
    "MMN_Notched_fif = mne.read_epochs(fif_DIR / Path('new_MMN_Notched_epochs.fif'), preload=True)\n",
    "print(MMN_Notched_fif.info)"
   ]
  },
  {
   "cell_type": "code",
   "execution_count": 87,
   "id": "c3491f7c-966e-4532-a74e-c7aa19c38827",
   "metadata": {},
   "outputs": [
    {
     "name": "stdout",
     "output_type": "stream",
     "text": [
      "Reading /Users/neuroling/Downloads/20250610_EEG-Demo/rawfif_all/original_MMN_noNotch_epochs.fif ...\n",
      "    Found the data of interest:\n",
      "        t =    -100.00 ...     700.00 ms\n",
      "        0 CTF compensation matrices available\n",
      "Not setting metadata\n",
      "234 matching events found\n",
      "No baseline correction applied\n",
      "0 projection items activated\n",
      "Reading /Users/neuroling/Downloads/20250610_EEG-Demo/rawfif_all/original_MMN_Notched_epochs.fif ...\n",
      "    Found the data of interest:\n",
      "        t =    -100.00 ...     700.00 ms\n",
      "        0 CTF compensation matrices available\n",
      "Not setting metadata\n",
      "236 matching events found\n",
      "No baseline correction applied\n",
      "0 projection items activated\n",
      "Not setting metadata\n",
      "470 matching events found\n",
      "Applying baseline correction (mode: mean)\n",
      "Overwriting existing file.\n",
      "Overwriting existing file.\n"
     ]
    },
    {
     "name": "stderr",
     "output_type": "stream",
     "text": [
      "/var/folders/dt/yj00f34n5x52_p314tnwfjkw0000gn/T/ipykernel_10803/3260114243.py:2: RuntimeWarning: This filename (/Users/neuroling/Downloads/20250610_EEG-Demo/rawfif_all/original_MMN_noNotch_epochs.fif) does not conform to MNE naming conventions. All epochs files should end with -epo.fif, -epo.fif.gz, _epo.fif or _epo.fif.gz\n",
      "  MMN_noNotch_fif = mne.read_epochs(fif_DIR / Path('original_MMN_noNotch_epochs.fif'), preload=True)\n",
      "/var/folders/dt/yj00f34n5x52_p314tnwfjkw0000gn/T/ipykernel_10803/3260114243.py:3: RuntimeWarning: This filename (/Users/neuroling/Downloads/20250610_EEG-Demo/rawfif_all/original_MMN_Notched_epochs.fif) does not conform to MNE naming conventions. All epochs files should end with -epo.fif, -epo.fif.gz, _epo.fif or _epo.fif.gz\n",
      "  MMN_Notched_fif = mne.read_epochs(fif_DIR / Path('original_MMN_Notched_epochs.fif'), preload=True)\n",
      "/var/folders/dt/yj00f34n5x52_p314tnwfjkw0000gn/T/ipykernel_10803/3260114243.py:5: RuntimeWarning: Concatenation of Annotations within Epochs is not supported yet. All annotations will be dropped.\n",
      "  MMN_merged_epochLIST = mne.concatenate_epochs(MMN_LIST)\n",
      "/var/folders/dt/yj00f34n5x52_p314tnwfjkw0000gn/T/ipykernel_10803/3260114243.py:6: RuntimeWarning: This filename (/Users/neuroling/Downloads/20250610_EEG-Demo/rawfif_all/original_MMN_merged_epochs.fif) does not conform to MNE naming conventions. All epochs files should end with -epo.fif, -epo.fif.gz, _epo.fif or _epo.fif.gz\n",
      "  MMN_merged_epochLIST.save(fif_DIR / Path('original_MMN_merged_epochs.fif'), overwrite=True)\n"
     ]
    },
    {
     "data": {
      "text/html": [
       "<details open>\n",
       "    <summary><strong>General</strong></summary>\n",
       "    <table class=\"table table-hover table-striped table-sm table-responsive small\">\n",
       "        <tr>\n",
       "            <th>Measurement date</th>\n",
       "            \n",
       "            <td>10月 06, 2025  07:34:08 GMT</td>\n",
       "            \n",
       "        </tr>\n",
       "        <tr>\n",
       "            <th>Experimenter</th>\n",
       "            \n",
       "            <td>Unknown</td>\n",
       "            \n",
       "        </tr>\n",
       "        <tr>\n",
       "            <th>Participant</th>\n",
       "            \n",
       "            \n",
       "            \n",
       "        </tr>\n",
       "    </table>\n",
       "    </details>\n",
       "    <details open>\n",
       "        <summary><strong>Channels</strong></summary>\n",
       "        <table class=\"table table-hover table-striped table-sm table-responsive small\">\n",
       "            <tr>\n",
       "                <th>Digitized points</th>\n",
       "                \n",
       "                <td>5 points</td>\n",
       "                \n",
       "            </tr>\n",
       "            <tr>\n",
       "                <th>Good channels</th>\n",
       "                <td>1 EEG</td>\n",
       "            </tr>\n",
       "            <tr>\n",
       "                <th>Bad channels</th>\n",
       "                <td>Trigger</td>\n",
       "            </tr>\n",
       "            <tr>\n",
       "                <th>EOG channels</th>\n",
       "                <td>Not available</td>\n",
       "            </tr>\n",
       "            <tr>\n",
       "                <th>ECG channels</th>\n",
       "                <td>Not available</td>\n",
       "            </tr>\n",
       "        </table>\n",
       "        </details>\n",
       "        <details open>\n",
       "            <summary><strong>Data</strong></summary>\n",
       "            <table class=\"table table-hover table-striped table-sm table-responsive small\">\n",
       "                \n",
       "                <tr>\n",
       "                    <th>Sampling frequency</th>\n",
       "                    <td>500.00 Hz</td>\n",
       "                </tr>\n",
       "                \n",
       "                \n",
       "                <tr>\n",
       "                    <th>Highpass</th>\n",
       "                    <td>0.00 Hz</td>\n",
       "                </tr>\n",
       "                \n",
       "                \n",
       "                <tr>\n",
       "                    <th>Lowpass</th>\n",
       "                    <td>30.00 Hz</td>\n",
       "                </tr>\n",
       "                \n",
       "                \n",
       "                \n",
       "                \n",
       "            </table>\n",
       "            </details>"
      ],
      "text/plain": [
       "<Info | 12 non-empty values\n",
       " bads: 1 items (Trigger)\n",
       " ch_names: Fz_1, Trigger\n",
       " chs: 2 EEG\n",
       " custom_ref_applied: False\n",
       " dig: 5 items (3 Cardinal, 2 EEG)\n",
       " file_id: 4 items (dict)\n",
       " highpass: 0.0 Hz\n",
       " lowpass: 30.0 Hz\n",
       " meas_date: 2025-10-06 07:34:08 UTC\n",
       " meas_id: 4 items (dict)\n",
       " nchan: 2\n",
       " projs: []\n",
       " sfreq: 500.0 Hz\n",
       " subject_info: 2 items (dict)\n",
       ">"
      ]
     },
     "execution_count": 87,
     "metadata": {},
     "output_type": "execute_result"
    }
   ],
   "source": [
    "# Merged 2 part of MMNs\n",
    "MMN_noNotch_fif = mne.read_epochs(fif_DIR / Path('original_MMN_noNotch_epochs.fif'), preload=True)\n",
    "MMN_Notched_fif = mne.read_epochs(fif_DIR / Path('original_MMN_Notched_epochs.fif'), preload=True)\n",
    "MMN_LIST = [MMN_noNotch_fif, MMN_Notched_fif]\n",
    "MMN_merged_epochLIST = mne.concatenate_epochs(MMN_LIST)\n",
    "MMN_merged_epochLIST.save(fif_DIR / Path('original_MMN_merged_epochs.fif'), overwrite=True)\n",
    "MMN_merged_epochLIST"
   ]
  },
  {
   "cell_type": "code",
   "execution_count": 84,
   "id": "94278781-1568-4312-ade8-6af31295ed64",
   "metadata": {},
   "outputs": [
    {
     "name": "stdout",
     "output_type": "stream",
     "text": [
      "    Using multitaper spectrum estimation with 7 DPSS windows\n",
      "\n",
      "PSDs shape: (470, 1, 201), freqs shape: (201,)\n"
     ]
    },
    {
     "data": {
      "text/html": [
       "<table class=\"table table-hover table-striped table-sm table-responsive small\">\n",
       "    <tr>\n",
       "        <th>Data type</th>\n",
       "        <td>Power Spectrum</td>\n",
       "    </tr>\n",
       "    <tr>\n",
       "        <th rowspan=1>Units</th>\n",
       "        <td class=\"justify\">eeg: V²/Hz</td>\n",
       "    </tr>\n",
       "    <tr>\n",
       "        <th>Data source</th>\n",
       "        <td>Epochs</td>\n",
       "    </tr>\n",
       "    <tr>\n",
       "        <th>Number of epochs</th>\n",
       "        <td>470</td>\n",
       "    </tr>\n",
       "    <tr>\n",
       "        <th>Dims</th>\n",
       "        <td>epoch, channel, freq</td>\n",
       "    </tr>\n",
       "    <tr>\n",
       "        <th>Estimation method</th>\n",
       "        <td>multitaper</td>\n",
       "    </tr>\n",
       "    \n",
       "    <tr>\n",
       "        <th>Number of channels</th>\n",
       "        <td>2</td>\n",
       "    </tr>\n",
       "    <tr>\n",
       "        <th>Number of frequency bins</th>\n",
       "        <td>201</td>\n",
       "    </tr>\n",
       "    <tr>\n",
       "        <th>Frequency range</th>\n",
       "        <td>0.00 – 249.38 Hz</td>\n",
       "    </tr>\n",
       "</table>"
      ],
      "text/plain": [
       "<Power Spectrum (from Epochs, multitaper method) | 470 epochs × 2 channels × 201 freqs, 0.0-249.4 Hz>"
      ]
     },
     "execution_count": 84,
     "metadata": {},
     "output_type": "execute_result"
    }
   ],
   "source": [
    "#MMN_merged_epochLIST.compute_psd(fmin=1, fmax=100).plot()\n",
    "#evk_spectrum.plot(picks=\"data\", exclude=\"bads\")\n",
    "\n",
    "epo_spectrum = MMN_merged_epochLIST.compute_psd()\n",
    "psds, freqs = epo_spectrum.get_data(return_freqs=True)\n",
    "print(f\"\\nPSDs shape: {psds.shape}, freqs shape: {freqs.shape}\")\n",
    "epo_spectrum"
   ]
  },
  {
   "cell_type": "code",
   "execution_count": 80,
   "id": "e469ec42-a0df-4b05-9f14-8b4b7baaef14",
   "metadata": {},
   "outputs": [
    {
     "data": {
      "text/plain": [
       "\"\\n# Save fig\\nfig_DIR = root_data_path / 'MMN_figs'\\nfig_DIR.mkdir(exist_ok=True)\\nmmn_fig.save(fig_DIR / Path('original_noNotch_evoked_Fz_1.png'))#, overwrite=True)\\n\""
      ]
     },
     "execution_count": 80,
     "metadata": {},
     "output_type": "execute_result"
    }
   ],
   "source": [
    "# Recalculate the merged MMN's evoked\n",
    "# epochs to evoked\n",
    "evoked_standard = MMN_mergedLIST['standard'].average()\n",
    "evoked_deviant_2 = MMN_mergedLIST['deviant_2'].average()\n",
    "evoked_deviant_3 = MMN_mergedLIST['deviant_3'].average()\n",
    "\n",
    "# Plot mmn differences\n",
    "tmp = [evoked_standard, evoked_deviant_2, evoked_deviant_3]\n",
    "colors = 'red', 'blue', 'green'\n",
    "#mne.viz.plot_evoked_topo(tmp, color = colors, title = 'MMN', ylim = dict(eeg=[10, -10]))\n",
    "mmn_fig = mne.viz.plot_compare_evokeds(tmp, colors = colors) #, axes = 'topo')\n",
    "#mmn_plot\n",
    "\n",
    "\"\"\"\n",
    "# Save fig\n",
    "fig_DIR = root_data_path / 'MMN_figs'\n",
    "fig_DIR.mkdir(exist_ok=True)\n",
    "mmn_fig.save(fig_DIR / Path('original_noNotch_evoked_Fz_1.png'))#, overwrite=True)\n",
    "\"\"\"\n",
    "#plt.savefig(meg_data_path / Path('H-minus-L_evoked_topomap.png'), overwrite=True). # Check this later"
   ]
  },
  {
   "cell_type": "code",
   "execution_count": 82,
   "id": "a99c061d-f25d-4165-be2d-2a55f7b66c0b",
   "metadata": {},
   "outputs": [
    {
     "name": "stdout",
     "output_type": "stream",
     "text": [
      "    Using multitaper spectrum estimation with 7 DPSS windows\n",
      "[[1.65686307e-10 3.19306986e-10 2.95409717e-10]\n",
      " [1.00448963e-16 2.22225178e-16 1.54311472e-16]]\n"
     ]
    }
   ],
   "source": [
    "evoked_standard_spectrum = evoked_standard.compute_psd()\n",
    "print(evoked_standard_spectrum[:, :3])"
   ]
  },
  {
   "cell_type": "code",
   "execution_count": 67,
   "id": "93e5e5c0-99b6-4526-9b57-35e12945d12d",
   "metadata": {},
   "outputs": [
    {
     "name": "stdout",
     "output_type": "stream",
     "text": [
      "Reading /Users/neuroling/Downloads/20250610_EEG-Demo/rawfif_all/new_MMN_merged_epochs.fif ...\n",
      "    Found the data of interest:\n",
      "        t =    -100.00 ...     700.00 ms\n",
      "        0 CTF compensation matrices available\n",
      "Not setting metadata\n",
      "469 matching events found\n",
      "No baseline correction applied\n",
      "0 projection items activated\n",
      "Reading /Users/neuroling/Downloads/20250610_EEG-Demo/rawfif_all/original_MMN_merged_epochs.fif ...\n"
     ]
    },
    {
     "name": "stderr",
     "output_type": "stream",
     "text": [
      "/var/folders/dt/yj00f34n5x52_p314tnwfjkw0000gn/T/ipykernel_10803/2211969263.py:1: RuntimeWarning: This filename (/Users/neuroling/Downloads/20250610_EEG-Demo/rawfif_all/new_MMN_merged_epochs.fif) does not conform to MNE naming conventions. All epochs files should end with -epo.fif, -epo.fif.gz, _epo.fif or _epo.fif.gz\n",
      "  new_MMN_merged_fif = mne.read_epochs(fif_DIR / Path('new_MMN_merged_epochs.fif'), preload=True)\n",
      "/var/folders/dt/yj00f34n5x52_p314tnwfjkw0000gn/T/ipykernel_10803/2211969263.py:2: RuntimeWarning: This filename (/Users/neuroling/Downloads/20250610_EEG-Demo/rawfif_all/original_MMN_merged_epochs.fif) does not conform to MNE naming conventions. All epochs files should end with -epo.fif, -epo.fif.gz, _epo.fif or _epo.fif.gz\n",
      "  orig_MMN_merged_fif = mne.read_epochs(fif_DIR / Path('original_MMN_merged_epochs.fif'), preload=True)\n"
     ]
    },
    {
     "name": "stdout",
     "output_type": "stream",
     "text": [
      "    Found the data of interest:\n",
      "        t =    -100.00 ...     700.00 ms\n",
      "        0 CTF compensation matrices available\n",
      "Not setting metadata\n",
      "470 matching events found\n",
      "No baseline correction applied\n",
      "0 projection items activated\n",
      "New Peak-to-peak amplitude: 39.34 µV\n",
      "Orignal Peak-to-peak amplitude: 39.47 µV\n"
     ]
    }
   ],
   "source": [
    "# Use Amplitude-Based Heuristics\n",
    "\n",
    "new_MMN_merged_fif = mne.read_epochs(fif_DIR / Path('new_MMN_merged_epochs.fif'), preload=True)\n",
    "orig_MMN_merged_fif = mne.read_epochs(fif_DIR / Path('original_MMN_merged_epochs.fif'), preload=True)\n",
    "new_data = new_MMN_merged_fif.get_data(picks='Fz_1')[0]  # assuming Fz_1 is your only channel\n",
    "orig_data = orig_MMN_merged_fif.get_data(picks='Fz_1')[0]  # assuming Fz_1 is your only channel\n",
    "\n",
    "new_peak_to_peak = new_data.max() - new_data.min()\n",
    "orig_peak_to_peak = orig_data.max() - orig_data.min()\n",
    "\n",
    "print(f\"New Peak-to-peak amplitude: {new_peak_to_peak*1e6:.2f} µV\")\n",
    "print(f\"Orignal Peak-to-peak amplitude: {orig_peak_to_peak*1e6:.2f} µV\")\n",
    "\n",
    "\n",
    "# Compute Variance or SNR as Proxy for Conductivity\n",
    "epochs = mne.Epochs(raw, events, event_id, tmin=-0.1, tmax=0.8, preload=True)\n",
    "data = epochs.get_data(picks='Fz_1')\n",
    "variances = data.var(axis=2).flatten()\n",
    "print(f\"Variance across trials: {variances.mean():.2e} µV²\")"
   ]
  },
  {
   "cell_type": "code",
   "execution_count": 72,
   "id": "10af219e-7a91-4a06-8741-29008754f62c",
   "metadata": {},
   "outputs": [
    {
     "name": "stdout",
     "output_type": "stream",
     "text": [
      "ERP-based SNR at Fz_1 (100–700 ms): -0.01\n"
     ]
    }
   ],
   "source": [
    "# Assume you already have epochs\n",
    "data = orig_MMN_merged_fif.get_data(picks='Fz_1')  # shape: (n_trials, 1, n_times)\n",
    "\n",
    "# Compute signal (mean) and noise (std) across trials\n",
    "erp = data.mean(axis=0)[0]    # shape: (n_times,)\n",
    "noise = data.std(axis=0)[0]   # shape: (n_times,)\n",
    "\n",
    "# Instantaneous SNR over time\n",
    "snr = erp / noise\n",
    "\n",
    "# Average SNR in a specific window (e.g., MMN: 100–250 ms)\n",
    "times = orig_MMN_merged_fif.times\n",
    "mask = (times >= 0.0) & (times <= 0.7)\n",
    "snr_avg = snr[mask].mean()\n",
    "\n",
    "print(f\"ERP-based SNR at Fz_1 (100–700 ms): {snr_avg:.2f}\")\n"
   ]
  },
  {
   "cell_type": "code",
   "execution_count": 74,
   "id": "ac5c7fa1-efbe-48a4-bb76-a05a7dbec678",
   "metadata": {},
   "outputs": [
    {
     "name": "stdout",
     "output_type": "stream",
     "text": [
      "    Using multitaper spectrum estimation with 7 DPSS windows\n"
     ]
    },
    {
     "ename": "IndexError",
     "evalue": "boolean index did not match indexed array along dimension 0; dimension is 1 but corresponding boolean dimension is 24",
     "output_type": "error",
     "traceback": [
      "\u001b[0;31m---------------------------------------------------------------------------\u001b[0m",
      "\u001b[0;31mIndexError\u001b[0m                                Traceback (most recent call last)",
      "Cell \u001b[0;32mIn[74], line 10\u001b[0m\n\u001b[1;32m      7\u001b[0m noise_band \u001b[38;5;241m=\u001b[39m ((freqs \u001b[38;5;241m>\u001b[39m\u001b[38;5;241m=\u001b[39m \u001b[38;5;241m5\u001b[39m) \u001b[38;5;241m&\u001b[39m (freqs \u001b[38;5;241m<\u001b[39m \u001b[38;5;241m8\u001b[39m)) \u001b[38;5;241m|\u001b[39m ((freqs \u001b[38;5;241m>\u001b[39m \u001b[38;5;241m12\u001b[39m) \u001b[38;5;241m&\u001b[39m (freqs \u001b[38;5;241m<\u001b[39m\u001b[38;5;241m=\u001b[39m \u001b[38;5;241m15\u001b[39m))\n\u001b[1;32m      9\u001b[0m \u001b[38;5;66;03m# Compute power\u001b[39;00m\n\u001b[0;32m---> 10\u001b[0m signal_power \u001b[38;5;241m=\u001b[39m power[signal_band]\u001b[38;5;241m.\u001b[39mmean()\n\u001b[1;32m     11\u001b[0m noise_power \u001b[38;5;241m=\u001b[39m power[noise_band]\u001b[38;5;241m.\u001b[39mmean()\n\u001b[1;32m     13\u001b[0m snr_db \u001b[38;5;241m=\u001b[39m \u001b[38;5;241m10\u001b[39m \u001b[38;5;241m*\u001b[39m np\u001b[38;5;241m.\u001b[39mlog10(signal_power \u001b[38;5;241m/\u001b[39m noise_power)\n",
      "\u001b[0;31mIndexError\u001b[0m: boolean index did not match indexed array along dimension 0; dimension is 1 but corresponding boolean dimension is 24"
     ]
    }
   ],
   "source": [
    "psd = orig_MMN_merged_fif.compute_psd(fmin=1, fmax=30, picks='Fz_1')\n",
    "freqs = psd.freqs\n",
    "power = psd.get_data()[0]  # shape: (n_freqs,)\n",
    "\n",
    "# Define frequency bands\n",
    "signal_band = (freqs >= 8) & (freqs <= 12)     # alpha band\n",
    "noise_band = ((freqs >= 5) & (freqs < 8)) | ((freqs > 12) & (freqs <= 15))\n",
    "\n",
    "# Compute power\n",
    "signal_power = power[signal_band].mean()\n",
    "noise_power = power[noise_band].mean()\n",
    "\n",
    "snr_db = 10 * np.log10(signal_power / noise_power)\n",
    "print(f\"Spectral SNR (alpha vs sidebands) at Fz_1: {snr_db:.2f} dB\")"
   ]
  },
  {
   "cell_type": "code",
   "execution_count": 59,
   "id": "5020fa74-0c94-413e-8acd-f685cc083acf",
   "metadata": {},
   "outputs": [
    {
     "name": "stdout",
     "output_type": "stream",
     "text": [
      "Effective window size : 2.000 (s)\n",
      "100.0% of epochs rejected due to noise\n"
     ]
    }
   ],
   "source": [
    "# Compute MMN's psd\n",
    "psd = raw_MMN_fif.compute_psd(fmin=1, fmax=100).plot()\n",
    "#psd_data = psd.get_data()\n",
    "\n",
    "n_rejected = len(n_epoch_MMN.drop_log)\n",
    "n_total = len(MMN_events)\n",
    "noise_percent = (n_rejected / n_total) * 100\n",
    "print(f\"{noise_percent:.1f}% of epochs rejected due to noise\")"
   ]
  },
  {
   "cell_type": "code",
   "execution_count": 47,
   "id": "54511fd1",
   "metadata": {},
   "outputs": [
    {
     "data": {
      "text/plain": [
       "\"\\n# Save fig\\nfig_DIR = root_data_path / 'MMN_figs'\\nfig_DIR.mkdir(exist_ok=True)\\nmmn_fig.save(fig_DIR / Path('original_noNotch_evoked_Fz_1.png'))#, overwrite=True)\\n\""
      ]
     },
     "execution_count": 47,
     "metadata": {},
     "output_type": "execute_result"
    },
    {
     "name": "stderr",
     "output_type": "stream",
     "text": [
      "2025-08-22 14:00:37.085 python[10803:20716774] +[CATransaction synchronize] called within transaction\n"
     ]
    }
   ],
   "source": [
    "# epochs to evoked\n",
    "evoked_standard = n_epoch_MMN['standard'].average()\n",
    "evoked_deviant_2 = n_epoch_MMN['deviant_2'].average()\n",
    "evoked_deviant_3 = n_epoch_MMN['deviant_3'].average()\n",
    "\n",
    "# Plot mmn differences\n",
    "tmp = [evoked_standard, evoked_deviant_2, evoked_deviant_3]\n",
    "colors = 'red', 'blue', 'green'\n",
    "#mne.viz.plot_evoked_topo(tmp, color = colors, title = 'MMN', ylim = dict(eeg=[10, -10]))\n",
    "mmn_fig = mne.viz.plot_compare_evokeds(tmp, colors = colors) #, axes = 'topo')\n",
    "#mmn_plot\n",
    "\n",
    "\"\"\"\n",
    "# Save fig\n",
    "fig_DIR = root_data_path / 'MMN_figs'\n",
    "fig_DIR.mkdir(exist_ok=True)\n",
    "mmn_fig.save(fig_DIR / Path('original_noNotch_evoked_Fz_1.png'))#, overwrite=True)\n",
    "\"\"\"\n",
    "#plt.savefig(meg_data_path / Path('H-minus-L_evoked_topomap.png'), overwrite=True). # Check this later"
   ]
  },
  {
   "cell_type": "code",
   "execution_count": null,
   "id": "cbaf4cd4-5086-4b45-9810-7e1801325098",
   "metadata": {},
   "outputs": [],
   "source": []
  },
  {
   "cell_type": "code",
   "execution_count": 24,
   "id": "9318890e",
   "metadata": {},
   "outputs": [
    {
     "name": "stdout",
     "output_type": "stream",
     "text": [
      "((), (), (), (), (), (), (), (), (), (), (), (), (), (), (), (), (), (), (), (), (), (), (), (), (), (), (), (), (), (), (), (), (), (), (), (), (), (), (), (), (), (), (), (), (), (), (), (), (), (), (), (), (), (), (), (), (), (), (), (), (), (), (), (), (), (), (), (), (), (), (), (), (), (), (), (), (), (), (), (), (), (), (), (), (), (), (), (), (), (), (), (), (), (), (), (), (), (), (), (), (), (), (), (), (), (), (), (), (), (), (), (), (), (), (), (), (), ('MEG 117',), (), ())\n"
     ]
    }
   ],
   "source": [
    "# get to know the reason of bad epoch drop\n",
    "print(epoch_LDT.drop_log)"
   ]
  },
  {
   "cell_type": "code",
   "execution_count": null,
   "id": "08f28e63",
   "metadata": {},
   "outputs": [],
   "source": []
  }
 ],
 "metadata": {
  "kernelspec": {
   "display_name": "Python 3 (ipykernel)",
   "language": "python",
   "name": "python3"
  },
  "language_info": {
   "codemirror_mode": {
    "name": "ipython",
    "version": 3
   },
   "file_extension": ".py",
   "mimetype": "text/x-python",
   "name": "python",
   "nbconvert_exporter": "python",
   "pygments_lexer": "ipython3",
   "version": "3.11.6"
  }
 },
 "nbformat": 4,
 "nbformat_minor": 5
}
