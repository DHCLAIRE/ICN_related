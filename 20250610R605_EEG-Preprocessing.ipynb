{
 "cells": [
  {
   "cell_type": "code",
   "execution_count": 18,
   "id": "6634f709",
   "metadata": {},
   "outputs": [],
   "source": [
    "%matplotlib qt"
   ]
  },
  {
   "cell_type": "code",
   "execution_count": 2,
   "id": "4d00b832",
   "metadata": {},
   "outputs": [],
   "source": [
    "import mne\n",
    "from pprint import pprint\n",
    "import json\n",
    "import csv\n",
    "import numpy as np\n",
    "import matplotlib.pyplot as plt\n",
    "\n",
    "import pandas as pd\n",
    "from pathlib import Path\n",
    "from mne.preprocessing import (ICA, create_eog_epochs, create_ecg_epochs, corrmap)"
   ]
  },
  {
   "cell_type": "code",
   "execution_count": 37,
   "id": "3e7b647b-8fef-41d7-8758-42b2f3ac7277",
   "metadata": {},
   "outputs": [
    {
     "name": "stdout",
     "output_type": "stream",
     "text": [
      "/Users/neuroling/Downloads/20250610_EEG-Demo\n",
      "Reading 0 ... 410367  =      0.000 ...   400.749 secs...\n",
      "Using pyopengl with version 3.1.1a1\n",
      "<Info | 10 non-empty values\n",
      " bads: 1 items (Trigger)\n",
      " ch_names: Fz_1, Trigger\n",
      " chs: 1 EOG, 1 EEG\n",
      " custom_ref_applied: False\n",
      " dig: 5 items (3 Cardinal, 2 EEG)\n",
      " highpass: 0.0 Hz\n",
      " lowpass: 512.0 Hz\n",
      " meas_date: 2025-10-06 06:35:17 UTC\n",
      " nchan: 2\n",
      " projs: []\n",
      " sfreq: 1024.0 Hz\n",
      " subject_info: 5 items (dict)\n",
      ">\n",
      "Effective window size : 2.000 (s)\n",
      "Need more than one channel to make topography for eeg. Disabling interactivity.\n",
      "Overwriting existing file.\n",
      "Writing /Users/neuroling/Downloads/20250610_EEG-Demo/rawfif_all/eeg_20250610_test_new_MMN_noNotch.fif\n",
      "Closing /Users/neuroling/Downloads/20250610_EEG-Demo/rawfif_all/eeg_20250610_test_new_MMN_noNotch.fif\n",
      "[done]\n"
     ]
    },
    {
     "name": "stderr",
     "output_type": "stream",
     "text": [
      "/var/folders/dt/yj00f34n5x52_p314tnwfjkw0000gn/T/ipykernel_10803/553680883.py:29: RuntimeWarning: This filename (/Users/neuroling/Downloads/20250610_EEG-Demo/rawfif_all/eeg_20250610_test_new_MMN_noNotch.fif) does not conform to MNE naming conventions. All raw files should end with raw.fif, raw_sss.fif, raw_tsss.fif, _meg.fif, _eeg.fif, _ieeg.fif, raw.fif.gz, raw_sss.fif.gz, raw_tsss.fif.gz, _meg.fif.gz, _eeg.fif.gz or _ieeg.fif.gz\n",
      "  n_MMN_raw.save(fif_DIR / Path('eeg_20250610_test_new_MMN_noNotch.fif'), overwrite=True)\n"
     ]
    },
    {
     "name": "stdout",
     "output_type": "stream",
     "text": [
      "Channels marked as bad:\n",
      "['Trigger']\n"
     ]
    }
   ],
   "source": [
    "# Use the .fif files produced from kit2fiff packages\n",
    "root_data_path = Path(\"/Users/neuroling/Downloads/20250610_EEG-Demo\")\n",
    "print(root_data_path)\n",
    "\n",
    "# new = new gel ; original: old gel\n",
    "\n",
    "EEG_cntFile = root_data_path / Path('eeg_20250610_test_new_MMN_noNotch.cnt') #eeg_20250610_test_original_noNotch.cnt\n",
    "#LDT_raw =  mne.io.read_raw_kit(LDT_confile, stim = [195], preload=True) #, slope = '+') #slope=將3個stim_channel的訊號全部加成,讓訊號增強\n",
    "                                                                #把原始的KIT資料讀進\n",
    "#LDT_raw.plot()\n",
    "#events = mne.find_events(LDT_raw, stim_channel='STI 014') #將集合而成的channel命名為STI 014\n",
    "\n",
    "MMN_raw = mne.io.read_raw_cnt(EEG_cntFile, eog=\"header\", preload=True)\n",
    "#MMN_raw.plot()\n",
    "\n",
    "n_MMN_raw = MMN_raw.copy()\n",
    "#n_MMN_filtered = n_MMN_raw.notch_filter(freqs=50, picks=\"all\")\n",
    "n_MMN_raw.plot()\n",
    "#n_MMN_filtered.plot()\n",
    "print(n_MMN_raw.info)\n",
    "\n",
    "# Calculate the power spectrum density to examine the power in each frequency.\n",
    "n_MMN_raw.compute_psd(fmax=100).plot()#.(fmax=100)\n",
    "\n",
    "# Save the cnt into .fif for a easier further analysis\n",
    "fif_DIR = root_data_path / 'rawfif_all'\n",
    "fif_DIR.mkdir(exist_ok=True)\n",
    "\n",
    "n_MMN_raw.save(fif_DIR / Path('eeg_20250610_test_new_MMN_noNotch.fif'), overwrite=True)"
   ]
  },
  {
   "cell_type": "code",
   "execution_count": 53,
   "id": "62c17c8b-4d73-4e8a-966c-79900dc907d7",
   "metadata": {},
   "outputs": [
    {
     "data": {
      "text/plain": [
       "['Fz_1', 'Trigger']"
      ]
     },
     "execution_count": 53,
     "metadata": {},
     "output_type": "execute_result"
    }
   ],
   "source": [
    "n_MMN_raw.ch_names # Where are the annotations"
   ]
  },
  {
   "cell_type": "code",
   "execution_count": 84,
   "id": "cc8a6130-ac57-4fb0-995b-2175861cbba9",
   "metadata": {},
   "outputs": [
    {
     "name": "stdout",
     "output_type": "stream",
     "text": [
      "Used Annotations descriptions: ['1', '2', '20', '21', '22', '23', '24', '3', '4', '5', '55']\n",
      "[[  8744      0      1]\n",
      " [ 68651      0      3]\n",
      " [144131      0     11]\n",
      " [146165      0      2]\n",
      " [209144      0      4]\n",
      " [278897      0     11]\n",
      " [280916      0      8]\n",
      " [346966      0      5]\n",
      " [357762      0     11]\n",
      " [359970      0      9]\n",
      " [432166      0      6]\n",
      " [439272      0     11]\n",
      " [441476      0     10]\n",
      " [510597      0      7]\n",
      " [520315      0     11]]\n",
      "<class 'numpy.ndarray'>\n",
      "15\n",
      "Used Annotations descriptions: ['1', '2', '20', '21', '22', '23', '24', '3', '4', '5', '55']\n",
      "Used Annotations descriptions: ['1', '2', '20', '21', '22', '23', '24', '3', '4', '5', '55']\n",
      "{'1': 1, '2': 2, '20': 3, '21': 4, '22': 5, '23': 6, '24': 7, '3': 8, '4': 9, '5': 10, '55': 11} 11\n",
      "[[  8744      0      1]\n",
      " [146165      0      2]\n",
      " [280916      0      8]\n",
      " [359970      0      9]\n",
      " [441476      0     10]]\n",
      "5\n",
      "[[144131      0     11]\n",
      " [278897      0     11]\n",
      " [357762      0     11]\n",
      " [439272      0     11]\n",
      " [520315      0     11]]\n",
      "5\n",
      "8.5390625 140.7529296875\n",
      "Writing /Users/neuroling/Downloads/20250610_EEG-Demo/rawfif_all/eyeOpen_2min_new_Notched.fif\n",
      "Closing /Users/neuroling/Downloads/20250610_EEG-Demo/rawfif_all/eyeOpen_2min_new_Notched.fif\n",
      "[done]\n",
      "142.7392578125 272.3603515625\n",
      "Writing /Users/neuroling/Downloads/20250610_EEG-Demo/rawfif_all/eyeClose_2min_new_Notched.fif\n",
      "Closing /Users/neuroling/Downloads/20250610_EEG-Demo/rawfif_all/eyeClose_2min_new_Notched.fif\n",
      "[done]\n",
      "274.33203125 349.376953125\n",
      "Writing /Users/neuroling/Downloads/20250610_EEG-Demo/rawfif_all/Blink_60count_new_Notched.fif\n",
      "Closing /Users/neuroling/Downloads/20250610_EEG-Demo/rawfif_all/Blink_60count_new_Notched.fif\n",
      "[done]\n",
      "351.533203125 428.9765625\n",
      "Writing /Users/neuroling/Downloads/20250610_EEG-Demo/rawfif_all/HEOG_60count_new_Notched.fif\n"
     ]
    },
    {
     "name": "stderr",
     "output_type": "stream",
     "text": [
      "/var/folders/dt/yj00f34n5x52_p314tnwfjkw0000gn/T/ipykernel_27770/114270842.py:32: RuntimeWarning: This filename (/Users/neuroling/Downloads/20250610_EEG-Demo/rawfif_all/eyeOpen_2min_new_Notched.fif) does not conform to MNE naming conventions. All raw files should end with raw.fif, raw_sss.fif, raw_tsss.fif, _meg.fif, _eeg.fif, _ieeg.fif, raw.fif.gz, raw_sss.fif.gz, raw_tsss.fif.gz, _meg.fif.gz, _eeg.fif.gz or _ieeg.fif.gz\n",
      "  cut_eeg.save(fif_DIR / Path('%s_new_Notched.fif' %fifname_LIST[i]), overwrite=True)\n",
      "/var/folders/dt/yj00f34n5x52_p314tnwfjkw0000gn/T/ipykernel_27770/114270842.py:32: RuntimeWarning: This filename (/Users/neuroling/Downloads/20250610_EEG-Demo/rawfif_all/eyeClose_2min_new_Notched.fif) does not conform to MNE naming conventions. All raw files should end with raw.fif, raw_sss.fif, raw_tsss.fif, _meg.fif, _eeg.fif, _ieeg.fif, raw.fif.gz, raw_sss.fif.gz, raw_tsss.fif.gz, _meg.fif.gz, _eeg.fif.gz or _ieeg.fif.gz\n",
      "  cut_eeg.save(fif_DIR / Path('%s_new_Notched.fif' %fifname_LIST[i]), overwrite=True)\n",
      "/var/folders/dt/yj00f34n5x52_p314tnwfjkw0000gn/T/ipykernel_27770/114270842.py:32: RuntimeWarning: This filename (/Users/neuroling/Downloads/20250610_EEG-Demo/rawfif_all/Blink_60count_new_Notched.fif) does not conform to MNE naming conventions. All raw files should end with raw.fif, raw_sss.fif, raw_tsss.fif, _meg.fif, _eeg.fif, _ieeg.fif, raw.fif.gz, raw_sss.fif.gz, raw_tsss.fif.gz, _meg.fif.gz, _eeg.fif.gz or _ieeg.fif.gz\n",
      "  cut_eeg.save(fif_DIR / Path('%s_new_Notched.fif' %fifname_LIST[i]), overwrite=True)\n",
      "/var/folders/dt/yj00f34n5x52_p314tnwfjkw0000gn/T/ipykernel_27770/114270842.py:32: RuntimeWarning: This filename (/Users/neuroling/Downloads/20250610_EEG-Demo/rawfif_all/HEOG_60count_new_Notched.fif) does not conform to MNE naming conventions. All raw files should end with raw.fif, raw_sss.fif, raw_tsss.fif, _meg.fif, _eeg.fif, _ieeg.fif, raw.fif.gz, raw_sss.fif.gz, raw_tsss.fif.gz, _meg.fif.gz, _eeg.fif.gz or _ieeg.fif.gz\n",
      "  cut_eeg.save(fif_DIR / Path('%s_new_Notched.fif' %fifname_LIST[i]), overwrite=True)\n"
     ]
    },
    {
     "name": "stdout",
     "output_type": "stream",
     "text": [
      "Closing /Users/neuroling/Downloads/20250610_EEG-Demo/rawfif_all/HEOG_60count_new_Notched.fif\n",
      "[done]\n",
      "431.12890625 508.1201171875\n",
      "Writing /Users/neuroling/Downloads/20250610_EEG-Demo/rawfif_all/VEOG_60count_new_Notched.fif\n",
      "Closing /Users/neuroling/Downloads/20250610_EEG-Demo/rawfif_all/VEOG_60count_new_Notched.fif\n",
      "[done]\n"
     ]
    },
    {
     "name": "stderr",
     "output_type": "stream",
     "text": [
      "/var/folders/dt/yj00f34n5x52_p314tnwfjkw0000gn/T/ipykernel_27770/114270842.py:32: RuntimeWarning: This filename (/Users/neuroling/Downloads/20250610_EEG-Demo/rawfif_all/VEOG_60count_new_Notched.fif) does not conform to MNE naming conventions. All raw files should end with raw.fif, raw_sss.fif, raw_tsss.fif, _meg.fif, _eeg.fif, _ieeg.fif, raw.fif.gz, raw_sss.fif.gz, raw_tsss.fif.gz, _meg.fif.gz, _eeg.fif.gz or _ieeg.fif.gz\n",
      "  cut_eeg.save(fif_DIR / Path('%s_new_Notched.fif' %fifname_LIST[i]), overwrite=True)\n"
     ]
    },
    {
     "data": {
      "text/plain": [
       "'\\nepochs = mne.Epochs(n_MMN_raw, events=events_ann_ndArray, event_id=events_id_DICT, preload=True)\\n                    tmin=, tmax=0.8, baseline=(None, 0), preload=True)\\n'"
      ]
     },
     "execution_count": 84,
     "metadata": {},
     "output_type": "execute_result"
    }
   ],
   "source": [
    "# This is the original brain data's triggers\n",
    "'''\n",
    "Triggers_ID:\n",
    "12345 >> the start of task\n",
    "55 >> the end of task\n",
    "20 ~ 24 >> the start of questions' texts (irrelevant in here, please ignore it)\n",
    "'''\n",
    "\n",
    "## Segment the EEG according to tasks, 5 parts in total.\n",
    "events_ann_ndArray = mne.events_from_annotations(n_MMN_raw)[0]\n",
    "print(events_ann_ndArray)\n",
    "print(type(events_ann_ndArray))\n",
    "print(len(events_ann_ndArray))\n",
    "print(mne.events_from_annotations(n_MMN_raw)[1], len(mne.events_from_annotations(n_MMN_raw)[1]))\n",
    "\n",
    "events_id_DICT = {'1': 1, '2': 2, '20': 3, '21': 4, '22': 5, '23': 6, '24': 7, '3': 8, '4': 9, '5': 10, '55': 11}\n",
    "raw_sfreq = n_MMN_raw.info['sfreq'] # supposedly to be 1000 Hz\n",
    "fifname_LIST = [\"eyeOpen_2min\", \"eyeClose_2min\", \"Blink_60count\", \"HEOG_60count\", \"VEOG_60count\"]\n",
    "\n",
    "# Get the start points in every 3 segment, staring from index[0]\n",
    "start_tNDarray = events_ann_ndArray[::3]\n",
    "print(start_tNDarray)\n",
    "print(len(start_tNDarray))\n",
    "\n",
    "# Get the end points in every 3 segment, staring from index[2]\n",
    "end_tNDarray = events_ann_ndArray[2::3]\n",
    "print(end_tNDarray)\n",
    "print(len(end_tNDarray))\n",
    "\n",
    "# segment the EEG data according to the points that are going to be converted into times, and save the raw EEG files\n",
    "for i in range(5):\n",
    "    print(start_tNDarray[i][0]/int(raw_sfreq), end_tNDarray[i][0]/int(raw_sfreq))\n",
    "    # in here, we exclude the +0.5 at the end of the end points for the reason of 0.5 delay when the questions start trigger appear\n",
    "    cut_eeg = n_MMN_raw.copy().crop((start_tNDarray[i][0]/int(raw_sfreq)), (end_tNDarray[i][0]/int(raw_sfreq)))\n",
    "    cut_eeg.save(fif_DIR / Path('%s_new_Notched.fif' %fifname_LIST[i]), overwrite=True)\n",
    "\n",
    "\n",
    "\"\"\"\n",
    "epochs = mne.Epochs(n_MMN_raw, events=events_ann_ndArray, event_id=events_id_DICT, preload=True)\n",
    "                    tmin=, tmax=0.8, baseline=(None, 0), preload=True)\n",
    "\"\"\""
   ]
  },
  {
   "cell_type": "code",
   "execution_count": 46,
   "id": "e737e448-ebec-49a5-8011-15eb96f5d7bc",
   "metadata": {},
   "outputs": [
    {
     "name": "stdout",
     "output_type": "stream",
     "text": [
      "Opening raw data file /Users/neuroling/Downloads/20250610_EEG-Demo/rawfif_all/eeg_20250610_test_original_MMN_noNotch.fif...\n",
      "    Range : 0 ... 407295 =      0.000 ...   397.749 secs\n",
      "Ready.\n",
      "Reading 0 ... 407295  =      0.000 ...   397.749 secs...\n",
      "['Fz_1', 'Trigger']\n",
      "['eog', 'eeg']\n"
     ]
    },
    {
     "name": "stderr",
     "output_type": "stream",
     "text": [
      "/var/folders/dt/yj00f34n5x52_p314tnwfjkw0000gn/T/ipykernel_10803/1627697132.py:4: RuntimeWarning: This filename (/Users/neuroling/Downloads/20250610_EEG-Demo/rawfif_all/eeg_20250610_test_original_MMN_noNotch.fif) does not conform to MNE naming conventions. All raw files should end with raw.fif, raw_sss.fif, raw_tsss.fif, _meg.fif, _eeg.fif, _ieeg.fif, raw.fif.gz, raw_sss.fif.gz, raw_tsss.fif.gz, _meg.fif.gz, _eeg.fif.gz or _ieeg.fif.gz\n",
      "  raw_MMN_fif = mne.io.read_raw_fif(rawfif_datapath, preload=True)\n"
     ]
    },
    {
     "name": "stdout",
     "output_type": "stream",
     "text": [
      "Using pyopengl with version 3.1.1a1\n",
      "Used Annotations descriptions: ['1', '2', '3', '4']\n",
      "3 [[  3711      0      4]\n",
      " [  4480      0      4]\n",
      " [  5248      0      4]\n",
      " ...\n",
      " [400848      0      3]\n",
      " [401616      0      1]\n",
      " [402384      0      1]]\n",
      "Not setting metadata\n",
      "500 matching events found\n",
      "Setting baseline interval to [-0.099609375, 0.0] s\n",
      "Applying baseline correction (mode: mean)\n",
      "0 projection items activated\n",
      "Using data from preloaded Raw for 500 events and 820 original time points ...\n",
      "0 bad epochs dropped\n"
     ]
    },
    {
     "data": {
      "text/html": [
       "<table class=\"table table-hover table-striped table-sm table-responsive small\">\n",
       "    <tr>\n",
       "        <th>Number of events</th>\n",
       "        <td>500</td>\n",
       "    </tr>\n",
       "    <tr>\n",
       "        <th>Events</th>\n",
       "        \n",
       "        <td>deviant_2: 50<br/>deviant_3: 50<br/>standard: 400</td>\n",
       "        \n",
       "    </tr>\n",
       "    <tr>\n",
       "        <th>Time range</th>\n",
       "        <td>-0.100 – 0.700 s</td>\n",
       "    </tr>\n",
       "    <tr>\n",
       "        <th>Baseline</th>\n",
       "        <td>-0.100 – 0.000 s</td>\n",
       "    </tr>\n",
       "</table>"
      ],
      "text/plain": [
       "<Epochs |  500 events (all good), -0.0996094 – 0.700195 s, baseline -0.0996094 – 0 s, ~6.3 MB, data loaded,\n",
       " 'standard': 400\n",
       " 'deviant_2': 50\n",
       " 'deviant_3': 50>"
      ]
     },
     "execution_count": 46,
     "metadata": {},
     "output_type": "execute_result"
    },
    {
     "name": "stdout",
     "output_type": "stream",
     "text": [
      "Channels marked as bad:\n",
      "['Trigger']\n"
     ]
    }
   ],
   "source": [
    "# MMN data analysis\n",
    "rawfif_datapath = fif_DIR / Path('eeg_20250610_test_original_MMN_noNotch.fif')\n",
    "\n",
    "raw_MMN_fif = mne.io.read_raw_fif(rawfif_datapath, preload=True)\n",
    "# Check whether the ch exists\n",
    "print(raw_MMN_fif.info['ch_names'])\n",
    "print(raw_MMN_fif.get_channel_types())\n",
    "# Rename the channels\n",
    "raw_MMN_fif.rename_channels({'Fz_1': 'Fz_1'})\n",
    "raw_MMN_fif.set_channel_types({'Fz_1': 'eeg'})\n",
    "\n",
    "raw_MMN_fif.plot()\n",
    "MMN_eventsArray = mne.events_from_annotations(raw_MMN_fif)[0]\n",
    "print(len(MMN_eventsArray[0]), MMN_eventsArray)\n",
    "\n",
    "\n",
    "# Creating the new epochs\n",
    "MMN_events = MMN_eventsArray#mne.find_events(raw_ICAed, stim_channel='STI 014')  #just checking what stim_channel documenting what.\n",
    "MMN_event_id = {'standard':1,'deviant_2':2, 'deviant_3': 3}  \n",
    "\n",
    "tmin = -0.1         \t\t\t\t\t\t\t\t# pre stimulis interval (in seconds) #\n",
    "tmax = 0.7          \t\t\t\t\t\t\t\t# post stimulus interval #\n",
    "\n",
    "baseline = (None, 0)  # tmin ~ 0 , -0.1s-0s   \n",
    "#reject = dict(mag=4e-12)\n",
    "\n",
    "# Load in the channels layouts\n",
    "#kit_lay = mne.channels.read_layout(\"KIT-157\")\n",
    "\n",
    "#raw_MMN_fif.filter(0, 30, phase= 'zero-double').resample(500)\n",
    "n_epoch_MMN = mne.Epochs(raw_MMN_fif, MMN_events, MMN_event_id, tmin, tmax, baseline=baseline, preload = True)\n",
    "#n_epoch_MMN.save(fif_DIR / Path('new_MMN_noNotch_epochs.fif'), overwrite=True)\n",
    "n_epoch_MMN"
   ]
  },
  {
   "cell_type": "code",
   "execution_count": 47,
   "id": "e469ec42-a0df-4b05-9f14-8b4b7baaef14",
   "metadata": {},
   "outputs": [
    {
     "data": {
      "text/plain": [
       "\"\\n# Save fig\\nfig_DIR = root_data_path / 'MMN_figs'\\nfig_DIR.mkdir(exist_ok=True)\\nmmn_fig.save(fig_DIR / Path('original_noNotch_evoked_Fz_1.png'))#, overwrite=True)\\n\""
      ]
     },
     "execution_count": 47,
     "metadata": {},
     "output_type": "execute_result"
    },
    {
     "name": "stderr",
     "output_type": "stream",
     "text": [
      "2025-08-22 14:00:37.085 python[10803:20716774] +[CATransaction synchronize] called within transaction\n"
     ]
    }
   ],
   "source": [
    "# epochs to evoked\n",
    "evoked_standard = n_epoch_MMN['standard'].average()\n",
    "evoked_deviant_2 = n_epoch_MMN['deviant_2'].average()\n",
    "evoked_deviant_3 = n_epoch_MMN['deviant_3'].average()\n",
    "\n",
    "# Plot mmn differences\n",
    "tmp = [evoked_standard, evoked_deviant_2, evoked_deviant_3]\n",
    "colors = 'red', 'blue', 'green'\n",
    "#mne.viz.plot_evoked_topo(tmp, color = colors, title = 'MMN', ylim = dict(eeg=[10, -10]))\n",
    "mmn_fig = mne.viz.plot_compare_evokeds(tmp, colors = colors) #, axes = 'topo')\n",
    "#mmn_plot\n",
    "\n",
    "\"\"\"\n",
    "# Save fig\n",
    "fig_DIR = root_data_path / 'MMN_figs'\n",
    "fig_DIR.mkdir(exist_ok=True)\n",
    "mmn_fig.save(fig_DIR / Path('original_noNotch_evoked_Fz_1.png'))#, overwrite=True)\n",
    "\"\"\"\n",
    "#plt.savefig(meg_data_path / Path('H-minus-L_evoked_topomap.png'), overwrite=True). # Check this later"
   ]
  },
  {
   "cell_type": "code",
   "execution_count": null,
   "id": "cbaf4cd4-5086-4b45-9810-7e1801325098",
   "metadata": {},
   "outputs": [],
   "source": []
  },
  {
   "cell_type": "code",
   "execution_count": 24,
   "id": "9318890e",
   "metadata": {},
   "outputs": [
    {
     "name": "stdout",
     "output_type": "stream",
     "text": [
      "((), (), (), (), (), (), (), (), (), (), (), (), (), (), (), (), (), (), (), (), (), (), (), (), (), (), (), (), (), (), (), (), (), (), (), (), (), (), (), (), (), (), (), (), (), (), (), (), (), (), (), (), (), (), (), (), (), (), (), (), (), (), (), (), (), (), (), (), (), (), (), (), (), (), (), (), (), (), (), (), (), (), (), (), (), (), (), (), (), (), (), (), (), (), (), (), (), (), (), (), (), (), (), (), (), (), (), (), (), (), (), (), (), (), (), (), (), ('MEG 117',), (), ())\n"
     ]
    }
   ],
   "source": [
    "# get to know the reason of bad epoch drop\n",
    "print(epoch_LDT.drop_log)"
   ]
  },
  {
   "cell_type": "code",
   "execution_count": null,
   "id": "08f28e63",
   "metadata": {},
   "outputs": [],
   "source": []
  }
 ],
 "metadata": {
  "kernelspec": {
   "display_name": "Python 3 (ipykernel)",
   "language": "python",
   "name": "python3"
  },
  "language_info": {
   "codemirror_mode": {
    "name": "ipython",
    "version": 3
   },
   "file_extension": ".py",
   "mimetype": "text/x-python",
   "name": "python",
   "nbconvert_exporter": "python",
   "pygments_lexer": "ipython3",
   "version": "3.11.6"
  }
 },
 "nbformat": 4,
 "nbformat_minor": 5
}
