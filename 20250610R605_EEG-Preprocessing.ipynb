{
 "cells": [
  {
   "cell_type": "code",
   "execution_count": 1,
   "id": "6634f709",
   "metadata": {},
   "outputs": [
    {
     "name": "stdout",
     "output_type": "stream",
     "text": [
      "Using matplotlib backend: <object object at 0x10ccf2e40>\n"
     ]
    }
   ],
   "source": [
    "%matplotlib"
   ]
  },
  {
   "cell_type": "code",
   "execution_count": 2,
   "id": "4d00b832",
   "metadata": {},
   "outputs": [],
   "source": [
    "import mne\n",
    "from pprint import pprint\n",
    "import json\n",
    "import csv\n",
    "import numpy as np\n",
    "import pandas as pd\n",
    "from pathlib import Path\n",
    "from mne.preprocessing import (ICA, create_eog_epochs, create_ecg_epochs, corrmap)"
   ]
  },
  {
   "cell_type": "code",
   "execution_count": 18,
   "id": "3e7b647b-8fef-41d7-8758-42b2f3ac7277",
   "metadata": {},
   "outputs": [
    {
     "name": "stdout",
     "output_type": "stream",
     "text": [
      "/Users/neuroling/Downloads/20250610_EEG-Demo\n",
      "Reading 0 ... 415231  =      0.000 ...   405.499 secs...\n",
      "Filtering raw data in 1 contiguous segment\n",
      "Setting up low-pass filter at 30 Hz\n",
      "\n",
      "FIR filter parameters\n",
      "---------------------\n",
      "Designing a two-pass forward and reverse, zero-phase, non-causal lowpass filter:\n",
      "- Windowed time-domain design (firwin) method\n",
      "- Hamming window with 0.0194 passband ripple and 53 dB stopband attenuation\n",
      "- Upper passband edge: 30.00 Hz\n",
      "- Upper transition bandwidth: 7.50 Hz (-12 dB cutoff frequency: 33.75 Hz)\n",
      "- Filter length: 451 samples (0.440 s)\n",
      "\n",
      "<Info | 10 non-empty values\n",
      " bads: 1 items (Trigger)\n",
      " ch_names: Fz_1, Trigger\n",
      " chs: 1 EOG, 1 EEG\n",
      " custom_ref_applied: False\n",
      " dig: 5 items (3 Cardinal, 2 EEG)\n",
      " highpass: 0.0 Hz\n",
      " lowpass: 30.0 Hz\n",
      " meas_date: 2025-10-06 07:03:10 UTC\n",
      " nchan: 2\n",
      " projs: []\n",
      " sfreq: 500.0 Hz\n",
      " subject_info: 5 items (dict)\n",
      ">\n"
     ]
    }
   ],
   "source": [
    "# Use the .fif files produced from kit2fiff packages\n",
    "root_data_path = Path(\"/Users/neuroling/Downloads/20250610_EEG-Demo\")\n",
    "print(root_data_path)\n",
    "\n",
    "\n",
    "EEG_cntFile = root_data_path / Path('eeg_20250610_test_new_MMN_Notched.cnt') \n",
    "#LDT_raw =  mne.io.read_raw_kit(LDT_confile, stim = [195], preload=True) #, slope = '+') #slope=將3個stim_channel的訊號全部加成,讓訊號增強\n",
    "                                                                #把原始的KIT資料讀進來\n",
    "#LDT_raw.plot()\n",
    "#events = mne.find_events(LDT_raw, stim_channel='STI 014') #將集合而成的channel命名為STI 014\n",
    "\n",
    "MMN_raw = mne.io.read_raw_cnt(EEG_cntFile, eog=\"header\", preload=True)\n",
    "#MMN_raw.plot()\n",
    "\n",
    "n_MMN_raw = MMN_raw.copy()\n",
    "\n",
    "n_MMN_raw.load_data().notch_filter()#.filter(0, 30, phase='zero-double').resample(500)\n",
    "picks = mne.pick_types(n_MMN_raw.info, eeg=True, eog=True, exclude='bads')\n",
    "print(n_MMN_raw.info)\n",
    "\n",
    "#n_MMN_raw.plot()"
   ]
  },
  {
   "cell_type": "code",
   "execution_count": 25,
   "id": "e8d8f762",
   "metadata": {},
   "outputs": [],
   "source": [
    "## We don't do ICA when it's only one channel involved ##\n",
    "# ICA\n",
    "#ica = mne.preprocessing.ICA(n_components=15, random_state=97)\n",
    "#ica.fit(n_MMN_raw, picks=picks)\n",
    "#ica_\n",
    "\n",
    "#Plot ICA\n",
    "#ica_.plot_sources(n_MMN_raw)\n",
    "#ica_.plot_components()#sphere = (0.0, 0.02, 0.0, 0.065))  # What is this sphere for??\n",
    "#ica_.plot_overlay(n_LDT_raw, exclude=[0, 5])  # 5 3 2 1"
   ]
  },
  {
   "cell_type": "code",
   "execution_count": 24,
   "id": "1f9f0b7f",
   "metadata": {},
   "outputs": [
    {
     "data": {
      "text/plain": [
       "'\\n# Checking for every component\\nfor i in range(15):\\n    #ica_.plot_properties(n_raw, picks=[i])\\n    ica_.plot_overlay(n_LDT_raw, exclude=[i])\\n'"
      ]
     },
     "execution_count": 24,
     "metadata": {},
     "output_type": "execute_result"
    }
   ],
   "source": [
    "\"\"\"\n",
    "# Checking for every component\n",
    "for i in range(15):\n",
    "    #ica_.plot_properties(n_raw, picks=[i])\n",
    "    ica_.plot_overlay(n_LDT_raw, exclude=[i])\n",
    "\"\"\""
   ]
  },
  {
   "cell_type": "code",
   "execution_count": 23,
   "id": "debe039b",
   "metadata": {},
   "outputs": [],
   "source": [
    "#ica_.plot_overlay(n_LDT_raw, exclude=[0, 1, 3, 7])\n",
    "#ica_.plot_overlay(n_LDT_raw, exclude=[0, 1, 2, 4])"
   ]
  },
  {
   "cell_type": "code",
   "execution_count": 26,
   "id": "8e1a3864",
   "metadata": {},
   "outputs": [
    {
     "data": {
      "text/plain": [
       "\"\\n# ICAed epochs\\n# excluding wanted components\\nica_.exclude = [0, 1, 2, 4]\\nica_.plot_overlay(n_LDT_raw, exclude=ica_.exclude)\\n\\nica_.apply(n_LDT_raw) #changes the Raw object in-place, so let's make a copy first:\\n#n_LDT_raw.plot()\\n\""
      ]
     },
     "execution_count": 26,
     "metadata": {},
     "output_type": "execute_result"
    }
   ],
   "source": [
    "\"\"\"\n",
    "# ICAed epochs\n",
    "# excluding wanted components\n",
    "ica_.exclude = [0, 1, 2, 4]\n",
    "ica_.plot_overlay(n_LDT_raw, exclude=ica_.exclude)\n",
    "\n",
    "ica_.apply(n_LDT_raw) #changes the Raw object in-place, so let's make a copy first:\n",
    "#n_LDT_raw.plot()\n",
    "\"\"\""
   ]
  },
  {
   "cell_type": "code",
   "execution_count": 82,
   "id": "bd50b9f0",
   "metadata": {},
   "outputs": [
    {
     "name": "stdout",
     "output_type": "stream",
     "text": [
      "Writing /Users/neuroling/Downloads/DINGHSIN_Results/LTTC_MEG/LTTC_MEG_ALL_results/LTTC_rawLDT_ICAed_fif/S007_rawLDT_ICAed.fif\n"
     ]
    },
    {
     "name": "stderr",
     "output_type": "stream",
     "text": [
      "/var/folders/dt/yj00f34n5x52_p314tnwfjkw0000gn/T/ipykernel_23625/766722599.py:1: RuntimeWarning: This filename (/Users/neuroling/Downloads/DINGHSIN_Results/LTTC_MEG/LTTC_MEG_ALL_results/LTTC_rawLDT_ICAed_fif/S007_rawLDT_ICAed.fif) does not conform to MNE naming conventions. All raw files should end with raw.fif, raw_sss.fif, raw_tsss.fif, _meg.fif, _eeg.fif, _ieeg.fif, raw.fif.gz, raw_sss.fif.gz, raw_tsss.fif.gz, _meg.fif.gz, _eeg.fif.gz or _ieeg.fif.gz\n",
      "  n_LDT_raw.save(raw_ICAed_path / Path('S%.3d_rawLDT_ICAed.fif' %sub_id), overwrite=True)\n"
     ]
    },
    {
     "name": "stdout",
     "output_type": "stream",
     "text": [
      "Closing /Users/neuroling/Downloads/DINGHSIN_Results/LTTC_MEG/LTTC_MEG_ALL_results/LTTC_rawLDT_ICAed_fif/S007_rawLDT_ICAed.fif\n",
      "[done]\n"
     ]
    }
   ],
   "source": [
    "n_LDT_raw.save(raw_ICAed_path / Path('S%.3d_rawLDT_ICAed.fif' %sub_id), overwrite=True)"
   ]
  },
  {
   "cell_type": "code",
   "execution_count": 24,
   "id": "9318890e",
   "metadata": {},
   "outputs": [
    {
     "name": "stdout",
     "output_type": "stream",
     "text": [
      "((), (), (), (), (), (), (), (), (), (), (), (), (), (), (), (), (), (), (), (), (), (), (), (), (), (), (), (), (), (), (), (), (), (), (), (), (), (), (), (), (), (), (), (), (), (), (), (), (), (), (), (), (), (), (), (), (), (), (), (), (), (), (), (), (), (), (), (), (), (), (), (), (), (), (), (), (), (), (), (), (), (), (), (), (), (), (), (), (), (), (), (), (), (), (), (), (), (), (), (), (), (), (), (), (), (), (), (), (), (), (), (), (), (), (), (), (), ('MEG 117',), (), ())\n"
     ]
    }
   ],
   "source": [
    "# get to know the reason of bad epoch drop\n",
    "print(epoch_LDT.drop_log)"
   ]
  },
  {
   "cell_type": "code",
   "execution_count": null,
   "id": "08f28e63",
   "metadata": {},
   "outputs": [],
   "source": []
  }
 ],
 "metadata": {
  "kernelspec": {
   "display_name": "Python 3 (ipykernel)",
   "language": "python",
   "name": "python3"
  },
  "language_info": {
   "codemirror_mode": {
    "name": "ipython",
    "version": 3
   },
   "file_extension": ".py",
   "mimetype": "text/x-python",
   "name": "python",
   "nbconvert_exporter": "python",
   "pygments_lexer": "ipython3",
   "version": "3.11.7"
  }
 },
 "nbformat": 4,
 "nbformat_minor": 5
}
