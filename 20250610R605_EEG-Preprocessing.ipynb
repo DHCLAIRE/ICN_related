{
 "cells": [
  {
   "cell_type": "code",
   "execution_count": 2,
   "id": "6634f709",
   "metadata": {},
   "outputs": [
    {
     "name": "stdout",
     "output_type": "stream",
     "text": [
<<<<<<< Updated upstream
      "Using matplotlib backend: module://matplotlib_inline.backend_inline\n"
=======
      "Using matplotlib backend: <object object at 0x10c84dfc0>\n"
>>>>>>> Stashed changes
     ]
    }
   ],
   "source": [
    "%matplotlib"
   ]
  },
  {
   "cell_type": "code",
<<<<<<< Updated upstream
   "execution_count": 1,
=======
   "execution_count": 3,
>>>>>>> Stashed changes
   "id": "4d00b832",
   "metadata": {},
   "outputs": [],
   "source": [
    "import mne\n",
    "from pprint import pprint\n",
    "import json\n",
    "import csv\n",
    "import numpy as np\n",
    "\n",
    "import pandas as pd\n",
    "from pathlib import Path\n",
    "from mne.preprocessing import (ICA, create_eog_epochs, create_ecg_epochs, corrmap)"
   ]
  },
  {
   "cell_type": "code",
<<<<<<< Updated upstream
   "execution_count": 16,
=======
   "execution_count": 6,
>>>>>>> Stashed changes
   "id": "3e7b647b-8fef-41d7-8758-42b2f3ac7277",
   "metadata": {},
   "outputs": [
    {
     "name": "stdout",
     "output_type": "stream",
     "text": [
<<<<<<< Updated upstream
      "/Users/neuroling/Downloads/20250610_EEG-Demo\n",
      "Reading 0 ... 529407  =      0.000 ...   516.999 secs...\n",
      "Using pyopengl with version 3.1.1a1\n",
      "<Info | 10 non-empty values\n",
=======
      "/Volumes/DH_4GB/2025R605_EEG_Demo/20250610_EEG-Demo\n",
      "Reading 0 ... 415231  =      0.000 ...   405.499 secs...\n",
      "<Info | 9 non-empty values\n",
>>>>>>> Stashed changes
      " bads: 1 items (Trigger)\n",
      " ch_names: Fz_1, Trigger\n",
      " chs: 1 EOG, 1 EEG\n",
      " custom_ref_applied: False\n",
      " highpass: 0.0 Hz\n",
      " lowpass: 512.0 Hz\n",
<<<<<<< Updated upstream
      " meas_date: 2025-10-06 07:24:31 UTC\n",
=======
      " meas_date: 2025-10-06 07:03:10 UTC\n",
>>>>>>> Stashed changes
      " nchan: 2\n",
      " projs: []\n",
      " sfreq: 1024.0 Hz\n",
      " subject_info: 5 items (dict)\n",
      ">\n"
     ]
    }
   ],
   "source": [
    "# Use the .fif files produced from kit2fiff packages\n",
    "#root_data_path = Path(\"/Users/neuroling/Downloads/20250610_EEG-Demo\")\n",
    "root_data_path = Path(\"/Volumes/DH_4GB/2025R605_EEG_Demo/20250610_EEG-Demo\")\n",
    "print(root_data_path)\n",
    "\n",
    "\n",
    "EEG_cntFile = root_data_path / Path('eeg_20250610_test_original_noNotch.cnt') #eeg_20250610_test_original_noNotch.cnt\n",
    "#LDT_raw =  mne.io.read_raw_kit(LDT_confile, stim = [195], preload=True) #, slope = '+') #slope=將3個stim_channel的訊號全部加成,讓訊號增強\n",
    "                                                                #把原始的KIT資料讀進\n",
    "#LDT_raw.plot()\n",
    "#events = mne.find_events(LDT_raw, stim_channel='STI 014') #將集合而成的channel命名為STI 014\n",
    "\n",
    "MMN_raw = mne.io.read_raw_cnt(EEG_cntFile, eog=\"header\", preload=True)\n",
    "\n",
    "n_MMN_raw = MMN_raw.copy()\n",
<<<<<<< Updated upstream
    "n_MMN_raw.plot()\n",
=======
    "#n_MMN_raw.plot()\n",
    "\n",
>>>>>>> Stashed changes
    "print(n_MMN_raw.info)"
   ]
  },
  {
   "cell_type": "code",
<<<<<<< Updated upstream
   "execution_count": 17,
   "id": "62c17c8b-4d73-4e8a-966c-79900dc907d7",
   "metadata": {},
   "outputs": [
    {
     "data": {
      "text/plain": [
       "['Fz_1', 'Trigger']"
      ]
     },
     "execution_count": 17,
     "metadata": {},
     "output_type": "execute_result"
    }
   ],
   "source": [
    "n_MMN_raw.ch_names # Where are the annotations"
   ]
  },
  {
   "cell_type": "code",
   "execution_count": 18,
   "id": "cc8a6130-ac57-4fb0-995b-2175861cbba9",
   "metadata": {},
   "outputs": [
    {
     "name": "stdout",
     "output_type": "stream",
     "text": [
      "Used Annotations descriptions: ['1', '2', '20', '21', '22', '23', '24', '3', '4', '5', '55']\n",
      "[[ 16563      0      1]\n",
      " [ 76470      0      3]\n",
      " [150408      0     11]\n",
      " [152454      0      2]\n",
      " [215433      0      4]\n",
      " [286392      0     11]\n",
      " [288442      0      8]\n",
      " [354493      0      5]\n",
      " [360555      0     11]\n",
      " [362795      0      9]\n",
      " [434991      0      6]\n",
      " [448995      0     11]\n",
      " [451224      0     10]\n",
      " [520348      0      7]\n",
      " [525777      0     11]]\n",
      "15\n",
      "Used Annotations descriptions: ['1', '2', '20', '21', '22', '23', '24', '3', '4', '5', '55']\n",
      "{'1': 1, '2': 2, '20': 3, '21': 4, '22': 5, '23': 6, '24': 7, '3': 8, '4': 9, '5': 10, '55': 11}\n"
     ]
    }
   ],
   "source": [
    "# This is the original brain data's triggers\n",
    "events_ann = mne.events_from_annotations(n_MMN_raw)[0]\n",
    "print(events_ann)\n",
    "print(len(events_ann))\n",
    "print(mne.events_from_annotations(n_MMN_raw)[1])\n",
    "#print(events_ann[1:15])"
   ]
  },
  {
   "cell_type": "code",
   "execution_count": 3,
   "id": "8d43d797-2512-4bcf-868b-47fc267dd55f",
   "metadata": {},
   "outputs": [
    {
     "name": "stdout",
     "output_type": "stream",
     "text": [
      "Effective window size : 2.000 (s)\n"
     ]
    },
    {
     "ename": "ValueError",
     "evalue": "picks ('Fz_1') could not be interpreted as channel names (no channel \"['Fz_1']\"), channel types (no type \"Fz_1\" present), or a generic type (just \"all\" or \"data\")",
     "output_type": "error",
     "traceback": [
      "\u001b[0;31m---------------------------------------------------------------------------\u001b[0m",
      "\u001b[0;31mValueError\u001b[0m                                Traceback (most recent call last)",
      "Cell \u001b[0;32mIn[3], line 3\u001b[0m\n\u001b[1;32m      1\u001b[0m \u001b[38;5;66;03m# Calculate the power spectrum density to examine the power in each frequency.\u001b[39;00m\n\u001b[1;32m      2\u001b[0m spectrum \u001b[38;5;241m=\u001b[39m n_MMN_raw\u001b[38;5;241m.\u001b[39mcompute_psd()\n\u001b[0;32m----> 3\u001b[0m spectrum\u001b[38;5;241m.\u001b[39mplot(picks\u001b[38;5;241m=\u001b[39m\u001b[38;5;124m'\u001b[39m\u001b[38;5;124mFz_1\u001b[39m\u001b[38;5;124m'\u001b[39m, average\u001b[38;5;241m=\u001b[39m\u001b[38;5;28;01mTrue\u001b[39;00m, amplitude\u001b[38;5;241m=\u001b[39m\u001b[38;5;28;01mFalse\u001b[39;00m)\n",
      "File \u001b[0;32m~/anaconda3/envs/eelbrain/lib/python3.11/site-packages/mne/time_frequency/spectrum.py:680\u001b[0m, in \u001b[0;36mBaseSpectrum.plot\u001b[0;34m(self, picks, average, dB, amplitude, xscale, ci, ci_alpha, color, alpha, spatial_colors, sphere, exclude, axes, show)\u001b[0m\n\u001b[1;32m    678\u001b[0m     estimate \u001b[38;5;241m=\u001b[39m \u001b[38;5;124m\"\u001b[39m\u001b[38;5;124mamplitude\u001b[39m\u001b[38;5;124m\"\u001b[39m \u001b[38;5;28;01mif\u001b[39;00m amplitude \u001b[38;5;28;01melse\u001b[39;00m \u001b[38;5;124m\"\u001b[39m\u001b[38;5;124mpower\u001b[39m\u001b[38;5;124m\"\u001b[39m\n\u001b[1;32m    679\u001b[0m \u001b[38;5;66;03m# split picks by channel type\u001b[39;00m\n\u001b[0;32m--> 680\u001b[0m picks \u001b[38;5;241m=\u001b[39m _picks_to_idx(\n\u001b[1;32m    681\u001b[0m     \u001b[38;5;28mself\u001b[39m\u001b[38;5;241m.\u001b[39minfo, picks, \u001b[38;5;124m\"\u001b[39m\u001b[38;5;124mdata\u001b[39m\u001b[38;5;124m\"\u001b[39m, exclude\u001b[38;5;241m=\u001b[39mexclude, with_ref_meg\u001b[38;5;241m=\u001b[39m\u001b[38;5;28;01mFalse\u001b[39;00m\n\u001b[1;32m    682\u001b[0m )\n\u001b[1;32m    683\u001b[0m (picks_list, units_list, scalings_list, titles_list) \u001b[38;5;241m=\u001b[39m _split_picks_by_type(\n\u001b[1;32m    684\u001b[0m     \u001b[38;5;28mself\u001b[39m, picks, units, scalings, titles\n\u001b[1;32m    685\u001b[0m )\n\u001b[1;32m    686\u001b[0m \u001b[38;5;66;03m# handle unaggregated multitaper\u001b[39;00m\n",
      "File \u001b[0;32m~/anaconda3/envs/eelbrain/lib/python3.11/site-packages/mne/_fiff/pick.py:1271\u001b[0m, in \u001b[0;36m_picks_to_idx\u001b[0;34m(info, picks, none, exclude, allow_empty, with_ref_meg, return_kind, picks_on)\u001b[0m\n\u001b[1;32m   1269\u001b[0m     \u001b[38;5;28;01mraise\u001b[39;00m \u001b[38;5;167;01mValueError\u001b[39;00m(\u001b[38;5;124m\"\u001b[39m\u001b[38;5;124mpicks must be 1D, got \u001b[39m\u001b[38;5;132;01m%s\u001b[39;00m\u001b[38;5;124mD\u001b[39m\u001b[38;5;124m\"\u001b[39m \u001b[38;5;241m%\u001b[39m (picks\u001b[38;5;241m.\u001b[39mndim,))\n\u001b[1;32m   1270\u001b[0m \u001b[38;5;28;01mif\u001b[39;00m picks\u001b[38;5;241m.\u001b[39mdtype\u001b[38;5;241m.\u001b[39mchar \u001b[38;5;129;01min\u001b[39;00m (\u001b[38;5;124m\"\u001b[39m\u001b[38;5;124mS\u001b[39m\u001b[38;5;124m\"\u001b[39m, \u001b[38;5;124m\"\u001b[39m\u001b[38;5;124mU\u001b[39m\u001b[38;5;124m\"\u001b[39m):\n\u001b[0;32m-> 1271\u001b[0m     picks \u001b[38;5;241m=\u001b[39m _picks_str_to_idx(\n\u001b[1;32m   1272\u001b[0m         info,\n\u001b[1;32m   1273\u001b[0m         picks,\n\u001b[1;32m   1274\u001b[0m         exclude,\n\u001b[1;32m   1275\u001b[0m         with_ref_meg,\n\u001b[1;32m   1276\u001b[0m         return_kind,\n\u001b[1;32m   1277\u001b[0m         extra_repr,\n\u001b[1;32m   1278\u001b[0m         allow_empty,\n\u001b[1;32m   1279\u001b[0m         orig_picks,\n\u001b[1;32m   1280\u001b[0m     )\n\u001b[1;32m   1281\u001b[0m     \u001b[38;5;28;01mif\u001b[39;00m return_kind:\n\u001b[1;32m   1282\u001b[0m         picked_ch_type_or_generic \u001b[38;5;241m=\u001b[39m picks[\u001b[38;5;241m1\u001b[39m]\n",
      "File \u001b[0;32m~/anaconda3/envs/eelbrain/lib/python3.11/site-packages/mne/_fiff/pick.py:1409\u001b[0m, in \u001b[0;36m_picks_str_to_idx\u001b[0;34m(info, picks, exclude, with_ref_meg, return_kind, extra_repr, allow_empty, orig_picks)\u001b[0m\n\u001b[1;32m   1407\u001b[0m \u001b[38;5;28;01mif\u001b[39;00m \u001b[38;5;28msum\u001b[39m(any_found) \u001b[38;5;241m==\u001b[39m \u001b[38;5;241m0\u001b[39m:\n\u001b[1;32m   1408\u001b[0m     \u001b[38;5;28;01mif\u001b[39;00m \u001b[38;5;129;01mnot\u001b[39;00m allow_empty:\n\u001b[0;32m-> 1409\u001b[0m         \u001b[38;5;28;01mraise\u001b[39;00m \u001b[38;5;167;01mValueError\u001b[39;00m(\n\u001b[1;32m   1410\u001b[0m             \u001b[38;5;124m\"\u001b[39m\u001b[38;5;124mpicks (\u001b[39m\u001b[38;5;132;01m%s\u001b[39;00m\u001b[38;5;124m) could not be interpreted as \u001b[39m\u001b[38;5;124m\"\u001b[39m\n\u001b[1;32m   1411\u001b[0m             \u001b[38;5;124m'\u001b[39m\u001b[38;5;124mchannel names (no channel \u001b[39m\u001b[38;5;124m\"\u001b[39m\u001b[38;5;132;01m%s\u001b[39;00m\u001b[38;5;124m\"\u001b[39m\u001b[38;5;124m), channel types (no \u001b[39m\u001b[38;5;124m'\u001b[39m\n\u001b[1;32m   1412\u001b[0m             \u001b[38;5;124m'\u001b[39m\u001b[38;5;124mtype \u001b[39m\u001b[38;5;124m\"\u001b[39m\u001b[38;5;132;01m%s\u001b[39;00m\u001b[38;5;124m\"\u001b[39m\u001b[38;5;124m present), or a generic type (just \u001b[39m\u001b[38;5;124m\"\u001b[39m\u001b[38;5;124mall\u001b[39m\u001b[38;5;124m\"\u001b[39m\u001b[38;5;124m or \u001b[39m\u001b[38;5;124m\"\u001b[39m\u001b[38;5;124mdata\u001b[39m\u001b[38;5;124m\"\u001b[39m\u001b[38;5;124m)\u001b[39m\u001b[38;5;124m'\u001b[39m\n\u001b[1;32m   1413\u001b[0m             \u001b[38;5;241m%\u001b[39m (\u001b[38;5;28mrepr\u001b[39m(orig_picks) \u001b[38;5;241m+\u001b[39m extra_repr, \u001b[38;5;28mstr\u001b[39m(bad_names), bad_type)\n\u001b[1;32m   1414\u001b[0m         )\n\u001b[1;32m   1415\u001b[0m     picks \u001b[38;5;241m=\u001b[39m np\u001b[38;5;241m.\u001b[39marray([], \u001b[38;5;28mint\u001b[39m)\n\u001b[1;32m   1416\u001b[0m \u001b[38;5;28;01melif\u001b[39;00m \u001b[38;5;28msum\u001b[39m(any_found) \u001b[38;5;241m>\u001b[39m \u001b[38;5;241m1\u001b[39m:\n",
      "\u001b[0;31mValueError\u001b[0m: picks ('Fz_1') could not be interpreted as channel names (no channel \"['Fz_1']\"), channel types (no type \"Fz_1\" present), or a generic type (just \"all\" or \"data\")"
     ]
    },
    {
     "name": "stdout",
     "output_type": "stream",
     "text": [
      "Channels marked as bad:\n",
      "['Trigger']\n"
     ]
    }
   ],
   "source": [
    "# Calculate the power spectrum density to examine the power in each frequency.\n",
    "spectrum = n_MMN_raw.compute_psd()\n",
    "spectrum.plot(picks='Fz_1', average=True, amplitude=False) #, exclude=\"bads\", amplitude=False)"
   ]
  },
  {
   "cell_type": "code",
   "execution_count": 14,
   "id": "bcde5145-06e0-461a-ad50-ee41d5fc4c8b",
   "metadata": {},
   "outputs": [
    {
     "name": "stdout",
     "output_type": "stream",
     "text": [
      "Filtering raw data in 1 contiguous segment\n",
      "Setting up band-stop filter from 59 - 61 Hz\n",
      "\n",
      "FIR filter parameters\n",
      "---------------------\n",
      "Designing a one-pass, zero-phase, non-causal bandstop filter:\n",
      "- Windowed time-domain design (firwin) method\n",
      "- Hamming window with 0.0194 passband ripple and 53 dB stopband attenuation\n",
      "- Lower passband edge: 59.35\n",
      "- Lower transition bandwidth: 0.50 Hz (-6 dB cutoff frequency: 59.10 Hz)\n",
      "- Upper passband edge: 60.65 Hz\n",
      "- Upper transition bandwidth: 0.50 Hz (-6 dB cutoff frequency: 60.90 Hz)\n",
      "- Filter length: 6759 samples (6.601 s)\n",
      "\n",
      "Using pyopengl with version 3.1.1a1\n"
     ]
    },
    {
     "data": {
      "text/plain": [
       "<mne_qt_browser._pg_figure.MNEQtBrowser at 0x15c758790>"
      ]
     },
     "execution_count": 14,
     "metadata": {},
     "output_type": "execute_result"
    },
    {
     "name": "stdout",
     "output_type": "stream",
     "text": [
      "Channels marked as bad:\n",
      "['Trigger']\n",
      "Channels marked as bad:\n",
      "['Trigger']\n"
     ]
    }
   ],
   "source": [
    "n_MMN_raw.load_data().notch_filter(freqs=60)#.filter(0, 30, phase='zero-double').resample(500). #raw.notch_filter(freqs=60)  # US/Canada\n",
    "picks = mne.pick_types(n_MMN_raw.info, eeg=True, eog=True, exclude='bads')\n",
    "n_MMN_raw.plot()"
=======
   "execution_count": null,
   "id": "8aa214be",
   "metadata": {},
   "outputs": [],
   "source": [
    "n_MMN_raw.load_data().notch_filter(freqs=)#.filter(0, 30, phase='zero-double').resample(500)\n",
    "picks = mne.pick_types(n_MMN_raw.info, eeg=True, eog=True, exclude='bads')"
>>>>>>> Stashed changes
   ]
  },
  {
   "cell_type": "code",
   "execution_count": 25,
   "id": "e8d8f762",
   "metadata": {},
   "outputs": [],
   "source": [
    "## We don't do ICA when it's only one channel involved ##\n",
    "# ICA\n",
    "#ica = mne.preprocessing.ICA(n_components=15, random_state=97)\n",
    "#ica.fit(n_MMN_raw, picks=picks)\n",
    "#ica_\n",
    "\n",
    "#Plot ICA\n",
    "#ica_.plot_sources(n_MMN_raw)\n",
    "#ica_.plot_components()#sphere = (0.0, 0.02, 0.0, 0.065))  # What is this sphere for??\n",
    "#ica_.plot_overlay(n_LDT_raw, exclude=[0, 5])  # 5 3 2 1"
   ]
  },
  {
   "cell_type": "code",
   "execution_count": 24,
   "id": "1f9f0b7f",
   "metadata": {},
   "outputs": [
    {
     "data": {
      "text/plain": [
       "'\\n# Checking for every component\\nfor i in range(15):\\n    #ica_.plot_properties(n_raw, picks=[i])\\n    ica_.plot_overlay(n_LDT_raw, exclude=[i])\\n'"
      ]
     },
     "execution_count": 24,
     "metadata": {},
     "output_type": "execute_result"
    }
   ],
   "source": [
    "\"\"\"\n",
    "# Checking for every component\n",
    "for i in range(15):\n",
    "    #ica_.plot_properties(n_raw, picks=[i])\n",
    "    ica_.plot_overlay(n_LDT_raw, exclude=[i])\n",
    "\"\"\""
   ]
  },
  {
   "cell_type": "code",
   "execution_count": 23,
   "id": "debe039b",
   "metadata": {},
   "outputs": [],
   "source": [
    "#ica_.plot_overlay(n_LDT_raw, exclude=[0, 1, 3, 7])\n",
    "#ica_.plot_overlay(n_LDT_raw, exclude=[0, 1, 2, 4])"
   ]
  },
  {
   "cell_type": "code",
   "execution_count": 26,
   "id": "8e1a3864",
   "metadata": {},
   "outputs": [
    {
     "data": {
      "text/plain": [
       "\"\\n# ICAed epochs\\n# excluding wanted components\\nica_.exclude = [0, 1, 2, 4]\\nica_.plot_overlay(n_LDT_raw, exclude=ica_.exclude)\\n\\nica_.apply(n_LDT_raw) #changes the Raw object in-place, so let's make a copy first:\\n#n_LDT_raw.plot()\\n\""
      ]
     },
     "execution_count": 26,
     "metadata": {},
     "output_type": "execute_result"
    }
   ],
   "source": [
    "\"\"\"\n",
    "# ICAed epochs\n",
    "# excluding wanted components\n",
    "ica_.exclude = [0, 1, 2, 4]\n",
    "ica_.plot_overlay(n_LDT_raw, exclude=ica_.exclude)\n",
    "\n",
    "ica_.apply(n_LDT_raw) #changes the Raw object in-place, so let's make a copy first:\n",
    "#n_LDT_raw.plot()\n",
    "\"\"\""
   ]
  },
  {
   "cell_type": "code",
   "execution_count": 82,
   "id": "bd50b9f0",
   "metadata": {},
   "outputs": [
    {
     "name": "stdout",
     "output_type": "stream",
     "text": [
      "Writing /Users/neuroling/Downloads/DINGHSIN_Results/LTTC_MEG/LTTC_MEG_ALL_results/LTTC_rawLDT_ICAed_fif/S007_rawLDT_ICAed.fif\n"
     ]
    },
    {
     "name": "stderr",
     "output_type": "stream",
     "text": [
      "/var/folders/dt/yj00f34n5x52_p314tnwfjkw0000gn/T/ipykernel_23625/766722599.py:1: RuntimeWarning: This filename (/Users/neuroling/Downloads/DINGHSIN_Results/LTTC_MEG/LTTC_MEG_ALL_results/LTTC_rawLDT_ICAed_fif/S007_rawLDT_ICAed.fif) does not conform to MNE naming conventions. All raw files should end with raw.fif, raw_sss.fif, raw_tsss.fif, _meg.fif, _eeg.fif, _ieeg.fif, raw.fif.gz, raw_sss.fif.gz, raw_tsss.fif.gz, _meg.fif.gz, _eeg.fif.gz or _ieeg.fif.gz\n",
      "  n_LDT_raw.save(raw_ICAed_path / Path('S%.3d_rawLDT_ICAed.fif' %sub_id), overwrite=True)\n"
     ]
    },
    {
     "name": "stdout",
     "output_type": "stream",
     "text": [
      "Closing /Users/neuroling/Downloads/DINGHSIN_Results/LTTC_MEG/LTTC_MEG_ALL_results/LTTC_rawLDT_ICAed_fif/S007_rawLDT_ICAed.fif\n",
      "[done]\n"
     ]
    }
   ],
   "source": [
    "n_LDT_raw.save(raw_ICAed_path / Path('S%.3d_rawLDT_ICAed.fif' %sub_id), overwrite=True)"
   ]
  },
  {
   "cell_type": "code",
   "execution_count": 24,
   "id": "9318890e",
   "metadata": {},
   "outputs": [
    {
     "name": "stdout",
     "output_type": "stream",
     "text": [
      "((), (), (), (), (), (), (), (), (), (), (), (), (), (), (), (), (), (), (), (), (), (), (), (), (), (), (), (), (), (), (), (), (), (), (), (), (), (), (), (), (), (), (), (), (), (), (), (), (), (), (), (), (), (), (), (), (), (), (), (), (), (), (), (), (), (), (), (), (), (), (), (), (), (), (), (), (), (), (), (), (), (), (), (), (), (), (), (), (), (), (), (), (), (), (), (), (), (), (), (), (), (), (), (), (), (), (), (), (), (), (), (), (), (), (), (), (), ('MEG 117',), (), ())\n"
     ]
    }
   ],
   "source": [
    "# get to know the reason of bad epoch drop\n",
    "print(epoch_LDT.drop_log)"
   ]
  },
  {
   "cell_type": "code",
   "execution_count": null,
   "id": "08f28e63",
   "metadata": {},
   "outputs": [],
   "source": []
  }
 ],
 "metadata": {
  "kernelspec": {
   "display_name": "Python 3 (ipykernel)",
   "language": "python",
   "name": "python3"
  },
  "language_info": {
   "codemirror_mode": {
    "name": "ipython",
    "version": 3
   },
   "file_extension": ".py",
   "mimetype": "text/x-python",
   "name": "python",
   "nbconvert_exporter": "python",
   "pygments_lexer": "ipython3",
<<<<<<< Updated upstream
   "version": "3.11.6"
=======
   "version": "3.9.9"
>>>>>>> Stashed changes
  }
 },
 "nbformat": 4,
 "nbformat_minor": 5
}
