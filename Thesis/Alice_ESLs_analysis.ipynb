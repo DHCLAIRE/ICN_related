{
 "cells": [
  {
   "cell_type": "code",
   "execution_count": 3,
   "id": "1e7df353",
   "metadata": {},
   "outputs": [],
   "source": [
    "%matplotlib inline"
   ]
  },
  {
   "cell_type": "code",
   "execution_count": 2,
   "id": "687936f0",
   "metadata": {},
   "outputs": [],
   "source": [
    "from pathlib import Path\n",
    "import re\n",
    "\n",
    "import eelbrain\n",
    "import mne\n",
    "import trftools\n",
    "\n",
    "import numpy as np"
   ]
  },
  {
   "cell_type": "code",
   "execution_count": 10,
   "id": "776a6a7c",
   "metadata": {},
   "outputs": [
    {
     "name": "stdout",
     "output_type": "stream",
     "text": [
      "[]\n"
     ]
    }
   ],
   "source": [
    "## ESLs ##\n",
    "\n",
    "#STIMULI = [str(i) for i in range(1, 13)]\n",
    "DATA_ROOT = Path(\"/Volumes/Neurolang_1/Master Program/New_Thesis_topic/Experiments_Results\")  #Path(\"~\").expanduser() / 'Data' / 'Alice'\n",
    "#PREDICTOR_audio_DIR = DATA_ROOT / 'TRFs_pridictors/audio_predictors'\n",
    "#PREDICTOR_word_DIR = DATA_ROOT / 'TRFs_pridictors/word_predictors'\n",
    "EEG_DIR = DATA_ROOT / 'EEG_ESLs' / 'Alice_ESL_ICAed_fif'\n",
    "ESL_SUBJECTS = [path.name for path in EEG_DIR.iterdir() if re.match(r'n_S%', path.name)]  #S01_alice-raw.fif\n",
    "# Define a target directory for TRF estimates and make sure the directory is created\n",
    "TRF_DIR = DATA_ROOT / 'TRFs_ESLs'\n",
    "TRF_DIR.mkdir(exist_ok=True)\n",
    "print(ESL_SUBJECTS)"
   ]
  },
  {
   "cell_type": "code",
   "execution_count": null,
   "id": "8136bcbd",
   "metadata": {},
   "outputs": [],
   "source": [
    "## NATIVES ##\n",
    "\n",
    "STIMULI = [str(i) for i in range(1, 13)]\n",
    "DATA_ROOT = Path(\"/Volumes/Neurolang_1/Master Program/New_Thesis_topic/Experiments_Results\")  #Path(\"~\").expanduser() / 'Data' / 'Alice'\n",
    "PREDICTOR_audio_DIR = DATA_ROOT / 'TRFs_pridictors/audio_predictors'\n",
    "PREDICTOR_word_DIR = DATA_ROOT / 'TRFs_pridictors/word_predictors'\n",
    "EEG_DIR = DATA_ROOT / 'EEG_Natives' / 'Alice_natives_ICAed_fif'\n",
    "SUBJECTS = [path.name for path in EEG_DIR.iterdir() if re.match(r'S\\d*', path.name)]\n",
    "# Define a target directory for TRF estimates and make sure the directory is created\n",
    "TRF_DIR = DATA_ROOT / 'TRFs_Natives'\n",
    "TRF_DIR.mkdir(exist_o"
   ]
  },
  {
   "cell_type": "code",
   "execution_count": 7,
   "id": "9a4f0cc7",
   "metadata": {},
   "outputs": [
    {
     "ename": "ValueError",
     "evalue": "y=<NDVar 'gammatone': 57 sensor, 8 frequency, 114 time> is ambiguous for required dimensions ('sensor', None)",
     "output_type": "error",
     "traceback": [
      "\u001b[0;31m---------------------------------------------------------------------------\u001b[0m",
      "\u001b[0;31mValueError\u001b[0m                                Traceback (most recent call last)",
      "Cell \u001b[0;32mIn [7], line 3\u001b[0m\n\u001b[1;32m      1\u001b[0m Subj \u001b[38;5;241m=\u001b[39m \u001b[38;5;241m2\u001b[39m\n\u001b[1;32m      2\u001b[0m res \u001b[38;5;241m=\u001b[39m eelbrain\u001b[38;5;241m.\u001b[39mload\u001b[38;5;241m.\u001b[39munpickle(TRF_DIR \u001b[38;5;241m/\u001b[39m Path(\u001b[38;5;124m'\u001b[39m\u001b[38;5;124mS\u001b[39m\u001b[38;5;132;01m%.3d\u001b[39;00m\u001b[38;5;124m/S\u001b[39m\u001b[38;5;132;01m%.3d\u001b[39;00m\u001b[38;5;124m acoustic.pickle\u001b[39m\u001b[38;5;124m'\u001b[39m\u001b[38;5;241m%\u001b[39m(Subj, Subj)))\n\u001b[0;32m----> 3\u001b[0m p \u001b[38;5;241m=\u001b[39m \u001b[43meelbrain\u001b[49m\u001b[38;5;241;43m.\u001b[39;49m\u001b[43mplot\u001b[49m\u001b[38;5;241;43m.\u001b[39;49m\u001b[43mTopoButterfly\u001b[49m\u001b[43m(\u001b[49m\u001b[43mres\u001b[49m\u001b[38;5;241;43m.\u001b[39;49m\u001b[43mh\u001b[49m\u001b[43m[\u001b[49m\u001b[38;5;241;43m0\u001b[39;49m\u001b[43m]\u001b[49m\u001b[43m,\u001b[49m\u001b[43m \u001b[49m\u001b[43mw\u001b[49m\u001b[38;5;241;43m=\u001b[39;49m\u001b[38;5;241;43m10\u001b[39;49m\u001b[43m,\u001b[49m\u001b[43m \u001b[49m\u001b[43mh\u001b[49m\u001b[38;5;241;43m=\u001b[39;49m\u001b[38;5;241;43m4\u001b[39;49m\u001b[43m)\u001b[49m\n\u001b[1;32m      4\u001b[0m p\u001b[38;5;241m.\u001b[39mset_time(\u001b[38;5;241m.180\u001b[39m)\n",
      "File \u001b[0;32m/Applications/anaconda3/envs/eelbrain_0_36/lib/python3.10/site-packages/eelbrain/plot/_topo.py:491\u001b[0m, in \u001b[0;36mTopoButterfly.__init__\u001b[0;34m(self, y, xax, ds, sub, vmax, vmin, cmap, contours, color, linewidth, t, proj, res, interpolation, clip, clip_distance, head_radius, head_pos, im_interpolation, sensors, sensorlabels, mark, mcolor, xlabel, ylabel, xticklabels, yticklabels, axtitle, frame, xlim, **kwargs)\u001b[0m\n\u001b[1;32m    454\u001b[0m \u001b[38;5;28;01mdef\u001b[39;00m \u001b[38;5;21m__init__\u001b[39m(\n\u001b[1;32m    455\u001b[0m         \u001b[38;5;28mself\u001b[39m,\n\u001b[1;32m    456\u001b[0m         y: Union[NDVarArg, Sequence[NDVarArg]],\n\u001b[0;32m   (...)\u001b[0m\n\u001b[1;32m    489\u001b[0m         \u001b[38;5;241m*\u001b[39m\u001b[38;5;241m*\u001b[39mkwargs,\n\u001b[1;32m    490\u001b[0m ):\n\u001b[0;32m--> 491\u001b[0m     data \u001b[38;5;241m=\u001b[39m \u001b[43mPlotData\u001b[49m\u001b[38;5;241;43m.\u001b[39;49m\u001b[43mfrom_args\u001b[49m\u001b[43m(\u001b[49m\u001b[43my\u001b[49m\u001b[43m,\u001b[49m\u001b[43m \u001b[49m\u001b[43m(\u001b[49m\u001b[38;5;124;43m'\u001b[39;49m\u001b[38;5;124;43msensor\u001b[39;49m\u001b[38;5;124;43m'\u001b[39;49m\u001b[43m,\u001b[49m\u001b[43m \u001b[49m\u001b[38;5;28;43;01mNone\u001b[39;49;00m\u001b[43m)\u001b[49m\u001b[43m,\u001b[49m\u001b[43m \u001b[49m\u001b[43mxax\u001b[49m\u001b[43m,\u001b[49m\u001b[43m \u001b[49m\u001b[43mds\u001b[49m\u001b[43m,\u001b[49m\u001b[43m \u001b[49m\u001b[43msub\u001b[49m\u001b[43m)\u001b[49m\n\u001b[1;32m    492\u001b[0m     data\u001b[38;5;241m.\u001b[39m_cannot_skip_axes(\u001b[38;5;28mself\u001b[39m)\n\u001b[1;32m    493\u001b[0m     xdim \u001b[38;5;241m=\u001b[39m data\u001b[38;5;241m.\u001b[39mdims[\u001b[38;5;241m1\u001b[39m]\n",
      "File \u001b[0;32m/Applications/anaconda3/envs/eelbrain_0_36/lib/python3.10/site-packages/eelbrain/plot/_base.py:1166\u001b[0m, in \u001b[0;36mPlotData.from_args\u001b[0;34m(cls, y, dims, xax, ds, sub)\u001b[0m\n\u001b[1;32m   1164\u001b[0m \u001b[38;5;28;01melif\u001b[39;00m \u001b[38;5;28misinstance\u001b[39m(ax, NDVarTypes):\n\u001b[1;32m   1165\u001b[0m     ax \u001b[38;5;241m=\u001b[39m asndvar(ax, sub, ds)\n\u001b[0;32m-> 1166\u001b[0m     agg, dims \u001b[38;5;241m=\u001b[39m \u001b[43mfind_data_dims\u001b[49m\u001b[43m(\u001b[49m\u001b[43max\u001b[49m\u001b[43m,\u001b[49m\u001b[43m \u001b[49m\u001b[43mdims\u001b[49m\u001b[43m)\u001b[49m\n\u001b[1;32m   1167\u001b[0m     layer \u001b[38;5;241m=\u001b[39m aggregate(ax, agg)\n\u001b[1;32m   1168\u001b[0m     axes\u001b[38;5;241m.\u001b[39mappend([layer])\n",
      "File \u001b[0;32m/Applications/anaconda3/envs/eelbrain_0_36/lib/python3.10/site-packages/eelbrain/plot/_base.py:646\u001b[0m, in \u001b[0;36mfind_data_dims\u001b[0;34m(ndvar, dims, extra_dim)\u001b[0m\n\u001b[1;32m    644\u001b[0m         agg \u001b[38;5;241m=\u001b[39m \u001b[38;5;124m'\u001b[39m\u001b[38;5;124mcase\u001b[39m\u001b[38;5;124m'\u001b[39m\n\u001b[1;32m    645\u001b[0m     \u001b[38;5;28;01melse\u001b[39;00m:\n\u001b[0;32m--> 646\u001b[0m         \u001b[38;5;28;01mraise\u001b[39;00m \u001b[38;5;167;01mValueError\u001b[39;00m(\u001b[38;5;124mf\u001b[39m\u001b[38;5;124m\"\u001b[39m\u001b[38;5;124my=\u001b[39m\u001b[38;5;132;01m{\u001b[39;00mndvar\u001b[38;5;132;01m}\u001b[39;00m\u001b[38;5;124m is ambiguous for required dimensions \u001b[39m\u001b[38;5;132;01m{\u001b[39;00mrequired_dims\u001b[38;5;132;01m}\u001b[39;00m\u001b[38;5;124m\"\u001b[39m)\n\u001b[1;32m    647\u001b[0m \u001b[38;5;28;01melse\u001b[39;00m:\n\u001b[1;32m    648\u001b[0m     agg \u001b[38;5;241m=\u001b[39m \u001b[38;5;28;01mNone\u001b[39;00m\n",
      "\u001b[0;31mValueError\u001b[0m: y=<NDVar 'gammatone': 57 sensor, 8 frequency, 114 time> is ambiguous for required dimensions ('sensor', None)"
     ]
    }
   ],
   "source": [
    "subj = 2\n",
    "\"\"\"\n",
    "subject_nSTR_p = \"n_S%.3d_ICAed_raw.fif\" %subj\n",
    "\n",
    "raw = mne.io.read_raw_fif(EEG_DIR / f'{subject_nSTR_p}', preload=True)\n",
    "\n",
    "montage_x = eelbrain.load.fiff.sensor_dim(raw.info)\n",
    "#temp_data = eeg_.T *1e+6\n",
    "            eeg_concatenated = eelbrain.NDVar(temp_data, (time, montage_x), name='EEG', info={'unit': 'µV'})\n",
    "\"\"\"\n",
    "\n",
    "res = eelbrain.load.unpickle(TRF_DIR / Path('S%.3d/S%.3d acoustic.pickle'%(Subj, Subj)))\n",
    "p = eelbrain.plot.TopoButterfly('eeg', res.h[0], w=10, h=4)\n",
    "p.set_time(.180)"
   ]
  },
  {
   "cell_type": "code",
   "execution_count": null,
   "id": "21e9ae51",
   "metadata": {},
   "outputs": [],
   "source": []
  }
 ],
 "metadata": {
  "kernelspec": {
   "display_name": "Python 3 (ipykernel)",
   "language": "python",
   "name": "python3"
  },
  "language_info": {
   "codemirror_mode": {
    "name": "ipython",
    "version": 3
   },
   "file_extension": ".py",
   "mimetype": "text/x-python",
   "name": "python",
   "nbconvert_exporter": "python",
   "pygments_lexer": "ipython3",
   "version": "3.10.6"
  }
 },
 "nbformat": 4,
 "nbformat_minor": 5
}
