{
 "cells": [
  {
   "cell_type": "code",
   "execution_count": 3,
   "id": "61896eaa",
   "metadata": {},
   "outputs": [],
   "source": [
    "%matplotlib inline"
   ]
  },
  {
   "cell_type": "code",
   "execution_count": 55,
   "id": "75a01863",
   "metadata": {},
   "outputs": [],
   "source": [
    "from pathlib import Path\n",
    "import re\n",
    "import matplotlib.pyplot as plt\n",
    "import eelbrain\n",
    "import mne\n",
    "import trftools\n",
    "\n",
    "import numpy as np"
   ]
  },
  {
   "cell_type": "code",
   "execution_count": 60,
   "id": "3e9aeb55",
   "metadata": {},
   "outputs": [
    {
     "name": "stdout",
     "output_type": "stream",
     "text": [
      "['n_S001_ICAed_raw.fif', 'n_S002_ICAed_raw.fif', 'n_S003_ICAed_raw.fif', 'n_S004_ICAed_raw.fif', 'n_S005_ICAed_raw.fif', 'n_S006_ICAed_raw.fif', 'n_S008_ICAed_raw.fif', 'n_S007_ICAed_raw.fif']\n"
     ]
    }
   ],
   "source": [
    "## ESLs ##\n",
    "\n",
    "#STIMULI = [str(i) for i in range(1, 13)]\n",
    "DATA_ROOT = Path(\"/Volumes/Neurolang_1/Master Program/New_Thesis_topic/Experiments_Results\")  #Path(\"~\").expanduser() / 'Data' / 'Alice'\n",
    "#PREDICTOR_audio_DIR = DATA_ROOT / 'TRFs_pridictors/audio_predictors'\n",
    "#PREDICTOR_word_DIR = DATA_ROOT / 'TRFs_pridictors/word_predictors'\n",
    "EEG_DIR = DATA_ROOT / 'EEG_ESLs' / 'Alice_ESL_ICAed_fif'\n",
    "ESL_SUBJECTS = [path.name for path in EEG_DIR.iterdir() if re.match(r'n_S\\d*', path.name)]  #S01_alice-raw.fif\n",
    "# Define a target directory for TRF estimates and make sure the directory is created\n",
    "TRF_DIR = DATA_ROOT / 'TRFs_ESLs'\n",
    "TRF_DIR.mkdir(exist_ok=True)\n",
    "print(ESL_SUBJECTS)"
   ]
  },
  {
   "cell_type": "code",
   "execution_count": 96,
   "id": "2777e66c",
   "metadata": {},
   "outputs": [
    {
     "name": "stdout",
     "output_type": "stream",
     "text": [
      "[3, <NDVar '1': 57 sensor>, <NDVar 'gammatone': 57 sensor, 8 frequency, 114 time>]\n",
      "[4, <NDVar '1': 57 sensor>, <NDVar 'gammatone': 57 sensor, 8 frequency, 114 time>]\n",
      "[5, <NDVar '1': 57 sensor>, <NDVar 'gammatone': 57 sensor, 8 frequency, 114 time>]\n",
      "[6, <NDVar '1': 57 sensor>, <NDVar 'gammatone': 57 sensor, 8 frequency, 114 time>]\n",
      "[7, <NDVar '1': 57 sensor>, <NDVar 'gammatone': 57 sensor, 8 frequency, 114 time>]\n",
      "[8, <NDVar '1': 57 sensor>, <NDVar 'gammatone': 57 sensor, 8 frequency, 114 time>]\n"
     ]
    },
    {
     "ename": "NameError",
     "evalue": "name 'rows' is not defined",
     "output_type": "error",
     "traceback": [
      "\u001b[0;31m---------------------------------------------------------------------------\u001b[0m",
      "\u001b[0;31mNameError\u001b[0m                                 Traceback (most recent call last)",
      "Cell \u001b[0;32mIn [96], line 26\u001b[0m\n\u001b[1;32m     24\u001b[0m     row \u001b[38;5;241m=\u001b[39m [subj, res\u001b[38;5;241m.\u001b[39mproportion_explained, res\u001b[38;5;241m.\u001b[39mh[\u001b[38;5;241m0\u001b[39m]]\n\u001b[1;32m     25\u001b[0m     \u001b[38;5;28mprint\u001b[39m(row)\n\u001b[0;32m---> 26\u001b[0m data_env \u001b[38;5;241m=\u001b[39m eelbrain\u001b[38;5;241m.\u001b[39mDataset\u001b[38;5;241m.\u001b[39mfrom_caselist([\u001b[38;5;124m'\u001b[39m\u001b[38;5;124msubject\u001b[39m\u001b[38;5;124m'\u001b[39m, \u001b[38;5;124m'\u001b[39m\u001b[38;5;124mdet\u001b[39m\u001b[38;5;124m'\u001b[39m, \u001b[38;5;124m'\u001b[39m\u001b[38;5;124mtrf\u001b[39m\u001b[38;5;124m'\u001b[39m], \u001b[43mrows\u001b[49m)\n\u001b[1;32m     27\u001b[0m \u001b[38;5;28mprint\u001b[39m(data_env)\n\u001b[1;32m     29\u001b[0m \u001b[38;5;124;03m\"\"\"\u001b[39;00m\n\u001b[1;32m     30\u001b[0m \u001b[38;5;124;03msensor = res.proportion_explained\u001b[39;00m\n\u001b[1;32m     31\u001b[0m \n\u001b[0;32m   (...)\u001b[0m\n\u001b[1;32m     43\u001b[0m \u001b[38;5;124;03m#p.set_time(.180)\u001b[39;00m\n\u001b[1;32m     44\u001b[0m \u001b[38;5;124;03m\"\"\"\u001b[39;00m\n",
      "\u001b[0;31mNameError\u001b[0m: name 'rows' is not defined"
     ]
    }
   ],
   "source": [
    "### For ESLs  ###\n",
    "#subj = 2\n",
    "\"\"\"\n",
    "subject_nSTR_p = \"n_S%.3d_ICAed_raw.fif\" %subj\n",
    "\n",
    "raw = mne.io.read_raw_fif(EEG_DIR / f'{subject_nSTR_p}', preload=True)\n",
    "\n",
    "montage_x = eelbrain.load.fiff.sensor_dim(raw.info)\n",
    "#temp_data = eeg_.T *1e+6\n",
    "eeg_concatenated = eelbrain.NDVar(temp_data, (time, montage_x), name='EEG', info={'unit': 'µV'})\n",
    "\n",
    "SUBJECTS = ['1', '2', '3', '4', '5', '6', '7']\n",
    "rows = []\n",
    "for subject in SUBJECTS:\n",
    "    trf = eelbrain.load.unpickle('Subj%s_TRFs_envelop_w_on.pickle'%(subject))\n",
    "    rows.append([subject, trf.proportion_explained, trf.h[0].abs()])\n",
    "    pass\n",
    "data_env = eelbrain.Dataset.from_caselist(['subject', 'det', 'trf'], rows)\n",
    "\"\"\"\n",
    "subj_sLIST = [3, 4, 5, 6, 7, 8]\n",
    "rowsLIST = []\n",
    "for subj in  subj_sLIST:\n",
    "    res = eelbrain.load.unpickle(TRF_DIR / Path('S%.3d/S%.3d acoustic.pickle'%(subj, subj)))\n",
    "    row = [subj, res.proportion_explained, res.h[0]]\n",
    "    row\n",
    "    print(row)\n",
    "data_env = eelbrain.Dataset.from_caselist(['subject', 'det', 'trf'], rows)\n",
    "print(data_env)\n",
    "\n",
    "\"\"\"\n",
    "sensor = res.proportion_explained\n",
    "\n",
    "sensor_plot = eelbrain.plot.SensorMap(res.h[0]) # plot all the channels\n",
    "topomap_plot = eelbrain.plot.Topomap(res.h[0], w=10, h=4)\n",
    "print(res.h[0])\n",
    "\n",
    "\n",
    "#p = eelbrain.plot.Topomap(res.h[0]('sensor',)) #,sensors=sensor, w=6, h=5)\n",
    "\n",
    "#print(type(res.h[0]))\n",
    "#timeINT = res.h[0].shape[2]\n",
    "#print(type(time))\n",
    "#p = eelbrain.plot.TopoButterfly(res[0], w=10, h=4)\n",
    "#p.set_time(.180)\n",
    "\"\"\""
   ]
  },
  {
   "cell_type": "code",
   "execution_count": 18,
   "id": "7cc6b983",
   "metadata": {},
   "outputs": [
    {
     "name": "stdout",
     "output_type": "stream",
     "text": [
      "['S13_Alice-natives_sfreq-100_raw.fif', 'S14_Alice-natives_sfreq-100_raw.fif', 'S12_Alice-natives_sfreq-100_raw.fif', 'S15_Alice-natives_sfreq-100_raw.fif', 'S11_Alice-natives_sfreq-100_raw.fif', 'S16_Alice-natives_sfreq-100_raw.fif', 'S17_Alice-natives_sfreq-100_raw.fif', 'S18_Alice-natives_sfreq-100_raw.fif', 'S19_Alice-natives_sfreq-100_raw.fif', 'S20_Alice-natives_sfreq-100_raw.fif', 'S21_Alice-natives_sfreq-100_raw.fif', 'S01_Alice-natives_sfreq-100_raw.fif', 'S03_Alice-natives_sfreq-100_raw.fif', 'S04_Alice-natives_sfreq-100_raw.fif', 'S05_Alice-natives_sfreq-100_raw.fif', 'S06_Alice-natives_sfreq-100_raw.fif', 'S08_Alice-natives_sfreq-100_raw.fif', 'S10_Alice-natives_sfreq-100_raw.fif', 'S22_Alice-natives_sfreq-100_raw.fif', 'S25_Alice-natives_sfreq-100_raw.fif', 'S26_Alice-natives_sfreq-100_raw.fif', 'S34_Alice-natives_sfreq-100_raw.fif', 'S35_Alice-natives_sfreq-100_raw.fif', 'S36_Alice-natives_sfreq-100_raw.fif', 'S37_Alice-natives_sfreq-100_raw.fif', 'S38_Alice-natives_sfreq-100_raw.fif', 'S39_Alice-natives_sfreq-100_raw.fif', 'S40_Alice-natives_sfreq-100_raw.fif', 'S41_Alice-natives_sfreq-100_raw.fif', 'S42_Alice-natives_sfreq-100_raw.fif', 'S44_Alice-natives_sfreq-100_raw.fif', 'S45_Alice-natives_sfreq-100_raw.fif', 'S48_Alice-natives_sfreq-100_raw.fif']\n"
     ]
    }
   ],
   "source": [
    "## NATIVES ##\n",
    "\n",
    "STIMULI = [str(i) for i in range(1, 13)]\n",
    "DATA_ROOT = Path(\"/Volumes/Neurolang_1/Master Program/New_Thesis_topic/Experiments_Results\")  #Path(\"~\").expanduser() / 'Data' / 'Alice'\n",
    "PREDICTOR_audio_DIR = DATA_ROOT / 'TRFs_pridictors/audio_predictors'\n",
    "PREDICTOR_word_DIR = DATA_ROOT / 'TRFs_pridictors/word_predictors'\n",
    "EEG_DIR = DATA_ROOT / 'EEG_Natives' / 'Alice_natives_ICAed_fif'\n",
    "Native_SUBJECTS = [path.name for path in EEG_DIR.iterdir() if re.match(r'S\\d*', path.name)]\n",
    "# Define a target directory for TRF estimates and make sure the directory is created\n",
    "TRF_DIR = DATA_ROOT / 'TRFs_Natives'\n",
    "TRF_DIR.mkdir(exist_ok=True)\n",
    "print(Native_SUBJECTS)"
   ]
  },
  {
   "cell_type": "code",
   "execution_count": 69,
   "id": "73b04f0c",
   "metadata": {},
   "outputs": [
    {
     "ename": "FileNotFoundError",
     "evalue": "[Errno 2] No such file or directory: '/Volumes/Neurolang_1/Master Program/New_Thesis_topic/Experiments_Results/TRFs_ESLs/S01_Alice-natives_sfreq-100_raw.fif/S01_Alice-natives_sfreq-100_raw.fif acoustic.pickle'",
     "output_type": "error",
     "traceback": [
      "\u001b[0;31m---------------------------------------------------------------------------\u001b[0m",
      "\u001b[0;31mFileNotFoundError\u001b[0m                         Traceback (most recent call last)",
      "Cell \u001b[0;32mIn [69], line 3\u001b[0m\n\u001b[1;32m      1\u001b[0m subj \u001b[38;5;241m=\u001b[39m \u001b[38;5;241m1\u001b[39m\n\u001b[0;32m----> 3\u001b[0m trf \u001b[38;5;241m=\u001b[39m \u001b[43meelbrain\u001b[49m\u001b[38;5;241;43m.\u001b[39;49m\u001b[43mload\u001b[49m\u001b[38;5;241;43m.\u001b[39;49m\u001b[43munpickle\u001b[49m\u001b[43m(\u001b[49m\u001b[43mTRF_DIR\u001b[49m\u001b[43m \u001b[49m\u001b[38;5;241;43m/\u001b[39;49m\u001b[43m \u001b[49m\u001b[43mPath\u001b[49m\u001b[43m(\u001b[49m\u001b[38;5;124;43m'\u001b[39;49m\u001b[38;5;124;43mS\u001b[39;49m\u001b[38;5;132;43;01m%.2d\u001b[39;49;00m\u001b[38;5;124;43m_Alice-natives_sfreq-100_raw.fif/S\u001b[39;49m\u001b[38;5;132;43;01m%.2d\u001b[39;49;00m\u001b[38;5;124;43m_Alice-natives_sfreq-100_raw.fif acoustic.pickle\u001b[39;49m\u001b[38;5;124;43m'\u001b[39;49m\u001b[38;5;241;43m%\u001b[39;49m\u001b[43m(\u001b[49m\u001b[43msubj\u001b[49m\u001b[43m,\u001b[49m\u001b[43m \u001b[49m\u001b[43msubj\u001b[49m\u001b[43m)\u001b[49m\u001b[43m)\u001b[49m\u001b[43m)\u001b[49m\n\u001b[1;32m      4\u001b[0m trf_sensor \u001b[38;5;241m=\u001b[39m trf\u001b[38;5;241m.\u001b[39mproportion_explained\n\u001b[1;32m      5\u001b[0m \u001b[38;5;28mprint\u001b[39m(trf_sensor)\n",
      "File \u001b[0;32m/Applications/anaconda3/envs/eelbrain_0_36/lib/python3.10/site-packages/eelbrain/_io/pickle.py:126\u001b[0m, in \u001b[0;36munpickle\u001b[0;34m(path)\u001b[0m\n\u001b[1;32m    123\u001b[0m                 path \u001b[38;5;241m=\u001b[39m new_path\n\u001b[1;32m    124\u001b[0m                 \u001b[38;5;28;01mbreak\u001b[39;00m\n\u001b[0;32m--> 126\u001b[0m \u001b[38;5;28;01mwith\u001b[39;00m \u001b[38;5;28;43mopen\u001b[39;49m\u001b[43m(\u001b[49m\u001b[43mpath\u001b[49m\u001b[43m,\u001b[49m\u001b[43m \u001b[49m\u001b[38;5;124;43m'\u001b[39;49m\u001b[38;5;124;43mrb\u001b[39;49m\u001b[38;5;124;43m'\u001b[39;49m\u001b[43m)\u001b[49m \u001b[38;5;28;01mas\u001b[39;00m fid:\n\u001b[1;32m    127\u001b[0m     unpickler \u001b[38;5;241m=\u001b[39m EelUnpickler(fid, encoding\u001b[38;5;241m=\u001b[39m\u001b[38;5;124m'\u001b[39m\u001b[38;5;124mlatin1\u001b[39m\u001b[38;5;124m'\u001b[39m)\n\u001b[1;32m    128\u001b[0m     \u001b[38;5;28;01mtry\u001b[39;00m:\n",
      "\u001b[0;31mFileNotFoundError\u001b[0m: [Errno 2] No such file or directory: '/Volumes/Neurolang_1/Master Program/New_Thesis_topic/Experiments_Results/TRFs_ESLs/S01_Alice-natives_sfreq-100_raw.fif/S01_Alice-natives_sfreq-100_raw.fif acoustic.pickle'"
     ]
    }
   ],
   "source": [
    "subj = 1\n",
    "\n",
    "trf = eelbrain.load.unpickle(TRF_DIR / Path('S%.2d_Alice-natives_sfreq-100_raw.fif/S%.2d_Alice-natives_sfreq-100_raw.fif acoustic.pickle'%(subj, subj)))\n",
    "trf_sensor = trf.proportion_explained\n",
    "print(trf_sensor)\n",
    "print(trf.h[0].shape)\n",
    "\n",
    "#print(type(trf.h))\n",
    "#plt.plot(trf.h[:,0,:])\n",
    "p = eelbrain.plot.TopoButterfly(trf.h[0], w=6, h=5)\n",
    "\n",
    "#p = eelbrain.plot.TopoButterfly(trf.h[0], w=10, h=4, sensors=trf_sensor)\n",
    "#p.set_time(.180)"
   ]
  },
  {
   "cell_type": "code",
   "execution_count": null,
   "id": "63e14314",
   "metadata": {},
   "outputs": [],
   "source": []
  }
 ],
 "metadata": {
  "kernelspec": {
   "display_name": "Python 3 (ipykernel)",
   "language": "python",
   "name": "python3"
  },
  "language_info": {
   "codemirror_mode": {
    "name": "ipython",
    "version": 3
   },
   "file_extension": ".py",
   "mimetype": "text/x-python",
   "name": "python",
   "nbconvert_exporter": "python",
   "pygments_lexer": "ipython3",
   "version": "3.10.6"
  }
 },
 "nbformat": 4,
 "nbformat_minor": 5
}
