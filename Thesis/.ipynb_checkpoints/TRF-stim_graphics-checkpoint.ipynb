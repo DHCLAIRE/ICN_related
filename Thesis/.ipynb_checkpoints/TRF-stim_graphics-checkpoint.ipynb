{
 "cells": [
  {
   "cell_type": "code",
   "execution_count": 1,
   "id": "ac2b1e6b-16c6-4e82-ae42-3d356780e4dd",
   "metadata": {},
   "outputs": [
    {
     "name": "stdout",
     "output_type": "stream",
     "text": [
      "Using matplotlib backend: <object object at 0x11314ae60>\n"
     ]
    }
   ],
   "source": [
    "%matplotlib"
   ]
  },
  {
   "cell_type": "code",
   "execution_count": 3,
   "id": "26cfbf76-bb9b-483a-bfeb-9ce3633e1778",
   "metadata": {},
   "outputs": [],
   "source": [
    "import os\n",
    "\n",
    "from scipy.io import loadmat\n",
    "import mne\n",
    "#from eelbrain import *\n",
    "\n",
    "from pathlib import Path\n",
    "import re\n",
    "\n",
    "import eelbrain"
   ]
  },
  {
   "cell_type": "markdown",
   "id": "5de11a97-be10-480b-9dc5-c9d91cc69603",
   "metadata": {},
   "source": [
    "## Construct a 10 s long stimulus\n",
    "time = UTS(0, 0.01, 1000)\n",
    "x = NDVar(np.zeros(len(time)), time)\n",
    "# add a few impulses\n",
    "x[1] = 1\n",
    "x[3] = 1\n",
    "x[5] = 1\n",
    "\n",
    "# Construct a TRF of length 500 ms\n",
    "trf_time = UTS(0, 0.01, 50)\n",
    "trf = gaussian(0.200, 0.050, trf_time) - gaussian(0.300, 0.050, trf_time)\n",
    "\n",
    "# The response is the convolution of the stimulus with the TRF\n",
    "y = convolve(trf, x)\n",
    "\n",
    "# Then plot every graph together\n",
    "plot_args = dict(columns=1, axh=2, w=10, frame='t', legend=False, colors='r')\n",
    "p = plot.UTS([x, trf, y], ylabel=['Stimulus (x)', 'TRF', 'Response (y)'], **plot_args)\n",
    "\n",
    "\n",
    "##### Reference Source: https://eelbrain.readthedocs.io/en/stable/auto_examples/temporal-response-functions/trf_intro.html#sphx-glr-auto-examples-temporal-response-functions-trf-intro-py"
   ]
  },
  {
   "cell_type": "code",
   "execution_count": 6,
   "id": "99f7e0e7-ab23-433d-92a4-3bfcc2b4728d",
   "metadata": {},
   "outputs": [
    {
     "data": {
      "text/plain": [
       "\"\\n# For TRF (Excluded)\\nEEG_DIR = DATA_ROOT / 'EEG_Natives' / 'Alice_natives_ICAed_fif'\\nSUBJECTS = [path.name for path in EEG_DIR.iterdir() if re.match(r'S\\\\d*', path.name[:4])]\\n# Define a target directory for TRF estimates and make sure the directory is created\\nTRF_DIR = DATA_ROOT / 'TRFs_Natives'\\nTRF_DIR.mkdir(exist_ok=True)\\nprint(SUBJECTS)\\nprint(len(SUBJECTS))\\n\""
      ]
     },
     "execution_count": 6,
     "metadata": {},
     "output_type": "execute_result"
    }
   ],
   "source": [
    "# Load in the stim files\n",
    "STIMULI = [str(i) for i in range(1, 13)]\n",
    "DATA_ROOT = Path(\"/Users/neuroling/Downloads/DINGHSIN_Results/Alice_Experiments_Results\") #Path(\"/Volumes/Neurolang_1/Master Program/New_Thesis_topic/Experiments_Results\")  #Path(\"~\").expanduser() / 'Data' / 'Alice'\n",
    "PREDICTOR_audio_DIR = DATA_ROOT / 'TRFs_pridictors/audio_predictors'\n",
    "PREDICTOR_word_DIR = DATA_ROOT / 'TRFs_pridictors/word_predictors'\n",
    "IMF_DIR = DATA_ROOT/ \"TRFs_pridictors/IF_predictors\"\n",
    "F0_DIR = DATA_ROOT/ \"TRFs_pridictors/F0_predictors\"\n",
    "IMFsLIST = [path.name for path in IMF_DIR.iterdir() if re.match(r'Alice_IF_IMF_*', path.name)]\n",
    "\n",
    "\"\"\"\n",
    "# For TRF (Excluded)\n",
    "EEG_DIR = DATA_ROOT / 'EEG_Natives' / 'Alice_natives_ICAed_fif'\n",
    "SUBJECTS = [path.name for path in EEG_DIR.iterdir() if re.match(r'S\\d*', path.name[:4])]\n",
    "# Define a target directory for TRF estimates and make sure the directory is created\n",
    "TRF_DIR = DATA_ROOT / 'TRFs_Natives'\n",
    "TRF_DIR.mkdir(exist_ok=True)\n",
    "print(SUBJECTS)\n",
    "print(len(SUBJECTS))\n",
    "\"\"\""
   ]
  },
  {
   "cell_type": "code",
   "execution_count": 7,
   "id": "c6ac4592-01d4-4f7c-83b8-f5e762494695",
   "metadata": {},
   "outputs": [],
   "source": [
    "# Acoustics: Envelope & Envelope Onset (from gammatone) & IF (from envelope)\n",
    "\n",
    "# Load stimuli\n",
    "# ------------\n",
    "# Make sure to name the stimuli so that the TRFs can later be distinguished\n",
    "# Load the gammatone-spectrograms; use the time axis of these as reference\n",
    "gammatone = [eelbrain.load.unpickle(PREDICTOR_audio_DIR / f'{stimulus}~gammatone-8.pickle') for stimulus in STIMULI]\n",
    "\n",
    "# Resample the spectrograms to 100 Hz (time-step = 0.01 s), which we will use for TRFs\n",
    "gammatone = [x.bin(0.01, dim='time', label='start') for x in gammatone]\n",
    "\n",
    "# Pad onset with 100 ms and offset with 1 second; make sure to give the predictor a unique name as that will make it easier to identify the TRF later\n",
    "gammatone = [eelbrain.pad(x, tstart=-0.100, tstop=x.time.tstop + 1, name='gammatone') for x in gammatone]\n",
    "\n",
    "# Load the broad-band envelope and process it in the same way\n",
    "envelope = [eelbrain.load.unpickle(PREDICTOR_audio_DIR / f'{stimulus}~gammatone-1.pickle') for stimulus in STIMULI]  # Load in the data\n",
    "envelope = [x.bin(0.01, dim='time', label='start') for x in envelope]\n",
    "envelope = [eelbrain.pad(x, tstart=-0.100, tstop=x.time.tstop + 1, name='envelope') for x in envelope]\n",
    "onset_envelope = [eelbrain.load.unpickle(PREDICTOR_audio_DIR / f'{stimulus}~gammatone-on-1.pickle') for stimulus in STIMULI]\n",
    "onset_envelope = [x.bin(0.01, dim='time', label='start') for x in onset_envelope]\n",
    "onset_envelope = [eelbrain.pad(x, tstart=-0.100, tstop=x.time.tstop + 1, name='onset') for x in onset_envelope]\n",
    "\n",
    "# Load onset spectrograms and make sure the time dimension is equal to the gammatone spectrograms\n",
    "gammatone_onsets = [eelbrain.load.unpickle(PREDICTOR_audio_DIR / f'{stimulus}~gammatone-on-8.pickle') for stimulus in STIMULI]\n",
    "gammatone_onsets = [x.bin(0.01, dim='time', label='start') for x in gammatone_onsets]\n",
    "gammatone_onsets = [eelbrain.set_time(x, gt.time, name='gammatone_on') for x, gt in zip(gammatone_onsets, gammatone)]\n",
    "\n",
    "\n",
    "# Extract the duration of the stimuli, so we can later match the EEG to the stimuli\n",
    "durations = [gt.time.tmax for stimulus, gt in zip(STIMULI, gammatone)]\n",
    "\n",
    "\n",
    "# Get the calculated IMFs\n",
    "# IMFsLIST : ['Alice_IF_IMF_6.pickle', 'Alice_IF_IMF_4.pickle', 'Alice_IF_IMF_2.pickle', 'Alice_IF_IMF_5.pickle', 'Alice_IF_IMF_1.pickle', 'Alice_IF_IMF_3.pickle']\n",
    "imf1 = eelbrain.load.unpickle(IMF_DIR / IMFsLIST[4])  # old: IMFsLIST[0] = Alice_IF_IMF_6.pickle\n",
    "imf2 = eelbrain.load.unpickle(IMF_DIR / IMFsLIST[2])  # old: IMFsLIST[1] = Alice_IF_IMF_4.pickle\n",
    "imf3 = eelbrain.load.unpickle(IMF_DIR / IMFsLIST[5])  # old: IMFsLIST[2] = Alice_IF_IMF_2.pickle\n",
    "imf4 = eelbrain.load.unpickle(IMF_DIR / IMFsLIST[1])  # old: IMFsLIST[3] = Alice_IF_IMF_5.pickle\n",
    "imf5 = eelbrain.load.unpickle(IMF_DIR / IMFsLIST[3])  # old: IMFsLIST[4] = Alice_IF_IMF_1.pickle\n",
    "imf6 = eelbrain.load.unpickle(IMF_DIR / IMFsLIST[0])  # old: IMFsLIST[5] = Alice_IF_IMF_3.pickle"
   ]
  },
  {
   "cell_type": "code",
   "execution_count": 8,
   "id": "11957219-7da2-4fcb-bd39-50907fd400a9",
   "metadata": {},
   "outputs": [],
   "source": [
    "# Linguistics: Function words(1) & Content words (0) // Ngram & CFG surprisal (from log)\n",
    "\n",
    "# Load word tables and convert tables into continuous time-series with matching time dimension\n",
    "word_tables = [eelbrain.load.unpickle(PREDICTOR_word_DIR / f'{stimulus}~Ngram-CFG_word.pickle') for stimulus in STIMULI]\n",
    "word_onsets = [eelbrain.event_impulse_predictor(gt.time, ds=ds, name='word') for gt, ds in zip(gammatone, word_tables)] # not sure why they could get the word onset this way\n",
    "\n",
    "# Function and content word impulses based on the boolean variables in the word-tables\n",
    "word_lexical = [eelbrain.event_impulse_predictor(gt.time, value='lexical', ds=ds, name='lexical') for gt, ds in zip(gammatone, word_tables)]\n",
    "word_nlexical = [eelbrain.event_impulse_predictor(gt.time, value='nlexical', ds=ds, name='non_lexical') for gt, ds in zip(gammatone, word_tables)]\n",
    "\n",
    "# NGRAM/CFG word impulses based on the values in the word-tables\n",
    "word_Ngram = [eelbrain.event_impulse_predictor(gt.time, value='NGRAM', ds=ds, name='n-gram') for gt, ds in zip(gammatone, word_tables)]\n",
    "word_CFG = [eelbrain.event_impulse_predictor(gt.time, value='CFG', ds=ds, name='cfg') for gt, ds in zip(gammatone, word_tables)]\n",
    "\n",
    "# Extract the duration of the stimuli, so we can later match the EEG to the stimuli\n",
    "durations = [gt.time.tmax for stimulus, gt in zip(STIMULI, gammatone)]"
   ]
  },
  {
   "cell_type": "code",
   "execution_count": 13,
   "id": "4a0c149d-9d13-4f15-8798-def47e7abf7a",
   "metadata": {},
   "outputs": [
    {
     "name": "stdout",
     "output_type": "stream",
     "text": [
      "Starting GUI. Quit the Python application to return to the shell...\n"
     ]
    },
    {
     "name": "stderr",
     "output_type": "stream",
     "text": [
      "2025-03-18 09:39:21.981 python[9639:7314218] Warning: The declared constraints for <NSToolbarItemViewer: 0x7fcfed744640 '105553129403392'> were previously invalidated only because a declared constraint was snipped or manually deactivated. This indicates missing invalidation for a view's changing state that affects its declared constraints. To debug, set a breakpoint on `_NSViewRemovedDeclaredConstraintBreakpoint`\n"
     ]
    },
    {
     "ename": "AttributeError",
     "evalue": "'NoneType' object has no attribute 'store_canvas'",
     "output_type": "error",
     "traceback": [
      "\u001b[0;31m---------------------------------------------------------------------------\u001b[0m",
      "\u001b[0;31mAttributeError\u001b[0m                            Traceback (most recent call last)",
      "Cell \u001b[0;32mIn[13], line 2\u001b[0m\n\u001b[1;32m      1\u001b[0m \u001b[38;5;66;03m#p_word_onset = plot.UTS(word_onsets, ylabel='word_onsets') #, **plot_args)\u001b[39;00m\n\u001b[0;32m----> 2\u001b[0m p_func \u001b[38;5;241m=\u001b[39m \u001b[43mplot\u001b[49m\u001b[38;5;241;43m.\u001b[39;49m\u001b[43mUTS\u001b[49m\u001b[43m(\u001b[49m\u001b[43mword_lexical\u001b[49m\u001b[43m,\u001b[49m\u001b[43m \u001b[49m\u001b[43mylabel\u001b[49m\u001b[38;5;241;43m=\u001b[39;49m\u001b[38;5;124;43m'\u001b[39;49m\u001b[38;5;124;43mFunction words\u001b[39;49m\u001b[38;5;124;43m'\u001b[39;49m\u001b[43m)\u001b[49m \u001b[38;5;66;03m#, **plot_args)\u001b[39;00m\n\u001b[1;32m      3\u001b[0m p_con \u001b[38;5;241m=\u001b[39m plot\u001b[38;5;241m.\u001b[39mUTS(word_nlexical, ylabel\u001b[38;5;241m=\u001b[39m\u001b[38;5;124m'\u001b[39m\u001b[38;5;124mContent Words\u001b[39m\u001b[38;5;124m'\u001b[39m) \u001b[38;5;66;03m#, **plot_args)\u001b[39;00m\n",
      "File \u001b[0;32m~/anaconda3/envs/eelbrain/lib/python3.11/site-packages/eelbrain/_utils/basic.py:166\u001b[0m, in \u001b[0;36mdeprecate_ds_arg.<locals>.new\u001b[0;34m(ds, *args, **kwargs)\u001b[0m\n\u001b[1;32m    164\u001b[0m     warn(\u001b[38;5;124m\"\u001b[39m\u001b[38;5;124mThe `ds` argument has been renamed to `data`. `ds` will stop working in Eelbrain 0.41.\u001b[39m\u001b[38;5;124m\"\u001b[39m, \u001b[38;5;167;01mDeprecationWarning\u001b[39;00m)\n\u001b[1;32m    165\u001b[0m     kwargs[\u001b[38;5;124m'\u001b[39m\u001b[38;5;124mdata\u001b[39m\u001b[38;5;124m'\u001b[39m] \u001b[38;5;241m=\u001b[39m ds\n\u001b[0;32m--> 166\u001b[0m \u001b[38;5;28;01mreturn\u001b[39;00m \u001b[43mfunc\u001b[49m\u001b[43m(\u001b[49m\u001b[38;5;241;43m*\u001b[39;49m\u001b[43margs\u001b[49m\u001b[43m,\u001b[49m\u001b[43m \u001b[49m\u001b[38;5;241;43m*\u001b[39;49m\u001b[38;5;241;43m*\u001b[39;49m\u001b[43mkwargs\u001b[49m\u001b[43m)\u001b[49m\n",
      "File \u001b[0;32m~/anaconda3/envs/eelbrain/lib/python3.11/site-packages/eelbrain/plot/_uts.py:458\u001b[0m, in \u001b[0;36mUTS.__init__\u001b[0;34m(self, y, xax, axtitle, data, sub, xlabel, ylabel, xticklabels, yticklabels, bottom, top, legend, labels, xlim, clip, colors, color, stem, **kwargs)\u001b[0m\n\u001b[1;32m    456\u001b[0m LegendMixin\u001b[38;5;241m.\u001b[39m\u001b[38;5;21m__init__\u001b[39m(\u001b[38;5;28mself\u001b[39m, legend, legend_handles, labels)\n\u001b[1;32m    457\u001b[0m TimeSlicerEF\u001b[38;5;241m.\u001b[39m\u001b[38;5;21m__init__\u001b[39m(\u001b[38;5;28mself\u001b[39m, xdim, plot_data\u001b[38;5;241m.\u001b[39mtime_dim)\n\u001b[0;32m--> 458\u001b[0m \u001b[38;5;28;43mself\u001b[39;49m\u001b[38;5;241;43m.\u001b[39;49m\u001b[43m_show\u001b[49m\u001b[43m(\u001b[49m\u001b[43m)\u001b[49m\n",
      "File \u001b[0;32m~/anaconda3/envs/eelbrain/lib/python3.11/site-packages/eelbrain/plot/_base.py:1737\u001b[0m, in \u001b[0;36mEelFigure._show\u001b[0;34m(self, crosshair_axes)\u001b[0m\n\u001b[1;32m   1734\u001b[0m         run()\n\u001b[1;32m   1736\u001b[0m \u001b[38;5;28;01mif\u001b[39;00m \u001b[38;5;28mself\u001b[39m\u001b[38;5;241m.\u001b[39m_has_frame \u001b[38;5;129;01mand\u001b[39;00m \u001b[38;5;129;01mnot\u001b[39;00m \u001b[38;5;28mself\u001b[39m\u001b[38;5;241m.\u001b[39mcanvas\u001b[38;5;241m.\u001b[39m_background:\n\u001b[0;32m-> 1737\u001b[0m     \u001b[38;5;28;43mself\u001b[39;49m\u001b[38;5;241;43m.\u001b[39;49m\u001b[43m_frame\u001b[49m\u001b[38;5;241;43m.\u001b[39;49m\u001b[43mstore_canvas\u001b[49m()\n",
      "\u001b[0;31mAttributeError\u001b[0m: 'NoneType' object has no attribute 'store_canvas'"
     ]
    }
   ],
   "source": [
    "#p_word_onset = plot.UTS(word_onsets, ylabel='word_onsets') #, **plot_args)\n",
    "#p_func = plot.UTS(word_lexical, ylabel='Function words') #, **plot_args)\n",
    "p_con = plot.UTS(word_nlexical, ylabel='Content Words') #, **plot_args)"
   ]
  },
  {
   "cell_type": "markdown",
   "id": "eea36f36-eb16-4d65-8812-172eb8fe8c94",
   "metadata": {},
   "source": [
    "### (Testing) Plot each stim\n",
    "\n",
    "#### Env = Envelope\n",
    "#### Env_onset = Envelope Onset\n",
    "#### IF = IF\n",
    "#### Func = Function word\n",
    "#### Con = Content word\n",
    "#### ngram = N-gram Surprisal\n",
    "#### CFG = CFG Surprisal\n",
    "\n",
    "# Then plot every graph together\n",
    "plot_args = dict(columns=1, axh=2, w=10, frame='t', legend=False, colors='r')\n",
    "\n",
    "p = plot.UTS([x, trf, y], ylabel=['Stimulus (x)', 'TRF', 'Response (y)'], **plot_args)"
   ]
  },
  {
   "cell_type": "code",
   "execution_count": null,
   "id": "d314bf62-a8d9-4c03-bc70-a831d86c171c",
   "metadata": {},
   "outputs": [],
   "source": [
    "Env = Envelope\n",
    "####Env_onset = Envelope Onset\n",
    "####IF = IF\n",
    "####Func = Function word\n",
    "####Con = Content word\n",
    "####ngram = N-gram Surprisal\n",
    "####CFG = CFG Surprisal\n",
    "\n",
    "plot_args = dict(columns=1, axh=2, w=10, frame='t', legend=False, colors='r')\n",
    "\n",
    "p = plot.UTS([x, trf, y], ylabel=['Stimulus (x)', 'TRF', 'Response (y)'], **plot_args)"
   ]
  }
 ],
 "metadata": {
  "kernelspec": {
   "display_name": "Python 3 (ipykernel)",
   "language": "python",
   "name": "python3"
  },
  "language_info": {
   "codemirror_mode": {
    "name": "ipython",
    "version": 3
   },
   "file_extension": ".py",
   "mimetype": "text/x-python",
   "name": "python",
   "nbconvert_exporter": "python",
   "pygments_lexer": "ipython3",
   "version": "3.11.6"
  }
 },
 "nbformat": 4,
 "nbformat_minor": 5
}
