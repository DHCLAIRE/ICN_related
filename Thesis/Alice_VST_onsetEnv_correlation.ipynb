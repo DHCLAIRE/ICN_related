{
 "cells": [
  {
   "cell_type": "code",
   "execution_count": 6,
   "id": "59317c98",
   "metadata": {},
   "outputs": [],
   "source": [
    "from eelbrain import *\n",
    "import numpy as np"
   ]
  },
  {
   "cell_type": "code",
   "execution_count": 24,
   "id": "181744da",
   "metadata": {},
   "outputs": [
    {
     "ename": "TypeError",
     "evalue": "x of type unicode (dtype dtype('<U3')): Var needs numerical data type. Consider using a Datalist instead.",
     "output_type": "error",
     "traceback": [
      "\u001b[0;31m---------------------------------------------------------------------------\u001b[0m",
      "\u001b[0;31mTypeError\u001b[0m                                 Traceback (most recent call last)",
      "Cell \u001b[0;32mIn [24], line 18\u001b[0m\n\u001b[1;32m     16\u001b[0m ds \u001b[38;5;241m=\u001b[39m Dataset()\n\u001b[1;32m     17\u001b[0m ds[\u001b[38;5;124m'\u001b[39m\u001b[38;5;124msub_id\u001b[39m\u001b[38;5;124m'\u001b[39m] \u001b[38;5;241m=\u001b[39m Var(np\u001b[38;5;241m.\u001b[39masarray(VST_Score_float_LIST))\n\u001b[0;32m---> 18\u001b[0m ds[\u001b[38;5;124m'\u001b[39m\u001b[38;5;124mVST_score\u001b[39m\u001b[38;5;124m'\u001b[39m] \u001b[38;5;241m=\u001b[39m \u001b[43mVar\u001b[49m\u001b[43m(\u001b[49m\u001b[43mnp\u001b[49m\u001b[38;5;241;43m.\u001b[39;49m\u001b[43masarray\u001b[49m\u001b[43m(\u001b[49m\u001b[43mVST_ScoreLIST\u001b[49m\u001b[43m)\u001b[49m\u001b[43m)\u001b[49m\n\u001b[1;32m     19\u001b[0m ds[\u001b[38;5;124m'\u001b[39m\u001b[38;5;124mSex\u001b[39m\u001b[38;5;124m'\u001b[39m] \u001b[38;5;241m=\u001b[39m Var(np\u001b[38;5;241m.\u001b[39masarray(sub_SexLIST))\n\u001b[1;32m     21\u001b[0m \u001b[38;5;28mprint\u001b[39m(ds)\n",
      "File \u001b[0;32m/Applications/anaconda3/envs/eelbrain_0_36/lib/python3.10/site-packages/eelbrain/_data_obj.py:1340\u001b[0m, in \u001b[0;36mVar.__init__\u001b[0;34m(self, x, name, info, repeat, tile)\u001b[0m\n\u001b[1;32m   1338\u001b[0m     alt_type \u001b[38;5;241m=\u001b[39m \u001b[38;5;124m'\u001b[39m\u001b[38;5;124mFactor\u001b[39m\u001b[38;5;124m'\u001b[39m \u001b[38;5;28;01mif\u001b[39;00m x\u001b[38;5;241m.\u001b[39mdtype\u001b[38;5;241m.\u001b[39mkind \u001b[38;5;241m==\u001b[39m \u001b[38;5;124m'\u001b[39m\u001b[38;5;124mS\u001b[39m\u001b[38;5;124m'\u001b[39m \u001b[38;5;28;01melse\u001b[39;00m \u001b[38;5;124m'\u001b[39m\u001b[38;5;124mDatalist\u001b[39m\u001b[38;5;124m'\u001b[39m\n\u001b[1;32m   1339\u001b[0m     type_name \u001b[38;5;241m=\u001b[39m np\u001b[38;5;241m.\u001b[39mtypename(x\u001b[38;5;241m.\u001b[39mdtype\u001b[38;5;241m.\u001b[39mchar)\n\u001b[0;32m-> 1340\u001b[0m     \u001b[38;5;28;01mraise\u001b[39;00m \u001b[38;5;167;01mTypeError\u001b[39;00m(\u001b[38;5;124mf\u001b[39m\u001b[38;5;124m\"\u001b[39m\u001b[38;5;124mx of type \u001b[39m\u001b[38;5;132;01m{\u001b[39;00mtype_name\u001b[38;5;132;01m}\u001b[39;00m\u001b[38;5;124m (dtype \u001b[39m\u001b[38;5;132;01m{\u001b[39;00mx\u001b[38;5;241m.\u001b[39mdtype\u001b[38;5;132;01m!r}\u001b[39;00m\u001b[38;5;124m): Var needs numerical data type. Consider using a \u001b[39m\u001b[38;5;132;01m{\u001b[39;00malt_type\u001b[38;5;132;01m}\u001b[39;00m\u001b[38;5;124m instead.\u001b[39m\u001b[38;5;124m\"\u001b[39m)\n\u001b[1;32m   1341\u001b[0m \u001b[38;5;28;01melif\u001b[39;00m x\u001b[38;5;241m.\u001b[39mndim \u001b[38;5;241m>\u001b[39m \u001b[38;5;241m1\u001b[39m:\n\u001b[1;32m   1342\u001b[0m     \u001b[38;5;28;01mif\u001b[39;00m \u001b[38;5;28msum\u001b[39m(i \u001b[38;5;241m>\u001b[39m \u001b[38;5;241m1\u001b[39m \u001b[38;5;28;01mfor\u001b[39;00m i \u001b[38;5;129;01min\u001b[39;00m x\u001b[38;5;241m.\u001b[39mshape) \u001b[38;5;241m<\u001b[39m\u001b[38;5;241m=\u001b[39m \u001b[38;5;241m1\u001b[39m:\n",
      "\u001b[0;31mTypeError\u001b[0m: x of type unicode (dtype dtype('<U3')): Var needs numerical data type. Consider using a Datalist instead."
     ]
    }
   ],
   "source": [
    "# Load in the VST's score in ESLs\n",
    "\n",
    "VST_Score_STR_LIST = ['6.7', '7.3', '7.8', '8.2', '8.4', '6.4', '7.5', '6.7', '5.2', '5.3', '6.5'\n",
    "                 , '5.1', '6.1', '7.9', '8.7', '8.0', '8.8', '6.4', '7.0', '7.4', '6.6', '7.2'\n",
    "                 , '7.0', '7.3', '7.3', '7.7']  # 26 subs\n",
    "VST_Score_float_LIST = [6.7, 7.3, 7.8, 8.2, 8.4, 6.4, 7.5, 6.7\n",
    "                        , 5.2, 5.3, 6.5, 5.1, 6.1, 7.9, 8.7, 8.0\n",
    "                        , 8.8, 6.4, 7.0, 7.4, 6.6, 7.2, 7.0, 7.3, 7.3, 7.7]\n",
    "\n",
    "# exclude sub: 14 / 18 / 33 / 37\n",
    "sub_idLIST = [10, 11, 12, 13, 15, 16, 17, 19, 20, 21, 22, 23, 24, 25, 26, 27\n",
    "              , 28, 29, 30, 31, 32, 34, 35, 36, 38, 39]\n",
    "# Female = 1; Male = 2\n",
    "sub_SexLIST = [ 1, 2, 2, 1, 1, 2, 1, 2, 2, 1, 2, 1, 1, 2, 1, 2, 1, 2, 1, 2, 1, 2, 1, 2, 1, 2]\n",
    "\n",
    "ds = Dataset()\n",
    "ds['sub_id'] = Var(np.asarray(VST_Score_float_LIST))\n",
    "ds['VST_score'] = Var(np.asarray(VST_ScoreLIST))\n",
    "ds['Sex'] = Var(np.asarray(sub_SexLIST))\n",
    "\n",
    "print(ds)\n",
    "'''\n",
    "# initialize an empty Dataset:\n",
    "ds = Dataset()\n",
    "# numeric values are added as Var object:\n",
    "ds['y'] = Var(numpy.random.normal(0, 1, 6))\n",
    "# categorical data as represented in Factors:\n",
    "ds['a'] = Factor(['a', 'b', 'c'], repeat=2)\n",
    "# A variable that's equal in all cases can be assigned quickly:\n",
    "ds[:, 'z'] = 0.\n",
    "# check the result:\n",
    "ds\n",
    "'''"
   ]
  },
  {
   "cell_type": "code",
   "execution_count": 25,
   "id": "d0632237",
   "metadata": {},
   "outputs": [
    {
     "name": "stdout",
     "output_type": "stream",
     "text": [
      "[6.7, 7.3, 7.8, 8.2, 8.4, 6.4, 7.5, 6.7, 5.2, 5.3, 6.5, 5.1, 6.1, 7.9, 8.7, 8.0, 8.8, 6.4, 7.0, 7.4, 6.6, 7.2, 7.0, 7.3, 7.3, 7.7]\n"
     ]
    }
   ],
   "source": [
    "VST_Score_STR_LIST = ['6.7', '7.3', '7.8', '8.2', '8.4', '6.4', '7.5', '6.7', '5.2', '5.3', '6.5'\n",
    "                 , '5.1', '6.1', '7.9', '8.7', '8.0', '8.8', '6.4', '7.0', '7.4', '6.6', '7.2'\n",
    "                 , '7.0', '7.3', '7.3', '7.7']  # 26 subs\n",
    "\n",
    "tmpLIST = []\n",
    "for i in VST_Score_STR_LIST:\n",
    "    tmp = float(i)\n",
    "    tmpLIST.append(tmp)\n",
    "    \n",
    "print(tmpLIST)"
   ]
  },
  {
   "cell_type": "code",
   "execution_count": 19,
   "id": "d4559aa2",
   "metadata": {},
   "outputs": [
    {
     "ename": "KeyError",
     "evalue": "'VST_score'",
     "output_type": "error",
     "traceback": [
      "\u001b[0;31m---------------------------------------------------------------------------\u001b[0m",
      "\u001b[0;31mKeyError\u001b[0m                                  Traceback (most recent call last)",
      "Cell \u001b[0;32mIn [19], line 1\u001b[0m\n\u001b[0;32m----> 1\u001b[0m p \u001b[38;5;241m=\u001b[39m plot\u001b[38;5;241m.\u001b[39mScatter(\u001b[38;5;28mstr\u001b[39m(\u001b[43mds\u001b[49m\u001b[43m[\u001b[49m\u001b[38;5;124;43m'\u001b[39;49m\u001b[38;5;124;43mVST_score\u001b[39;49m\u001b[38;5;124;43m'\u001b[39;49m\u001b[43m]\u001b[49m), \u001b[38;5;124m'\u001b[39m\u001b[38;5;124mSex\u001b[39m\u001b[38;5;124m'\u001b[39m, data\u001b[38;5;241m=\u001b[39mds, h\u001b[38;5;241m=\u001b[39m\u001b[38;5;241m3\u001b[39m)\n",
      "File \u001b[0;32m/Applications/anaconda3/envs/eelbrain_0_36/lib/python3.10/site-packages/eelbrain/_data_obj.py:5909\u001b[0m, in \u001b[0;36mDataset.__getitem__\u001b[0;34m(self, index)\u001b[0m\n\u001b[1;32m   5907\u001b[0m     \u001b[38;5;28;01mreturn\u001b[39;00m \u001b[38;5;28mself\u001b[39m\u001b[38;5;241m.\u001b[39msub(index)\n\u001b[1;32m   5908\u001b[0m \u001b[38;5;28;01melif\u001b[39;00m \u001b[38;5;28misinstance\u001b[39m(index, \u001b[38;5;28mstr\u001b[39m):\n\u001b[0;32m-> 5909\u001b[0m     \u001b[38;5;28;01mreturn\u001b[39;00m \u001b[38;5;28;43msuper\u001b[39;49m\u001b[43m(\u001b[49m\u001b[43mDataset\u001b[49m\u001b[43m,\u001b[49m\u001b[43m \u001b[49m\u001b[38;5;28;43mself\u001b[39;49m\u001b[43m)\u001b[49m\u001b[38;5;241;43m.\u001b[39;49m\u001b[38;5;21;43m__getitem__\u001b[39;49m\u001b[43m(\u001b[49m\u001b[43mindex\u001b[49m\u001b[43m)\u001b[49m\n\u001b[1;32m   5910\u001b[0m \u001b[38;5;28;01melif\u001b[39;00m \u001b[38;5;28misinstance\u001b[39m(index, Integral):\n\u001b[1;32m   5911\u001b[0m     \u001b[38;5;28;01mreturn\u001b[39;00m \u001b[38;5;28mself\u001b[39m\u001b[38;5;241m.\u001b[39mget_case(index)\n",
      "\u001b[0;31mKeyError\u001b[0m: 'VST_score'"
     ]
    }
   ],
   "source": [
    "p = plot.Scatter(str(ds['VST_score']), 'Sex', data=ds, h=3)"
   ]
  },
  {
   "cell_type": "code",
   "execution_count": 7,
   "id": "b6bdfc77",
   "metadata": {},
   "outputs": [
    {
     "name": "stdout",
     "output_type": "stream",
     "text": [
      "26\n",
      "<class 'numpy.ndarray'>\n"
     ]
    }
   ],
   "source": [
    "VST_ScoreLIST = np.asarray([6.7, 7.3, 7.8, 8.2, 8.4, 6.4, 7.5, 6.7, 5.2, 5.3, 6.5, 5.1, 6.1\n",
    "                 , 7.9, 8.7, 8, 8.8, 6.4, 7, 7.4, 6.6, 7.2, 7, 7.3, 7.3, 7.7])  # 26 subs\n",
    "print(len(VST_ScoreLIST))\n",
    "print(type(VST_ScoreLIST))"
   ]
  },
  {
   "cell_type": "code",
   "execution_count": null,
   "id": "3dd9671a",
   "metadata": {},
   "outputs": [],
   "source": []
  }
 ],
 "metadata": {
  "kernelspec": {
   "display_name": "Python 3 (ipykernel)",
   "language": "python",
   "name": "python3"
  },
  "language_info": {
   "codemirror_mode": {
    "name": "ipython",
    "version": 3
   },
   "file_extension": ".py",
   "mimetype": "text/x-python",
   "name": "python",
   "nbconvert_exporter": "python",
   "pygments_lexer": "ipython3",
   "version": "3.10.6"
  }
 },
 "nbformat": 4,
 "nbformat_minor": 5
}
