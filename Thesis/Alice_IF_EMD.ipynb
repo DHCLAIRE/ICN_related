{
 "cells": [
  {
   "cell_type": "code",
   "execution_count": 19,
   "id": "5b15b5ba",
   "metadata": {},
   "outputs": [
    {
     "name": "stdout",
     "output_type": "stream",
     "text": [
      "Using matplotlib backend: MacOSX\n"
     ]
    }
   ],
   "source": [
    "%matplotlib"
   ]
  },
  {
   "cell_type": "code",
   "execution_count": 1,
   "id": "11613b5b",
   "metadata": {},
   "outputs": [],
   "source": [
    "from pathlib import Path\n",
    "import re\n",
    "from pprint import pprint\n",
    "\n",
    "import numpy as np\n",
    "from scipy import signal, ndimage\n",
    "import matplotlib.pyplot as plt\n",
    "from matplotlib import pyplot\n",
    "\n",
    "import emd\n",
    "import eelbrain\n",
    "import mne\n",
    "import trftools"
   ]
  },
  {
   "cell_type": "markdown",
   "id": "a79a8f6e",
   "metadata": {},
   "source": [
    "## How to get the IF from the envelope, and turn it into the TRF?\n",
    "\n",
    "1. Load in the envelope\n",
    "2. Emd sift the envelope\n",
    "3. Save the IF value\n",
    "4. Pack the IF value with the sensor\n",
    "5. Calculate the IF's TRF"
   ]
  },
  {
   "cell_type": "code",
   "execution_count": 3,
   "id": "81c8e883",
   "metadata": {},
   "outputs": [
    {
     "name": "stdout",
     "output_type": "stream",
     "text": [
      "['S13_Alice-natives_sfreq-100_raw.fif', 'S14_Alice-natives_sfreq-100_raw.fif', 'S12_Alice-natives_sfreq-100_raw.fif', 'S15_Alice-natives_sfreq-100_raw.fif', 'S11_Alice-natives_sfreq-100_raw.fif', 'S16_Alice-natives_sfreq-100_raw.fif', 'S17_Alice-natives_sfreq-100_raw.fif', 'S18_Alice-natives_sfreq-100_raw.fif', 'S19_Alice-natives_sfreq-100_raw.fif', 'S20_Alice-natives_sfreq-100_raw.fif', 'S21_Alice-natives_sfreq-100_raw.fif', 'S01_Alice-natives_sfreq-100_raw.fif', 'S03_Alice-natives_sfreq-100_raw.fif', 'S04_Alice-natives_sfreq-100_raw.fif', 'S05_Alice-natives_sfreq-100_raw.fif', 'S06_Alice-natives_sfreq-100_raw.fif', 'S08_Alice-natives_sfreq-100_raw.fif', 'S10_Alice-natives_sfreq-100_raw.fif', 'S22_Alice-natives_sfreq-100_raw.fif', 'S25_Alice-natives_sfreq-100_raw.fif', 'S26_Alice-natives_sfreq-100_raw.fif', 'S34_Alice-natives_sfreq-100_raw.fif', 'S35_Alice-natives_sfreq-100_raw.fif', 'S36_Alice-natives_sfreq-100_raw.fif', 'S37_Alice-natives_sfreq-100_raw.fif', 'S38_Alice-natives_sfreq-100_raw.fif', 'S39_Alice-natives_sfreq-100_raw.fif', 'S40_Alice-natives_sfreq-100_raw.fif', 'S41_Alice-natives_sfreq-100_raw.fif', 'S42_Alice-natives_sfreq-100_raw.fif', 'S44_Alice-natives_sfreq-100_raw.fif', 'S45_Alice-natives_sfreq-100_raw.fif', 'S48_Alice-natives_sfreq-100_raw.fif']\n",
      "33\n"
     ]
    }
   ],
   "source": [
    "## NATIVES ##\n",
    "\n",
    "STIMULI = [str(i) for i in range(1, 13)]\n",
    "DATA_ROOT = Path(\"/Volumes/Neurolang_1/Master Program/New_Thesis_topic/Experiments_Results\")  #Path(\"~\").expanduser() / 'Data' / 'Alice'\n",
    "PREDICTOR_audio_DIR = DATA_ROOT / 'TRFs_pridictors/audio_predictors'\n",
    "PREDICTOR_word_DIR = DATA_ROOT / 'TRFs_pridictors/word_predictors'\n",
    "EEG_DIR = DATA_ROOT / 'EEG_Natives' / 'Alice_natives_ICAed_fif'\n",
    "Native_SUBJECTS = [path.name for path in EEG_DIR.iterdir() if re.match(r'S\\d*', path.name)]\n",
    "# Define a target directory for TRF estimates and make sure the directory is created\n",
    "TRF_DIR = DATA_ROOT / 'TRFs_Natives'\n",
    "TRF_DIR.mkdir(exist_ok=True)\n",
    "print(Native_SUBJECTS)\n",
    "print(len(Native_SUBJECTS))"
   ]
  },
  {
   "cell_type": "code",
   "execution_count": 20,
   "id": "01186976",
   "metadata": {},
   "outputs": [
    {
     "name": "stdout",
     "output_type": "stream",
     "text": [
      "[0. 0. 0. ... 0. 0. 0.]\n"
     ]
    },
    {
     "data": {
      "text/plain": [
       "[<matplotlib.lines.Line2D at 0x14f58b580>]"
      ]
     },
     "execution_count": 20,
     "metadata": {},
     "output_type": "execute_result"
    }
   ],
   "source": [
    "# Load the broad-band envelope and process it in the same way\n",
    "envelope = [eelbrain.load.unpickle(PREDICTOR_audio_DIR / f'{stimulus}~gammatone-1.pickle') for stimulus in STIMULI]  # Load in the data\n",
    "\"\"\"# Code Explanation\n",
    "envelopeL = []\n",
    "for stimulus in STIMULI:\n",
    "    envelope = eelbrain.load.unpickle(PREDICTOR_audio_DIR / f'{stimulus}~gammatone-1.pickle')\n",
    "    print(envelope)\n",
    "    envelopeL.append(envelope)\n",
    "\"\"\"\n",
    "\n",
    "envelope = [x.bin(0.01, dim='time', label='start') for x in envelope]\n",
    "#print(envelope)\n",
    "\"\"\" # Code Explanation\n",
    "envelopeL_2 = []\n",
    "for x in envelope:\n",
    "    envelope = x.bin(0.01, dim='time', label='start')\n",
    "    envelopeL_2.append(envelope)\n",
    "\"\"\"\n",
    "envelope = [trftools.pad(x, tstart=-0.100, tstop=x.time.tstop + 1, name='envelope') for x in envelope]\n",
    "#print(envelope)\n",
    "#dir(envelope[1])\n",
    "\n",
    "print(envelope[1].get_data())\n",
    "\n",
    "plt.plot(envelope[1].get_data())"
   ]
  },
  {
   "cell_type": "code",
   "execution_count": null,
   "id": "dab925c8",
   "metadata": {},
   "outputs": [],
   "source": [
    "\"\"\"\n",
    "# Try\n",
    "env_x_AllLIST = []\n",
    "for env_x in envelope:\n",
    "    env_xLIST = []\n",
    "    for i in range(len(env_x)):\n",
    "        x = env_x[i]\n",
    "        print(x)\n",
    "    print()\n",
    "    print()\n",
    "        #env_xLIST.append(x)\n",
    "    #env_x_AllLIST.append(env_xLIST)\n",
    "#print(env_x_AllLIST)\n",
    "\"\"\""
   ]
  },
  {
   "cell_type": "code",
   "execution_count": 24,
   "id": "20432fcc",
   "metadata": {},
   "outputs": [
    {
     "name": "stdout",
     "output_type": "stream",
     "text": [
      "[18.86807686  9.43403843  4.71701922  2.35850961  1.1792548   0.5896274 ]\n"
     ]
    },
    {
     "data": {
      "text/plain": [
       "''"
      ]
     },
     "execution_count": 24,
     "metadata": {},
     "output_type": "execute_result"
    }
   ],
   "source": [
    "sample_rate = 100\n",
    "imf, mask_freqs = emd.sift.mask_sift(envelope[1].get_data(), ret_mask_freq=True, max_imfs=6)  # delete >>, mask_freqs=30/sample_rate\n",
    "\n",
    "# xy = envelope data \n",
    "print(mask_freqs * sample_rate)\n",
    "\n",
    "emd.plotting.plot_imfs(imf)\n",
    "\n",
    "# 每個ＩＭＦ的順時頻率都做一個TRF 去跑統計\n",
    "\"\"\"\n",
    "[18.86807686  9.43403843  4.71701922  2.35850961  1.1792548   0.5896274 ]>> = 每個IMF最多的頻率\n",
    "4hz>> close to the syllables, 18 hz >> close to phoneme speed, but normally we consider syllables as speed\n",
    ">> use the third IMF >> \n",
    "# IP, IF, IA = emd.spectra.frequency_transform(imf, sample_rate, 'hilbert') get the IF\n",
    "\"\"\""
   ]
  },
  {
   "cell_type": "code",
   "execution_count": null,
   "id": "866364f9",
   "metadata": {},
   "outputs": [],
   "source": []
  }
 ],
 "metadata": {
  "kernelspec": {
   "display_name": "Python 3 (ipykernel)",
   "language": "python",
   "name": "python3"
  },
  "language_info": {
   "codemirror_mode": {
    "name": "ipython",
    "version": 3
   },
   "file_extension": ".py",
   "mimetype": "text/x-python",
   "name": "python",
   "nbconvert_exporter": "python",
   "pygments_lexer": "ipython3",
   "version": "3.9.9"
  }
 },
 "nbformat": 4,
 "nbformat_minor": 5
}
